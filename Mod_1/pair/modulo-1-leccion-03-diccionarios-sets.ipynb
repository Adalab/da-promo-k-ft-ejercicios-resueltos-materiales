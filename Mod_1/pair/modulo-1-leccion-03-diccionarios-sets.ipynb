{
 "cells": [
  {
   "attachments": {},
   "cell_type": "markdown",
   "metadata": {},
   "source": [
    "# Ejercicios *pair programming* diccionarios"
   ]
  },
  {
   "attachments": {},
   "cell_type": "markdown",
   "metadata": {},
   "source": [
    "1. Ejercicio: Crear un diccionario vacío\n",
    "   - Descripción: Crea un diccionario vacío sin ningún par clave-valor"
   ]
  },
  {
   "cell_type": "code",
   "execution_count": 9,
   "metadata": {},
   "outputs": [
    {
     "name": "stdout",
     "output_type": "stream",
     "text": [
      "{}\n"
     ]
    }
   ],
   "source": [
    "diccionario_vacio = {}\n",
    "print(diccionario_vacio)"
   ]
  },
  {
   "attachments": {},
   "cell_type": "markdown",
   "metadata": {},
   "source": [
    "\n",
    "2. Ejercicio: Crear un diccionario con elementos\n",
    "   - Descripción: Crea un diccionario con pares clave-valor predefinidos. Definir el diccionario con las claves y valores que querais. "
   ]
  },
  {
   "cell_type": "code",
   "execution_count": 10,
   "metadata": {},
   "outputs": [
    {
     "name": "stdout",
     "output_type": "stream",
     "text": [
      "{'nombre': 'Ana', 'edad': 25, 'ciudad': 'Madrid'}\n"
     ]
    }
   ],
   "source": [
    "diccionario = {\"nombre\": \"Ana\", \"edad\": 25, \"ciudad\": \"Madrid\"}\n",
    "print(diccionario)"
   ]
  },
  {
   "attachments": {},
   "cell_type": "markdown",
   "metadata": {},
   "source": [
    "\n",
    "3. Ejercicio: Acceder al valor de una clave en un diccionario\n",
    "   - Descripción: Usando el diccionario creado en el paso anterior, obtén el valor correspondiente a una clave específica que indique el usuario (debereis usar la función `input()` para preguntar al usuario).\n",
    "\n",
    "   **BONUS**: En el input, incluye una lista con las posibles opciones que tiene el usuario. Somos programamdoras, por lo tanto, no debereis crear el código necesario para que valga para cualquier diccionario. "
   ]
  },
  {
   "cell_type": "code",
   "execution_count": 11,
   "metadata": {},
   "outputs": [
    {
     "name": "stdout",
     "output_type": "stream",
     "text": [
      "25\n"
     ]
    }
   ],
   "source": [
    "clave = input(f\"¿que valor quieres extraer teniendo en cuenta que las keys son {list(diccionario.keys())}\")\n",
    "valor_edad = diccionario[clave]\n",
    "print(valor_edad)"
   ]
  },
  {
   "attachments": {},
   "cell_type": "markdown",
   "metadata": {},
   "source": [
    "\n",
    "4. Ejercicio: Agregar un nuevo par clave-valor a un diccionario\n",
    "   - Descripción: Usando el diccionario creado en el ejercicio 2, agrega un nuevo par clave-valor."
   ]
  },
  {
   "cell_type": "code",
   "execution_count": 12,
   "metadata": {},
   "outputs": [
    {
     "name": "stdout",
     "output_type": "stream",
     "text": [
      "{'nombre': 'Ana', 'edad': 25, 'ciudad': 'Madrid', 'hijos': 1}\n"
     ]
    }
   ],
   "source": [
    "diccionario[\"hijos\"] = 1\n",
    "print(diccionario)"
   ]
  },
  {
   "attachments": {},
   "cell_type": "markdown",
   "metadata": {},
   "source": [
    "5. Ejercicio: Actualizar el valor de una clave en un diccionario\n",
    "   - Descripción: Usando el diccionario creado en el ejercicio 2, actualiza el valor correspondiente a una clave existente."
   ]
  },
  {
   "cell_type": "code",
   "execution_count": 13,
   "metadata": {},
   "outputs": [
    {
     "data": {
      "text/plain": [
       "{'nombre': 'Ana', 'edad': 40, 'ciudad': 'Madrid', 'hijos': 1}"
      ]
     },
     "execution_count": 13,
     "metadata": {},
     "output_type": "execute_result"
    }
   ],
   "source": [
    "diccionario[\"edad\"] = 40\n",
    "diccionario"
   ]
  },
  {
   "attachments": {},
   "cell_type": "markdown",
   "metadata": {},
   "source": [
    "6. Ejercicio: Eliminar un par clave-valor de un diccionario\n",
    "   - Descripción: Usando el diccionario creado en el ejercicio 2, elimina un par clave-valor específico que indique el usuario (debereis usar la función `input()` para preguntar al usuario)."
   ]
  },
  {
   "cell_type": "code",
   "execution_count": 14,
   "metadata": {},
   "outputs": [
    {
     "data": {
      "text/plain": [
       "{'nombre': 'Ana', 'ciudad': 'Madrid', 'hijos': 1}"
      ]
     },
     "execution_count": 14,
     "metadata": {},
     "output_type": "execute_result"
    }
   ],
   "source": [
    "eliminar = input(\"¿Que clave quieres eliminar?\")\n",
    "diccionario.pop(eliminar)\n",
    "diccionario"
   ]
  },
  {
   "attachments": {},
   "cell_type": "markdown",
   "metadata": {},
   "source": [
    "\n",
    "7. Ejercicio: Verificar si una clave está presente en un diccionario\n",
    "   - Descripción: Dado un diccionario, verifica si una clave específica está presente en él. La clave a buscar debe ser pasada por el usuario, debereis usar un `input()`."
   ]
  },
  {
   "cell_type": "code",
   "execution_count": 15,
   "metadata": {},
   "outputs": [
    {
     "data": {
      "text/plain": [
       "False"
      ]
     },
     "execution_count": 15,
     "metadata": {},
     "output_type": "execute_result"
    }
   ],
   "source": [
    "testear = input(\"¿Que clave quieres buscar?\")\n",
    "testear in diccionario.keys()"
   ]
  },
  {
   "attachments": {},
   "cell_type": "markdown",
   "metadata": {},
   "source": [
    "\n",
    "8. Ejercicio: Obtener una lista de todas las claves de un diccionario\n",
    "   - Descripción: Dado un diccionario, obtén una lista con todas las claves que contiene."
   ]
  },
  {
   "cell_type": "code",
   "execution_count": 16,
   "metadata": {},
   "outputs": [
    {
     "name": "stdout",
     "output_type": "stream",
     "text": [
      "['nombre', 'ciudad', 'hijos']\n"
     ]
    }
   ],
   "source": [
    "claves = list(diccionario.keys())\n",
    "print(claves)"
   ]
  },
  {
   "attachments": {},
   "cell_type": "markdown",
   "metadata": {},
   "source": [
    "\n",
    "9. Ejercicio: Obtener una lista de todos los valores de un diccionario\n",
    "   - Descripción: Usando el diccionario creado en el ejercicio 2, obtén una lista con todos los valores que contiene.\n"
   ]
  },
  {
   "cell_type": "code",
   "execution_count": 18,
   "metadata": {},
   "outputs": [
    {
     "name": "stdout",
     "output_type": "stream",
     "text": [
      "['Ana', 'Madrid', 1]\n"
     ]
    }
   ],
   "source": [
    "values = list(diccionario.values())s\n",
    "print(values)"
   ]
  },
  {
   "attachments": {},
   "cell_type": "markdown",
   "metadata": {},
   "source": [
    "\n",
    "10. Ejercicio: Utilizar el método `setdefault()` para establecer un valor predeterminado si la clave no existe\n",
    "    - Descripción: Usando el diccionario creado en el ejercicio 2, obten el valor correspondiente a una clave. Si la clave no existe, establece un valor predeterminado y devuelve dicho valor."
   ]
  },
  {
   "cell_type": "code",
   "execution_count": 19,
   "metadata": {},
   "outputs": [
    {
     "name": "stdout",
     "output_type": "stream",
     "text": [
      "{'nombre': 'Ana', 'edad': 25, 'ciudad': 'Madrid'}\n",
      "Madrid\n"
     ]
    }
   ],
   "source": [
    "diccionario = {\"nombre\": \"Ana\", \"edad\": 25}\n",
    "valor_ciudad = diccionario.setdefault(\"ciudad\", \"Madrid\")\n",
    "print(diccionario)\n",
    "print(valor_ciudad)"
   ]
  },
  {
   "cell_type": "code",
   "execution_count": 20,
   "metadata": {},
   "outputs": [
    {
     "name": "stdout",
     "output_type": "stream",
     "text": [
      "Diccionario después de pop('nombre'): {'edad': 25, 'ciudad': 'Madrid'}\n",
      "Valor eliminado por pop(): Ana\n",
      "Diccionario después de popitem(): {'edad': 25}\n",
      "Par clave-valor eliminado por popitem(): ciudad Madrid\n"
     ]
    }
   ],
   "source": [
    "\n",
    "# Eliminar un valor específico utilizando pop()\n",
    "valor_b = diccionario.pop(\"nombre\")\n",
    "print(\"Diccionario después de pop('nombre'):\", diccionario)\n",
    "print(\"Valor eliminado por pop():\", valor_b)\n",
    "\n",
    "# Eliminar un par clave-valor arbitrario utilizando popitem()\n",
    "clave, valor = diccionario.popitem()\n",
    "print(\"Diccionario después de popitem():\", diccionario)\n",
    "print(\"Par clave-valor eliminado por popitem():\", clave, valor)"
   ]
  },
  {
   "attachments": {},
   "cell_type": "markdown",
   "metadata": {},
   "source": [
    "# Ejercicios *pair programming* sets"
   ]
  },
  {
   "attachments": {},
   "cell_type": "markdown",
   "metadata": {},
   "source": [
    "1. Ejercicio: Crear un conjunto vacío\n",
    "   - Descripción: Crea un conjunto vacío sin ningún elemento."
   ]
  },
  {
   "cell_type": "code",
   "execution_count": 21,
   "metadata": {},
   "outputs": [
    {
     "name": "stdout",
     "output_type": "stream",
     "text": [
      "set()\n"
     ]
    }
   ],
   "source": [
    "conjunto_vacio = set()\n",
    "print(conjunto_vacio)"
   ]
  },
  {
   "attachments": {},
   "cell_type": "markdown",
   "metadata": {},
   "source": [
    "2. Ejercicio: Crear un conjunto con elementos\n",
    "   - Descripción: Crea un conjunto con elementos predefinidos."
   ]
  },
  {
   "cell_type": "code",
   "execution_count": 22,
   "metadata": {},
   "outputs": [
    {
     "name": "stdout",
     "output_type": "stream",
     "text": [
      "{1, 2, 3, 4, 5}\n"
     ]
    }
   ],
   "source": [
    "conjunto = {1, 2, 3, 4, 5}\n",
    "print(conjunto)"
   ]
  },
  {
   "attachments": {},
   "cell_type": "markdown",
   "metadata": {},
   "source": [
    "3. Ejercicio: Agregar elementos a un conjunto\n",
    "   - Descripción: Usando el set creado en el ejercicio 2, agrega nuevos elementos. Debereis agregar por separado:\n",
    "        - Un elemento solo\n",
    "        - Un par de elementos a la vez. "
   ]
  },
  {
   "cell_type": "code",
   "execution_count": 23,
   "metadata": {},
   "outputs": [
    {
     "name": "stdout",
     "output_type": "stream",
     "text": [
      "{1, 2, 3, 4, 5, 57, 10, 62}\n"
     ]
    }
   ],
   "source": [
    "conjunto.add(10)\n",
    "conjunto.update([57, 62])\n",
    "print(conjunto)"
   ]
  },
  {
   "attachments": {},
   "cell_type": "markdown",
   "metadata": {},
   "source": [
    "4. Ejercicio: Eliminar un elemento de un conjunto\n",
    "   - Descripción:  Usando el set creado en el ejercicio 2, elimina un elemento especificado por el usuario."
   ]
  },
  {
   "cell_type": "code",
   "execution_count": 24,
   "metadata": {},
   "outputs": [
    {
     "name": "stdout",
     "output_type": "stream",
     "text": [
      "{1, 2, 3, 4, 5, 57, 10}\n"
     ]
    }
   ],
   "source": [
    "eliminar_set = int(input(f\"Que elementos quieres eliminar del set {conjunto}\"))\n",
    "conjunto.remove(eliminar_set)\n",
    "print(conjunto)"
   ]
  },
  {
   "attachments": {},
   "cell_type": "markdown",
   "metadata": {},
   "source": [
    "5. Ejercicio: Verificar la pertenencia de un elemento en un conjunto\n",
    "   - Descripción: Usando el set creado en el ejercicio 2, verifica si un elemento específico está presente en él."
   ]
  },
  {
   "cell_type": "code",
   "execution_count": 25,
   "metadata": {},
   "outputs": [
    {
     "name": "stdout",
     "output_type": "stream",
     "text": [
      "True\n"
     ]
    }
   ],
   "source": [
    "elemento = 3\n",
    "resultado = elemento in conjunto\n",
    "print(resultado)"
   ]
  },
  {
   "attachments": {},
   "cell_type": "markdown",
   "metadata": {},
   "source": [
    "\n",
    "6. Ejercicio: Realizar una unión de conjuntos\n",
    "   - Descripción: Dados dos conjuntos, realiza una unión de ellos."
   ]
  },
  {
   "cell_type": "code",
   "execution_count": 26,
   "metadata": {},
   "outputs": [
    {
     "name": "stdout",
     "output_type": "stream",
     "text": [
      "{1, 2, 3, 4, 5}\n"
     ]
    }
   ],
   "source": [
    "conjunto1 = {1, 2, 3}\n",
    "conjunto2 = {3, 4, 5}\n",
    "union = conjunto1.union(conjunto2)\n",
    "print(union)"
   ]
  },
  {
   "attachments": {},
   "cell_type": "markdown",
   "metadata": {},
   "source": [
    "\n",
    "7. Ejercicio: Realizar una intersección de conjuntos\n",
    "   - Descripción: Usando dos conjuntos de datos definidos en el ejercicio anterior, realiza una intersección de ellos.\n"
   ]
  },
  {
   "cell_type": "code",
   "execution_count": 27,
   "metadata": {},
   "outputs": [
    {
     "name": "stdout",
     "output_type": "stream",
     "text": [
      "{3}\n"
     ]
    }
   ],
   "source": [
    "interseccion = conjunto1.intersection(conjunto2)\n",
    "print(interseccion)"
   ]
  },
  {
   "attachments": {},
   "cell_type": "markdown",
   "metadata": {},
   "source": [
    "8. Ejercicio: Realizar una diferencia de conjuntos\n",
    "   - Descripción: Usando dos conjuntos de datos definidos en el ejercicio anterior, realiza una diferencia entre ellos."
   ]
  },
  {
   "cell_type": "code",
   "execution_count": 28,
   "metadata": {},
   "outputs": [
    {
     "name": "stdout",
     "output_type": "stream",
     "text": [
      "{1, 2}\n"
     ]
    }
   ],
   "source": [
    "diferencia = conjunto1.difference(conjunto2)\n",
    "print(diferencia)"
   ]
  },
  {
   "attachments": {},
   "cell_type": "markdown",
   "metadata": {},
   "source": [
    "9. Ejercicio: Verificar si un conjunto es subconjunto de otro\n",
    "   - Descripción: Dados dos conjuntos, verifica si uno es subconjunto del otro.\n",
    "  "
   ]
  },
  {
   "cell_type": "code",
   "execution_count": 29,
   "metadata": {},
   "outputs": [
    {
     "name": "stdout",
     "output_type": "stream",
     "text": [
      "False\n"
     ]
    }
   ],
   "source": [
    "es_subconjunto = conjunto1.issubset(conjunto2)\n",
    "print(es_subconjunto)"
   ]
  }
 ],
 "metadata": {
  "kernelspec": {
   "display_name": "promoe",
   "language": "python",
   "name": "python3"
  },
  "language_info": {
   "codemirror_mode": {
    "name": "ipython",
    "version": 3
   },
   "file_extension": ".py",
   "mimetype": "text/x-python",
   "name": "python",
   "nbconvert_exporter": "python",
   "pygments_lexer": "ipython3",
   "version": "3.10.11"
  },
  "orig_nbformat": 4
 },
 "nbformat": 4,
 "nbformat_minor": 2
}
