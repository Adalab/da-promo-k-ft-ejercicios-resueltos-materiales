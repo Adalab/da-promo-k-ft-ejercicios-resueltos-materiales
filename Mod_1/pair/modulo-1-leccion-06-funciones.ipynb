{
 "cells": [
  {
   "attachments": {},
   "cell_type": "markdown",
   "metadata": {},
   "source": [
    "# *Pair programming* funciones\n"
   ]
  },
  {
   "cell_type": "code",
   "execution_count": 3,
   "metadata": {},
   "outputs": [
    {
     "name": "stdout",
     "output_type": "stream",
     "text": [
      "El área del círculo es: 3.14\n"
     ]
    }
   ],
   "source": [
    "import math\n",
    "\n",
    "def calcular_area_circulo(radio):\n",
    "    area = math.pi * radio**2\n",
    "    return area\n",
    "\n",
    "radio = float(input(\"Ingresa el radio del círculo: \"))\n",
    "area_circulo = calcular_area_circulo(radio)\n",
    "print(\"El área del círculo es:\", round(area_circulo,2))"
   ]
  },
  {
   "attachments": {},
   "cell_type": "markdown",
   "metadata": {},
   "source": [
    "2. Ejercicio: Contar la cantidad de caracteres en una cadena.\n",
    "   - Descripción: Crea una función llamada `contar_caracteres` que tome una cadena como parámetro y devuelva la cantidad de caracteres que contiene.\n"
   ]
  },
  {
   "cell_type": "code",
   "execution_count": 4,
   "metadata": {},
   "outputs": [
    {
     "name": "stdout",
     "output_type": "stream",
     "text": [
      "La cantidad de caracteres es: 10\n"
     ]
    }
   ],
   "source": [
    "def contar_caracteres(cadena):\n",
    "    return len(cadena)\n",
    "\n",
    "cadena = input(\"Ingresa una cadena de texto: \")\n",
    "cantidad_caracteres = contar_caracteres(cadena)\n",
    "print(\"La cantidad de caracteres es:\", cantidad_caracteres)"
   ]
  },
  {
   "attachments": {},
   "cell_type": "markdown",
   "metadata": {},
   "source": [
    "\n",
    "3. Ejercicio: Determinar si una cadena es un palíndromo.\n",
    "   - Descripción: Crea una función llamada `es_palindromo` que tome una cadena como parámetro y devuelva `True` si es un palíndromo, o `False` si no lo es.\n",
    "   - [¿Qué es un palíndromo?](https://dle.rae.es/pal%C3%ADndromo)"
   ]
  },
  {
   "cell_type": "code",
   "execution_count": null,
   "metadata": {},
   "outputs": [
    {
     "name": "stdout",
     "output_type": "stream",
     "text": [
      "La palabra no es un palíndromo.\n"
     ]
    }
   ],
   "source": [
    "def es_palindromo(cadena):\n",
    "    cadena = cadena.lower().replace(\" \", \"\")\n",
    "    return cadena == cadena[::-1]\n",
    "\n",
    "palabra = input(\"Ingresa una palabra: \")\n",
    "if es_palindromo(palabra):\n",
    "    print(\"La palabra es un palíndromo.\")\n",
    "else:\n",
    "    print(\"La palabra no es un palíndromo.\")"
   ]
  },
  {
   "attachments": {},
   "cell_type": "markdown",
   "metadata": {},
   "source": [
    "4. Ejercicio: Calcular el promedio de una lista de números.\n",
    "   - Descripción: Crea una función llamada `calcular_promedio` que tome una lista de números como parámetro y devuelva el promedio de todos sus elementos."
   ]
  },
  {
   "cell_type": "code",
   "execution_count": 6,
   "metadata": {},
   "outputs": [
    {
     "name": "stdout",
     "output_type": "stream",
     "text": [
      "El promedio de los números es: 5.2\n"
     ]
    }
   ],
   "source": [
    "def calcular_promedio(lista):\n",
    "    return sum(lista) / len(lista)\n",
    "\n",
    "numeros = [7, 4, 8, 2, 5]\n",
    "promedio = calcular_promedio(numeros)\n",
    "print(\"El promedio de los números es:\", promedio)"
   ]
  },
  {
   "attachments": {},
   "cell_type": "markdown",
   "metadata": {},
   "source": [
    "5. Ejercicio: Calcular el interés compuesto.\n",
    "   - Descripción: Crea una función llamada `calcular_interes_compuesto` que tome el capital inicial, la tasa de interés y el número de períodos como parámetros y devuelva el beneficio final después del interés compuesto."
   ]
  },
  {
   "cell_type": "code",
   "execution_count": 7,
   "metadata": {},
   "outputs": [
    {
     "name": "stdout",
     "output_type": "stream",
     "text": [
      "El monto final después del interés compuesto es: 2.0808\n"
     ]
    }
   ],
   "source": [
    "def calcular_interes_compuesto(capital, tasa, periodos):\n",
    "    monto = capital * (1 + tasa)**periodos\n",
    "    return monto\n",
    "\n",
    "capital_inicial = float(input(\"Ingresa el capital inicial: \"))\n",
    "tasa_interes = float(input(\"Ingresa la tasa de interés (por ejemplo, 0.05 para 5%): \"))\n",
    "numero_periodos = int(input(\"Ingresa el número de períodos: \"))\n",
    "monto_final = calcular_interes_compuesto(capital_inicial, tasa_interes, numero_periodos)\n",
    "print(\"El beneficio final después del interés compuesto es:\", monto_final)"
   ]
  },
  {
   "attachments": {},
   "cell_type": "markdown",
   "metadata": {},
   "source": [
    "6. Ejercicio: Validar si una palabra es un anagrama de otra.\n",
    "   - Descripción: Crea una función llamada `es_anagrama` que tome dos palabras como parámetros y devuelva `True` si una es un anagrama de la otra, o `False` si no lo es.\n",
    "   - [¿Qué es un anagrama?](https://dle.rae.es/anagrama)."
   ]
  },
  {
   "cell_type": "code",
   "execution_count": 8,
   "metadata": {},
   "outputs": [
    {
     "name": "stdout",
     "output_type": "stream",
     "text": [
      "Las palabras son anagramas.\n"
     ]
    }
   ],
   "source": [
    "def es_anagrama(palabra1, palabra2):\n",
    "    palabra1 = palabra1.lower().replace(\" \", \"\")\n",
    "    palabra2 = palabra2.lower().replace(\" \", \"\")\n",
    "    return sorted(palabra1) == sorted(palabra2)\n",
    "\n",
    "palabra_1 = input(\"Ingresa la primera palabra: \")\n",
    "palabra_2 = input(\"Ingresa la segunda palabra: \")\n",
    "if es_anagrama(palabra_1, palabra_2):\n",
    "    print(\"Las palabras son anagramas.\")\n",
    "else:\n",
    "    print(\"Las palabras no son anagramas.\")"
   ]
  },
  {
   "attachments": {},
   "cell_type": "markdown",
   "metadata": {},
   "source": [
    "\n",
    "7. Ejercicio: Validar si una cadena de texto es un isograma.\n",
    "   - Descripción: Crea una función llamada `es_isograma` que tome una cadena de texto como parámetro y devuelva `True` si es un isograma. En caso contrario, devuelve `False`.\n",
    "   - ¿Qué es un isograma? Una palabra que no contiene letras repetidas. \n"
   ]
  },
  {
   "cell_type": "code",
   "execution_count": 11,
   "metadata": {},
   "outputs": [
    {
     "name": "stdout",
     "output_type": "stream",
     "text": [
      "La palabra no es un isograma.\n"
     ]
    }
   ],
   "source": [
    "def es_isograma(cadena):\n",
    "    letras = [letra for letra in cadena.lower() if letra.isalpha()]\n",
    "    return len(letras) == len(set(letras))\n",
    "\n",
    "palabra = input(\"Ingresa una palabra: \")\n",
    "if es_isograma(palabra):\n",
    "    print(\"La palabra es un isograma.\")\n",
    "else:\n",
    "    print(\"La palabra no es un isograma.\")"
   ]
  },
  {
   "attachments": {},
   "cell_type": "markdown",
   "metadata": {},
   "source": [
    "\n",
    "\n",
    "8. Ejercicio: Concatenar múltiples cadenas de texto.\n",
    "\n",
    "    - Descripción: Crea una función llamada `concatenar_cadenas` que tome una cantidad variable de cadenas de texto como argumentos y devuelva una única cadena que contenga la concatenación de todas las cadenas ingresadas.\n"
   ]
  },
  {
   "cell_type": "code",
   "execution_count": 12,
   "metadata": {},
   "outputs": [
    {
     "name": "stdout",
     "output_type": "stream",
     "text": [
      "Resultado 1: Hola Mundo\n",
      "Resultado 2: Python es genial\n"
     ]
    }
   ],
   "source": [
    "def concatenar_cadenas(*args):\n",
    "    return ''.join(args)\n",
    "\n",
    "resultado1 = concatenar_cadenas(\"Hola\", \" \", \"Mundo\")\n",
    "resultado2 = concatenar_cadenas(\"Python\", \" \", \"es\", \" \", \"genial\")\n",
    "\n",
    "print(\"Resultado 1:\", resultado1)\n",
    "print(\"Resultado 2:\", resultado2)"
   ]
  },
  {
   "attachments": {},
   "cell_type": "markdown",
   "metadata": {},
   "source": [
    "\n",
    "9. Ejercicio: Crear un diccionario con información de una persona.\n",
    "    - Descripción: Crea una función llamada `crear_persona` que tome como argumentos clave-valor los datos de una persona, como nombre, edad, ciudad, etc., y devuelva un diccionario con toda la información ingresada.\n",
    "\n"
   ]
  },
  {
   "cell_type": "code",
   "execution_count": 13,
   "metadata": {},
   "outputs": [
    {
     "name": "stdout",
     "output_type": "stream",
     "text": [
      "Persona 1: {'nombre': 'Ana', 'edad': 25, 'ciudad': 'Madrid'}\n",
      "Persona 2: {'nombre': 'Juan', 'edad': 30, 'profesion': 'Ingeniero', 'ciudad': 'Barcelona'}\n"
     ]
    }
   ],
   "source": [
    "def crear_persona(**kwargs):\n",
    "    return kwargs\n",
    "\n",
    "persona1 = crear_persona(nombre=\"Ana\", edad=25, ciudad=\"Madrid\")\n",
    "persona2 = crear_persona(nombre=\"Juan\", edad=30, profesion=\"Ingeniero\", ciudad=\"Barcelona\")\n",
    "\n",
    "print(\"Persona 1:\", persona1)\n",
    "print(\"Persona 2:\", persona2)"
   ]
  },
  {
   "cell_type": "code",
   "execution_count": 16,
   "metadata": {},
   "outputs": [
    {
     "name": "stdout",
     "output_type": "stream",
     "text": [
      "Número faltante: 5\n"
     ]
    }
   ],
   "source": [
    "def encontrar_numero_faltante(lista):\n",
    "    numero_faltante = [i for i in range(min(lista), max(lista))if i not in lista]\n",
    "    \n",
    "    return numero_faltante[0]\n",
    "\n",
    "# Ejemplo de uso de la función\n",
    "numeros = [1, 2, 3, 4, 6, 7, 8, 9, 10]\n",
    "faltante = encontrar_numero_faltante(numeros)\n",
    "print(\"Número faltante:\", faltante)"
   ]
  },
  {
   "attachments": {},
   "cell_type": "markdown",
   "metadata": {},
   "source": [
    "11. Ejercicio: Encontrar el elemento duplicado en una lista de números.\n",
    "    - Descripción: Crea una función llamada `encontrar_duplicado` que tome una lista de números enteros y devuelva el elemento que está duplicado en la lista."
   ]
  },
  {
   "cell_type": "code",
   "execution_count": 18,
   "metadata": {},
   "outputs": [
    {
     "name": "stdout",
     "output_type": "stream",
     "text": [
      "Elemento duplicado: 3\n"
     ]
    }
   ],
   "source": [
    "def encontrar_duplicado(lista):\n",
    "    numeros_vistos = set()\n",
    "    for numero in lista:\n",
    "        if numero in numeros_vistos:\n",
    "            return numero\n",
    "        else:\n",
    "            numeros_vistos.add(numero)\n",
    "\n",
    "# Ejemplo de uso de la función\n",
    "numeros = [1, 2, 3, 4, 3, 5, 6, 7]\n",
    "duplicado = encontrar_duplicado(numeros)\n",
    "print(\"Elemento duplicado:\", duplicado)"
   ]
  },
  {
   "cell_type": "code",
   "execution_count": null,
   "metadata": {},
   "outputs": [],
   "source": []
  }
 ],
 "metadata": {
  "kernelspec": {
   "display_name": "promoe",
   "language": "python",
   "name": "python3"
  },
  "language_info": {
   "codemirror_mode": {
    "name": "ipython",
    "version": 3
   },
   "file_extension": ".py",
   "mimetype": "text/x-python",
   "name": "python",
   "nbconvert_exporter": "python",
   "pygments_lexer": "ipython3",
   "version": "3.10.11"
  },
  "orig_nbformat": 4
 },
 "nbformat": 4,
 "nbformat_minor": 2
}
