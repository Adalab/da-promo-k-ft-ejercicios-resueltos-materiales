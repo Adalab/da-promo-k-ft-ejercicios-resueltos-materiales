{
 "cells": [
  {
   "cell_type": "markdown",
   "metadata": {},
   "source": [
    "# *Pair programming* sentencias de control"
   ]
  },
  {
   "cell_type": "markdown",
   "metadata": {},
   "source": [
    "1. Ejercicio: Verificar si un número es positivo, negativo o cero\n",
    "   - Descripción: Dado un número, verifica si es positivo, negativo o cero."
   ]
  },
  {
   "cell_type": "code",
   "execution_count": 1,
   "metadata": {},
   "outputs": [
    {
     "name": "stdout",
     "output_type": "stream",
     "text": [
      "El número es positivo\n"
     ]
    }
   ],
   "source": [
    "numero = 5\n",
    "\n",
    "if numero > 0:\n",
    "    print(\"El número es positivo\")\n",
    "elif numero < 0:\n",
    "    print(\"El número es negativo\")\n",
    "else:\n",
    "    print(\"El número es cero\")"
   ]
  },
  {
   "cell_type": "markdown",
   "metadata": {},
   "source": [
    "2. Ejercicio: Verificar si un número es par o impar\n",
    "   - Descripción: Dado un número, verifica si es par o impar."
   ]
  },
  {
   "cell_type": "code",
   "execution_count": 3,
   "metadata": {},
   "outputs": [
    {
     "name": "stdout",
     "output_type": "stream",
     "text": [
      "El número es par\n"
     ]
    }
   ],
   "source": [
    "numero = 4\n",
    "\n",
    "if numero % 2 == 0:\n",
    "    print(\"El número es par\")\n",
    "else:\n",
    "    print(\"El número es impar\")"
   ]
  },
  {
   "cell_type": "markdown",
   "metadata": {},
   "source": [
    "3. Ejercicio: Verificar si un estudiante aprobó o suspendió un examen\n",
    "   - Descripción: Dada la calificación de un estudiante en un examen, verifica si aprobó o suspendió (si la calificación es mayor o igual a 60 se considera aprobado)."
   ]
  },
  {
   "cell_type": "code",
   "execution_count": 4,
   "metadata": {},
   "outputs": [
    {
     "name": "stdout",
     "output_type": "stream",
     "text": [
      "Aprobado\n"
     ]
    }
   ],
   "source": [
    "calificacion = 75\n",
    "\n",
    "if calificacion >= 60:\n",
    "    print(\"Aprobado\")\n",
    "else:\n",
    "    print(\"Reprobado\")"
   ]
  },
  {
   "cell_type": "markdown",
   "metadata": {},
   "source": [
    "4. Ejercicio: Calcular el máximo entre dos números\n",
    "   - Descripción: Dados dos números, encuentra el máximo entre ellos."
   ]
  },
  {
   "cell_type": "code",
   "execution_count": 5,
   "metadata": {},
   "outputs": [
    {
     "name": "stdout",
     "output_type": "stream",
     "text": [
      "El máximo es: 15\n"
     ]
    }
   ],
   "source": [
    "numero1 = 10\n",
    "numero2 = 15\n",
    "\n",
    "if numero1 > numero2:\n",
    "    maximo = numero1\n",
    "else:\n",
    "    maximo = numero2\n",
    "\n",
    "print(\"El máximo es:\", maximo)"
   ]
  },
  {
   "cell_type": "markdown",
   "metadata": {},
   "source": [
    "5. Ejercicio: Verificar si una letra es una vocal o una consonante\n",
    "   - Descripción: Dada una letra, verifica si es una vocal o una consonante.\n"
   ]
  },
  {
   "cell_type": "code",
   "execution_count": 6,
   "metadata": {},
   "outputs": [
    {
     "name": "stdout",
     "output_type": "stream",
     "text": [
      "Es una vocal\n"
     ]
    }
   ],
   "source": [
    "letra = 'a'\n",
    "\n",
    "if letra in ['a', 'e', 'i', 'o', 'u']:\n",
    "    print(\"Es una vocal\")\n",
    "else:\n",
    "    print(\"Es una consonante\")"
   ]
  },
  {
   "cell_type": "markdown",
   "metadata": {},
   "source": [
    "6. Ejercicio: Calcular el descuento en una compra según el monto total\n",
    "   - Descripción: Dado el monto total de una compra, calcula el descuento aplicado según las siguientes condiciones: si el monto es mayor o igual a $100, aplica un descuento del 10%; de lo contrario, no aplica ningún descuento."
   ]
  },
  {
   "cell_type": "code",
   "execution_count": 7,
   "metadata": {},
   "outputs": [
    {
     "name": "stdout",
     "output_type": "stream",
     "text": [
      "Descuento aplicado: 12.0\n"
     ]
    }
   ],
   "source": [
    "monto_total = 120\n",
    "\n",
    "if monto_total >= 100:\n",
    "    descuento = monto_total * 0.1\n",
    "else:\n",
    "    descuento = 0\n",
    "\n",
    "print(\"Descuento aplicado:\", descuento)"
   ]
  },
  {
   "cell_type": "markdown",
   "metadata": {},
   "source": [
    "7. Ejercicio: Verificar si un año es bisiesto o no\n",
    "   - Descripción: Dado un año, verifica si es bisiesto o no (un año es bisiesto si es divisible entre 4, excepto aquellos divisibles entre 100 pero no entre 400).\n"
   ]
  },
  {
   "cell_type": "code",
   "execution_count": 8,
   "metadata": {},
   "outputs": [
    {
     "name": "stdout",
     "output_type": "stream",
     "text": [
      "Es un año bisiesto\n"
     ]
    }
   ],
   "source": [
    "anio = 2024\n",
    "\n",
    "if anio % 4 == 0 and (anio % 100 != 0 or anio % 400 == 0):\n",
    "    print(\"Es un año bisiesto\")\n",
    "else:\n",
    "    print(\"No es un año bisiesto\")"
   ]
  },
  {
   "cell_type": "markdown",
   "metadata": {},
   "source": [
    "\n",
    "8. Ejercicio: Asignar una categoría a una edad\n",
    "   - Descripción: Dada una edad, asigna una categoría según las siguientes condiciones: si la edad es menor de 18, la categoría es \"Menor de edad\"; si la edad está entre 18 y 64 (incluyendo ambos), la categoría es \"Adulto\"; de lo contrario, la categoría es \"Adulto mayor\"."
   ]
  },
  {
   "cell_type": "code",
   "execution_count": 9,
   "metadata": {},
   "outputs": [
    {
     "name": "stdout",
     "output_type": "stream",
     "text": [
      "Categoría: Adulto\n"
     ]
    }
   ],
   "source": [
    "edad = 30\n",
    "\n",
    "if edad < 18:\n",
    "    categoria = \"Menor de edad\"\n",
    "elif edad >= 18 and edad <= 64:\n",
    "    categoria = \"Adulto\"\n",
    "else:\n",
    "    categoria = \"Adulto mayor\"\n",
    "\n",
    "print(\"Categoría:\", categoria)"
   ]
  },
  {
   "cell_type": "markdown",
   "metadata": {},
   "source": [
    "\n",
    "9. Ejercicio: Verificar si tres números forman un triángulo rectángulo\n",
    "   - Descripción: Dados tres números, verifica si forman un triángulo rectángulo (si se cumple el teorema de Pitágoras)."
   ]
  },
  {
   "cell_type": "code",
   "execution_count": 10,
   "metadata": {},
   "outputs": [
    {
     "name": "stdout",
     "output_type": "stream",
     "text": [
      "Forman un triángulo rectángulo\n"
     ]
    }
   ],
   "source": [
    "lado1 = 3\n",
    "lado2 = 4\n",
    "lado3 = 5\n",
    "\n",
    "if lado1**2 + lado2**2 == lado3**2 or lado1**2 + lado3**2 == lado2**2 or lado2**2 + lado3**2 == lado1**2:\n",
    "    print(\"Forman un triángulo rectángulo\")\n",
    "else:\n",
    "    print(\"No forman un triángulo rectángulo\")"
   ]
  },
  {
   "cell_type": "markdown",
   "metadata": {},
   "source": [
    "10. Ejercicio: Asignar una calificación a una puntuación\n",
    "    - Descripción: Dada una puntuación, asigna una calificación según las siguientes condiciones: si la puntuación es mayor o igual a 90, la calificación es \"A\"; si es mayor o igual a 80, la calificación es \"B\"; si es mayor o igual a 70, la calificación es \"C\"; si es mayor o igual a 60, la calificación es \"D\"; de lo contrario, la calificación es \"F\"."
   ]
  },
  {
   "cell_type": "code",
   "execution_count": 11,
   "metadata": {},
   "outputs": [
    {
     "name": "stdout",
     "output_type": "stream",
     "text": [
      "Calificación: B\n"
     ]
    }
   ],
   "source": [
    "puntuacion = 85\n",
    "\n",
    "if puntuacion >= 90:\n",
    "    calificacion = \"A\"\n",
    "elif puntuacion >= 80:\n",
    "    calificacion = \"B\"\n",
    "elif puntuacion >= 70:\n",
    "    calificacion = \"C\"\n",
    "elif puntuacion >= 60:\n",
    "    calificacion = \"D\"\n",
    "else:\n",
    "    calificacion = \"F\"\n",
    "\n",
    "print(\"Calificación:\", calificacion)"
   ]
  },
  {
   "cell_type": "markdown",
   "metadata": {},
   "source": [
    "\n",
    "11. Ejercicio: Calcular el índice de masa corporal (IMC) y categorizarlo\n",
    "\n",
    "    - Descripción: Dados el peso (en kg) y la altura (en metros) de una persona, calcula su IMC y categorízalo según las siguientes condiciones: si el IMC es menor a 18.5, es \"Bajo peso\"; si está entre 18.5 y 24.9 (inclusive), es \"Peso normal\"; si está entre 25 y 29.9 (inclusive), es \"Sobrepeso\"; de lo contrario, es \"Obesidad\"."
   ]
  },
  {
   "cell_type": "code",
   "execution_count": 12,
   "metadata": {},
   "outputs": [
    {
     "name": "stdout",
     "output_type": "stream",
     "text": [
      "Categoría del IMC: Peso normal\n"
     ]
    }
   ],
   "source": [
    "peso = 70\n",
    "altura = 1.75\n",
    "\n",
    "imc = peso / (altura ** 2)\n",
    "\n",
    "if imc < 18.5:\n",
    "    categoria = \"Bajo peso\"\n",
    "else:\n",
    "    if imc <= 24.9:\n",
    "        categoria = \"Peso normal\"\n",
    "    else:\n",
    "        if imc <= 29.9:\n",
    "            categoria = \"Sobrepeso\"\n",
    "        else:\n",
    "            categoria = \"Obesidad\"\n",
    "\n",
    "print(\"Categoría del IMC:\", categoria)\n"
   ]
  },
  {
   "cell_type": "markdown",
   "metadata": {},
   "source": [
    "12. Ejercicio: Calcular el mayor de tres números\n",
    "\n",
    "    - Descripción: Dados tres números, encuentra el mayor entre ellos."
   ]
  },
  {
   "cell_type": "code",
   "execution_count": 13,
   "metadata": {},
   "outputs": [
    {
     "name": "stdout",
     "output_type": "stream",
     "text": [
      "El mayor es: 10\n"
     ]
    }
   ],
   "source": [
    "numero1 = 5\n",
    "numero2 = 10\n",
    "numero3 = 7\n",
    "\n",
    "if numero1 >= numero2 and numero1 >= numero3:\n",
    "    mayor = numero1\n",
    "else:\n",
    "    if numero2 >= numero1 and numero2 >= numero3:\n",
    "        mayor = numero2\n",
    "    else:\n",
    "        mayor = numero3\n",
    "\n",
    "print(\"El mayor es:\", mayor)\n"
   ]
  },
  {
   "cell_type": "markdown",
   "metadata": {},
   "source": [
    "\n",
    "BONUS. Ejercicio: Verificar la validez de una fecha\n",
    "\n",
    "    - Descripción: Dados el día, el mes y el año de una fecha, verifica si la fecha es válida."
   ]
  },
  {
   "cell_type": "code",
   "execution_count": 14,
   "metadata": {},
   "outputs": [
    {
     "name": "stdout",
     "output_type": "stream",
     "text": [
      "La fecha no es válida\n"
     ]
    }
   ],
   "source": [
    "dia = 31\n",
    "mes = 4\n",
    "anio = 2022\n",
    "\n",
    "if mes in [1, 3, 5, 7, 8, 10, 12]:\n",
    "    if dia <= 31:\n",
    "        fecha_valida = True\n",
    "    else:\n",
    "        fecha_valida = False\n",
    "elif mes in [4, 6, 9, 11]:\n",
    "    if dia <= 30:\n",
    "        fecha_valida = True\n",
    "    else:\n",
    "        fecha_valida = False\n",
    "else:  # Mes de febrero\n",
    "    if (anio % 4 == 0 and anio % 100 != 0) or anio % 400 == 0:\n",
    "        if dia <= 29:\n",
    "            fecha_valida = True\n",
    "        else:\n",
    "            fecha_valida = False\n",
    "    else:\n",
    "        if dia <= 28:\n",
    "            fecha_valida = True\n",
    "        else:\n",
    "            fecha_valida = False\n",
    "\n",
    "if fecha_valida:\n",
    "    print(\"La fecha es válida\")\n",
    "else:\n",
    "    print(\"La fecha no es válida\")\n"
   ]
  },
  {
   "cell_type": "markdown",
   "metadata": {},
   "source": [
    "14. Ejercicio: Calcular la suma de los primeros 10 números naturales utilizando un bucle `while`\n",
    "   - Descripción: Utiliza un bucle `while` para calcular la suma de los primeros 10 números naturales (1 + 2 + 3 + ... + 10)."
   ]
  },
  {
   "cell_type": "code",
   "execution_count": 2,
   "metadata": {},
   "outputs": [
    {
     "name": "stdout",
     "output_type": "stream",
     "text": [
      "La suma de los primeros 10 números naturales es: 55\n"
     ]
    }
   ],
   "source": [
    "numero = 1\n",
    "suma = 0\n",
    "\n",
    "while numero <= 10:\n",
    "    suma += numero\n",
    "    numero += 1\n",
    "\n",
    "print(\"La suma de los primeros 10 números naturales es:\", suma)"
   ]
  },
  {
   "cell_type": "markdown",
   "metadata": {},
   "source": [
    "\n",
    "15. Ejercicio: Juego de adivinanza utilizando un bucle `while`\n",
    "   - Descripción: Crea un juego de adivinanza en el que el jugador tiene que adivinar un número secreto (tendrá que ser entre el 0 y el 10). Utiliza un bucle `while` para permitir múltiples intentos hasta que el jugador adivine correctamente."
   ]
  },
  {
   "cell_type": "code",
   "execution_count": 3,
   "metadata": {},
   "outputs": [
    {
     "name": "stdout",
     "output_type": "stream",
     "text": [
      "Número incorrecto. Intenta nuevamente.\n",
      "Número incorrecto. Intenta nuevamente.\n",
      "Número incorrecto. Intenta nuevamente.\n",
      "Número incorrecto. Intenta nuevamente.\n",
      "Número incorrecto. Intenta nuevamente.\n",
      "Número incorrecto. Intenta nuevamente.\n",
      "¡Felicitaciones! Adivinaste el número secreto en 7 intentos.\n"
     ]
    }
   ],
   "source": [
    "numero_secreto = 7\n",
    "intentos = 0\n",
    "adivinado = False\n",
    "\n",
    "while not adivinado:\n",
    "    intento = int(input(\"Adivina el número secreto: \"))\n",
    "    intentos += 1\n",
    "\n",
    "    if intento == numero_secreto:\n",
    "        print(\"¡Felicitaciones! Adivinaste el número secreto en\", intentos, \"intentos.\")\n",
    "        adivinado = True\n",
    "    else:\n",
    "        print(\"Número incorrecto. Intenta nuevamente.\")"
   ]
  },
  {
   "cell_type": "code",
   "execution_count": null,
   "metadata": {},
   "outputs": [],
   "source": []
  }
 ],
 "metadata": {
  "kernelspec": {
   "display_name": "promoe",
   "language": "python",
   "name": "python3"
  },
  "language_info": {
   "codemirror_mode": {
    "name": "ipython",
    "version": 3
   },
   "file_extension": ".py",
   "mimetype": "text/x-python",
   "name": "python",
   "nbconvert_exporter": "python",
   "pygments_lexer": "ipython3",
   "version": "3.10.11"
  },
  "orig_nbformat": 4
 },
 "nbformat": 4,
 "nbformat_minor": 2
}
