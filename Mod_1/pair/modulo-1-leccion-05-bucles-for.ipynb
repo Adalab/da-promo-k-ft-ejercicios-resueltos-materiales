{
 "cells": [
  {
   "attachments": {},
   "cell_type": "markdown",
   "metadata": {},
   "source": [
    "1. Ejercicio: Imprimir los números del 1 al 5 utilizando un bucle `for`\n",
    "   - Descripción: Utiliza un bucle `for` para imprimir los números del 1 al 5 en orden ascendente.\n"
   ]
  },
  {
   "cell_type": "code",
   "execution_count": 2,
   "metadata": {},
   "outputs": [
    {
     "name": "stdout",
     "output_type": "stream",
     "text": [
      "1\n",
      "2\n",
      "3\n",
      "4\n",
      "5\n",
      "6\n",
      "7\n",
      "8\n",
      "9\n",
      "10\n",
      "11\n",
      "12\n",
      "13\n",
      "14\n",
      "15\n",
      "16\n",
      "17\n",
      "18\n",
      "19\n",
      "20\n",
      "21\n",
      "22\n",
      "23\n",
      "24\n",
      "25\n",
      "26\n",
      "27\n",
      "28\n",
      "29\n",
      "30\n",
      "31\n",
      "32\n",
      "33\n",
      "34\n",
      "35\n",
      "36\n",
      "37\n",
      "38\n",
      "39\n",
      "40\n",
      "41\n",
      "42\n",
      "43\n",
      "44\n",
      "45\n",
      "46\n",
      "47\n",
      "48\n",
      "49\n",
      "50\n"
     ]
    }
   ],
   "source": [
    "for numero in range(1, 51):\n",
    "    print(numero)"
   ]
  },
  {
   "attachments": {},
   "cell_type": "markdown",
   "metadata": {},
   "source": [
    "2. Ejercicio: Calcular la suma de los primeros 10 números naturales utilizando un bucle `for`\n",
    "   - Descripción: Utiliza un bucle `for` para calcular la suma de los primeros 10 números naturales (1 + 2 + 3 + ... + 10)."
   ]
  },
  {
   "cell_type": "code",
   "execution_count": 3,
   "metadata": {},
   "outputs": [
    {
     "name": "stdout",
     "output_type": "stream",
     "text": [
      "La suma de los primeros 10 números naturales es: 55\n"
     ]
    }
   ],
   "source": [
    "suma = 0\n",
    "\n",
    "for numero in range(1, 11):\n",
    "    suma += numero\n",
    "\n",
    "print(\"La suma de los primeros 10 números naturales es:\", suma)"
   ]
  },
  {
   "attachments": {},
   "cell_type": "markdown",
   "metadata": {},
   "source": [
    "\n",
    "3. Ejercicio: Calcular el producto de los elementos de una lista\n",
    "   - Descripción: Dada una lista de números, utiliza un bucle `for` para calcular el producto de todos los elementos."
   ]
  },
  {
   "cell_type": "code",
   "execution_count": 5,
   "metadata": {},
   "outputs": [
    {
     "name": "stdout",
     "output_type": "stream",
     "text": [
      "El producto de los elementos de la lista es: 120\n"
     ]
    }
   ],
   "source": [
    "lista = [2, 3, 4, 5]\n",
    "producto = 1\n",
    "\n",
    "for numero in lista:\n",
    "    producto *= numero\n",
    "\n",
    "print(\"El producto de los elementos de la lista es:\", producto)"
   ]
  },
  {
   "attachments": {},
   "cell_type": "markdown",
   "metadata": {},
   "source": [
    "4. Ejercicio: Imprimir los caracteres de una cadena de texto\n",
    "   - Descripción: Dada una cadena de texto, utiliza un bucle `for` para imprimir cada carácter en una línea separada."
   ]
  },
  {
   "cell_type": "code",
   "execution_count": 6,
   "metadata": {},
   "outputs": [
    {
     "name": "stdout",
     "output_type": "stream",
     "text": [
      "H\n",
      "o\n",
      "l\n",
      "a\n"
     ]
    }
   ],
   "source": [
    "cadena = \"Hola\"\n",
    "\n",
    "for caracter in cadena:\n",
    "    print(caracter)"
   ]
  },
  {
   "attachments": {},
   "cell_type": "markdown",
   "metadata": {},
   "source": [
    "5. Ejercicio: Imprimir los números pares del 1 al 100 utilizando un bucle `for`\n",
    "   - Descripción: Utiliza un bucle `for` para imprimir los números pares del 1 al 100 en orden ascendente."
   ]
  },
  {
   "cell_type": "code",
   "execution_count": 7,
   "metadata": {},
   "outputs": [
    {
     "name": "stdout",
     "output_type": "stream",
     "text": [
      "2\n",
      "4\n",
      "6\n",
      "8\n",
      "10\n",
      "12\n",
      "14\n",
      "16\n",
      "18\n",
      "20\n",
      "22\n",
      "24\n",
      "26\n",
      "28\n",
      "30\n",
      "32\n",
      "34\n",
      "36\n",
      "38\n",
      "40\n",
      "42\n",
      "44\n",
      "46\n",
      "48\n",
      "50\n",
      "52\n",
      "54\n",
      "56\n",
      "58\n",
      "60\n",
      "62\n",
      "64\n",
      "66\n",
      "68\n",
      "70\n",
      "72\n",
      "74\n",
      "76\n",
      "78\n",
      "80\n",
      "82\n",
      "84\n",
      "86\n",
      "88\n",
      "90\n",
      "92\n",
      "94\n",
      "96\n",
      "98\n",
      "100\n"
     ]
    }
   ],
   "source": [
    "for numero in range(2, 101, 2):\n",
    "    print(numero)"
   ]
  },
  {
   "attachments": {},
   "cell_type": "markdown",
   "metadata": {},
   "source": [
    "6. Ejercicio: Imprimir los números primos del 1 al 50 utilizando un bucle `for`\n",
    "   - Descripción: Utiliza un bucle `for` para imprimir los números primos del 1 al 50 en orden ascendente.\n",
    "   - NOTA: Según la Wikipedia, un número primo es un número natural mayor que 1 que no tiene divisores positivos más que 1 y él mismo."
   ]
  },
  {
   "cell_type": "code",
   "execution_count": 9,
   "metadata": {},
   "outputs": [
    {
     "name": "stdout",
     "output_type": "stream",
     "text": [
      "2\n",
      "3\n",
      "5\n",
      "7\n",
      "11\n",
      "13\n",
      "17\n",
      "19\n",
      "23\n",
      "29\n",
      "31\n",
      "37\n",
      "41\n",
      "43\n",
      "47\n"
     ]
    }
   ],
   "source": [
    "for numero in range(1, 51):\n",
    "    if numero > 1:\n",
    "        es_primo = True\n",
    "        for i in range(2, numero):\n",
    "            if numero % i == 0:\n",
    "                es_primo = False\n",
    "                break\n",
    "        if es_primo:\n",
    "            print(numero)"
   ]
  },
  {
   "attachments": {},
   "cell_type": "markdown",
   "metadata": {},
   "source": [
    "7. Ejercicio: Calcular el factorial de un número utilizando un bucle `for`\n",
    "   - Descripción: Dado un número entero positivo, calcula su factorial utilizando un bucle `for`."
   ]
  },
  {
   "cell_type": "code",
   "execution_count": 10,
   "metadata": {},
   "outputs": [
    {
     "name": "stdout",
     "output_type": "stream",
     "text": [
      "El factorial de 5 es: 120\n"
     ]
    }
   ],
   "source": [
    "numero = 5\n",
    "factorial = 1\n",
    "\n",
    "for i in range(1, numero+1):\n",
    "    factorial *= i\n",
    "\n",
    "print(\"El factorial de\", numero, \"es:\", factorial)"
   ]
  },
  {
   "attachments": {},
   "cell_type": "markdown",
   "metadata": {},
   "source": [
    "8. Ejercicio: Juego de adivinar palabras utilizando un bucle `for`\n",
    "   - Descripción: Crea un juego en el que el jugador debe adivinar una palabra secreta. El jugador tiene un número limitado de intentos y se le proporcionan pistas después de cada intento. Utiliza un bucle `for` para controlar los intentos del jugador."
   ]
  },
  {
   "cell_type": "code",
   "execution_count": 1,
   "metadata": {},
   "outputs": [
    {
     "name": "stdout",
     "output_type": "stream",
     "text": [
      "¡Felicidades! Adivinaste la palabra secreta.\n"
     ]
    }
   ],
   "source": [
    "palabra_secreta = \"python\"\n",
    "intentos_maximos = 5\n",
    "\n",
    "for intento in range(intentos_maximos):\n",
    "    adivinanza = input(\"Intenta adivinar la palabra secreta: \")\n",
    "    if adivinanza == palabra_secreta:\n",
    "        print(\"¡Felicidades! Adivinaste la palabra secreta.\")\n",
    "        break\n",
    "    else:\n",
    "        print(\"Incorrecto. Intenta nuevamente.\")\n",
    "\n",
    "if adivinanza != palabra_secreta:\n",
    "    print(\"Agotaste tus intentos. La palabra secreta era:\", palabra_secreta)"
   ]
  },
  {
   "attachments": {},
   "cell_type": "markdown",
   "metadata": {},
   "source": [
    "9. Ejercicio: Generar una lista de los números pares del 1 al 20.\n",
    "   - Descripción: Utiliza list comprehension para generar una lista que contenga todos los números pares en el rango del 1 al 20.\n",
    "\n"
   ]
  },
  {
   "cell_type": "code",
   "execution_count": 3,
   "metadata": {},
   "outputs": [
    {
     "name": "stdout",
     "output_type": "stream",
     "text": [
      "[2, 4, 6, 8, 10, 12, 14, 16, 18, 20]\n"
     ]
    }
   ],
   "source": [
    "pares = [numero for numero in range(1, 21) if numero % 2 == 0]\n",
    "print(pares)"
   ]
  },
  {
   "attachments": {},
   "cell_type": "markdown",
   "metadata": {},
   "source": [
    "10. Ejercicio: Obtener una lista de las vocales en una cadena de texto.\n",
    "   - Descripción: Utiliza list comprehension para crear una lista que contenga todas las vocales presentes en una cadena de texto (sin repetición)."
   ]
  },
  {
   "cell_type": "code",
   "execution_count": 4,
   "metadata": {},
   "outputs": [
    {
     "name": "stdout",
     "output_type": "stream",
     "text": [
      "['o', 'a', 'o', 'e']\n"
     ]
    }
   ],
   "source": [
    "cadena = \"Hola, cómo estás?\"\n",
    "vocales = [caracter for caracter in cadena.lower() if caracter in 'aeiou']\n",
    "print(vocales)"
   ]
  },
  {
   "attachments": {},
   "cell_type": "markdown",
   "metadata": {},
   "source": [
    "11. Ejercicio: Filtrar los números positivos de una lista y calcular su cuadrado.\n",
    "   - Descripción: Utiliza list comprehension para filtrar los números positivos de una lista y calcular el cuadrado de cada uno."
   ]
  },
  {
   "cell_type": "code",
   "execution_count": 5,
   "metadata": {},
   "outputs": [
    {
     "name": "stdout",
     "output_type": "stream",
     "text": [
      "[9, 49, 1, 16]\n"
     ]
    }
   ],
   "source": [
    "lista = [3, -2, 7, -5, 1, -8, 4]\n",
    "cuadrados = [numero**2 for numero in lista if numero > 0]\n",
    "print(cuadrados)"
   ]
  },
  {
   "cell_type": "code",
   "execution_count": 7,
   "metadata": {},
   "outputs": [
    {
     "name": "stdout",
     "output_type": "stream",
     "text": [
      "Error: El nombre no se encuentra en la lista.\n"
     ]
    }
   ],
   "source": [
    "try:\n",
    "    lista_nombres = input(\"Ingresa una lista de nombres separados por espacios: \").split()\n",
    "    nombre_buscar = input(\"Ingresa el nombre que deseas buscar: \")\n",
    "    \n",
    "    indice = lista_nombres.index(nombre_buscar)\n",
    "    print(\"El nombre\", nombre_buscar, \"se encuentra en el índice\", indice)\n",
    "except ValueError:\n",
    "    print(\"Error: El nombre no se encuentra en la lista.\")"
   ]
  },
  {
   "cell_type": "code",
   "execution_count": null,
   "metadata": {},
   "outputs": [],
   "source": []
  }
 ],
 "metadata": {
  "kernelspec": {
   "display_name": "promoe",
   "language": "python",
   "name": "python3"
  },
  "language_info": {
   "codemirror_mode": {
    "name": "ipython",
    "version": 3
   },
   "file_extension": ".py",
   "mimetype": "text/x-python",
   "name": "python",
   "nbconvert_exporter": "python",
   "pygments_lexer": "ipython3",
   "version": "3.10.11"
  },
  "orig_nbformat": 4
 },
 "nbformat": 4,
 "nbformat_minor": 2
}
