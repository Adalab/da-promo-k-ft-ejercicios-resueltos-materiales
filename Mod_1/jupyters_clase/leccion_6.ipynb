{
 "cells": [
  {
   "cell_type": "markdown",
   "metadata": {},
   "source": [
    "# Funciones\n",
    "\n",
    "- Se definen con def nombre(parámetros)\n",
    "\n",
    "- El nombre tiene que ir en minúsculas\n",
    "\n",
    "- Su código se ejecuta cuando la \"llamas\"\n",
    "\n",
    "- Nos ayudan a reutilizar código\n",
    "\n",
    "- UNa funció sin return -> devuelve None\n",
    "\n",
    "- Los parámetros van en los paréntesis\n",
    "\n",
    "- Parámetros vs argumentos -> los parámetros se definene en la función, y los argumentos son los valores que pasamos a la función cuando la llamamos"
   ]
  },
  {
   "cell_type": "code",
   "execution_count": 1,
   "metadata": {},
   "outputs": [],
   "source": [
    "def funcion(a):\n",
    "\n",
    "    print(a)"
   ]
  },
  {
   "cell_type": "code",
   "execution_count": 2,
   "metadata": {},
   "outputs": [
    {
     "name": "stdout",
     "output_type": "stream",
     "text": [
      "hola\n"
     ]
    }
   ],
   "source": [
    "funcion(\"hola\")"
   ]
  },
  {
   "cell_type": "code",
   "execution_count": 5,
   "metadata": {},
   "outputs": [],
   "source": [
    "def saludo(nombre):\n",
    "\n",
    "    print(f\"Buenos días {nombre}\")\n",
    "\n",
    "    "
   ]
  },
  {
   "cell_type": "code",
   "execution_count": 6,
   "metadata": {},
   "outputs": [
    {
     "name": "stdout",
     "output_type": "stream",
     "text": [
      "Buenos días Ariana\n"
     ]
    }
   ],
   "source": [
    "saludo(\"Ariana\")"
   ]
  },
  {
   "cell_type": "code",
   "execution_count": 7,
   "metadata": {},
   "outputs": [
    {
     "name": "stdout",
     "output_type": "stream",
     "text": [
      "Buenos días Ariana\n"
     ]
    }
   ],
   "source": [
    "saludando = saludo(\"Ariana\")"
   ]
  },
  {
   "cell_type": "code",
   "execution_count": 9,
   "metadata": {},
   "outputs": [
    {
     "name": "stdout",
     "output_type": "stream",
     "text": [
      "None\n"
     ]
    }
   ],
   "source": [
    "print(saludando)"
   ]
  },
  {
   "cell_type": "code",
   "execution_count": 10,
   "metadata": {},
   "outputs": [],
   "source": [
    "def saludo2(nombre):\n",
    "\n",
    "    print(f\"Buenos días {nombre}\")\n",
    "\n",
    "    return nombre"
   ]
  },
  {
   "cell_type": "code",
   "execution_count": 11,
   "metadata": {},
   "outputs": [
    {
     "name": "stdout",
     "output_type": "stream",
     "text": [
      "Buenos días Ariana\n"
     ]
    },
    {
     "data": {
      "text/plain": [
       "'Ariana'"
      ]
     },
     "execution_count": 11,
     "metadata": {},
     "output_type": "execute_result"
    }
   ],
   "source": [
    "saludo2(\"Ariana\")"
   ]
  },
  {
   "cell_type": "code",
   "execution_count": 12,
   "metadata": {},
   "outputs": [
    {
     "name": "stdout",
     "output_type": "stream",
     "text": [
      "Buenos días Ariana\n"
     ]
    }
   ],
   "source": [
    "alumna = saludo2(\"Ariana\")"
   ]
  },
  {
   "cell_type": "code",
   "execution_count": 13,
   "metadata": {},
   "outputs": [
    {
     "data": {
      "text/plain": [
       "'Ariana'"
      ]
     },
     "execution_count": 13,
     "metadata": {},
     "output_type": "execute_result"
    }
   ],
   "source": [
    "alumna"
   ]
  },
  {
   "cell_type": "code",
   "execution_count": 14,
   "metadata": {},
   "outputs": [],
   "source": [
    "def suma(a,b):\n",
    "\n",
    "    resultado = a + b\n",
    "\n",
    "    print(f\"el resultado de la suma es {resultado}\")"
   ]
  },
  {
   "cell_type": "code",
   "execution_count": 15,
   "metadata": {},
   "outputs": [
    {
     "name": "stdout",
     "output_type": "stream",
     "text": [
      "el resultado de la suma es 6\n"
     ]
    }
   ],
   "source": [
    "suma(4,2)"
   ]
  },
  {
   "cell_type": "code",
   "execution_count": 16,
   "metadata": {},
   "outputs": [
    {
     "ename": "NameError",
     "evalue": "name 'resultado' is not defined",
     "output_type": "error",
     "traceback": [
      "\u001b[0;31m---------------------------------------------------------------------------\u001b[0m",
      "\u001b[0;31mNameError\u001b[0m                                 Traceback (most recent call last)",
      "Cell \u001b[0;32mIn[16], line 1\u001b[0m\n\u001b[0;32m----> 1\u001b[0m \u001b[43mresultado\u001b[49m\n",
      "\u001b[0;31mNameError\u001b[0m: name 'resultado' is not defined"
     ]
    }
   ],
   "source": [
    "resultado"
   ]
  },
  {
   "cell_type": "code",
   "execution_count": 21,
   "metadata": {},
   "outputs": [],
   "source": [
    "def suma2(a,b):\n",
    "\n",
    "    resultado = a + b\n",
    "    print(\"estoy sumando cosas\")\n",
    "    print(f\"el resultado de la suma es {resultado}\")\n",
    "\n",
    "    return resultado"
   ]
  },
  {
   "cell_type": "code",
   "execution_count": 22,
   "metadata": {},
   "outputs": [
    {
     "name": "stdout",
     "output_type": "stream",
     "text": [
      "estoy sumando cosas\n",
      "el resultado de la suma es 6\n"
     ]
    },
    {
     "data": {
      "text/plain": [
       "6"
      ]
     },
     "execution_count": 22,
     "metadata": {},
     "output_type": "execute_result"
    }
   ],
   "source": [
    "suma2(4,2)"
   ]
  },
  {
   "cell_type": "code",
   "execution_count": 23,
   "metadata": {},
   "outputs": [
    {
     "name": "stdout",
     "output_type": "stream",
     "text": [
      "estoy sumando cosas\n",
      "el resultado de la suma es 8\n"
     ]
    }
   ],
   "source": [
    "res = suma2(4,4)\n"
   ]
  },
  {
   "cell_type": "code",
   "execution_count": 24,
   "metadata": {},
   "outputs": [
    {
     "name": "stdout",
     "output_type": "stream",
     "text": [
      "8\n"
     ]
    }
   ],
   "source": [
    "print(res)"
   ]
  },
  {
   "cell_type": "code",
   "execution_count": 25,
   "metadata": {},
   "outputs": [
    {
     "name": "stdout",
     "output_type": "stream",
     "text": [
      "el resultado de la suma es 300\n"
     ]
    }
   ],
   "source": [
    "suma(100, 200)"
   ]
  },
  {
   "cell_type": "code",
   "execution_count": 26,
   "metadata": {},
   "outputs": [
    {
     "name": "stdout",
     "output_type": "stream",
     "text": [
      "el resultado de la suma es 505\n"
     ]
    }
   ],
   "source": [
    "suma(500, 5)"
   ]
  },
  {
   "cell_type": "code",
   "execution_count": null,
   "metadata": {},
   "outputs": [],
   "source": [
    "numero = 4\n",
    "numero2 = 4 + 4"
   ]
  },
  {
   "cell_type": "code",
   "execution_count": 29,
   "metadata": {},
   "outputs": [],
   "source": [
    "def tortilla(ingrdiente1, ingrediente2 = \"huevos\"):\n",
    "\n",
    "    print(f\"estamos haciendo una tortilla de {ingrdiente1}\")\n",
    "\n",
    "    return f\"tortilla de {ingrdiente1}\"\n",
    "\n"
   ]
  },
  {
   "cell_type": "code",
   "execution_count": 30,
   "metadata": {},
   "outputs": [
    {
     "name": "stdout",
     "output_type": "stream",
     "text": [
      "estamos haciendo una tortilla de patata\n"
     ]
    },
    {
     "data": {
      "text/plain": [
       "'tortilla de patata'"
      ]
     },
     "execution_count": 30,
     "metadata": {},
     "output_type": "execute_result"
    }
   ],
   "source": [
    "tortilla(\"patata\")"
   ]
  },
  {
   "cell_type": "code",
   "execution_count": 31,
   "metadata": {},
   "outputs": [
    {
     "name": "stdout",
     "output_type": "stream",
     "text": [
      "estamos haciendo una tortilla de calabacin\n"
     ]
    },
    {
     "data": {
      "text/plain": [
       "'tortilla de calabacin'"
      ]
     },
     "execution_count": 31,
     "metadata": {},
     "output_type": "execute_result"
    }
   ],
   "source": [
    "tortilla(\"calabacin\")"
   ]
  },
  {
   "cell_type": "code",
   "execution_count": 32,
   "metadata": {},
   "outputs": [],
   "source": [
    "def tortilla2(ingrdiente1, ingrediente2):\n",
    "\n",
    "    print(f\"estamos haciendo una tortilla de {ingrdiente1}\")\n",
    "\n",
    "    return f\"tortilla de {ingrdiente1}\""
   ]
  },
  {
   "cell_type": "code",
   "execution_count": 33,
   "metadata": {},
   "outputs": [
    {
     "name": "stdout",
     "output_type": "stream",
     "text": [
      "estamos haciendo una tortilla de huevos\n"
     ]
    },
    {
     "data": {
      "text/plain": [
       "'tortilla de huevos'"
      ]
     },
     "execution_count": 33,
     "metadata": {},
     "output_type": "execute_result"
    }
   ],
   "source": [
    "tortilla2(\"huevos\", \"patata\")"
   ]
  },
  {
   "cell_type": "code",
   "execution_count": 34,
   "metadata": {},
   "outputs": [
    {
     "ename": "TypeError",
     "evalue": "tortilla2() missing 1 required positional argument: 'ingrediente2'",
     "output_type": "error",
     "traceback": [
      "\u001b[0;31m---------------------------------------------------------------------------\u001b[0m",
      "\u001b[0;31mTypeError\u001b[0m                                 Traceback (most recent call last)",
      "Cell \u001b[0;32mIn[34], line 1\u001b[0m\n\u001b[0;32m----> 1\u001b[0m \u001b[43mtortilla2\u001b[49m\u001b[43m(\u001b[49m\u001b[38;5;124;43m\"\u001b[39;49m\u001b[38;5;124;43mpatata\u001b[39;49m\u001b[38;5;124;43m\"\u001b[39;49m\u001b[43m)\u001b[49m\n",
      "\u001b[0;31mTypeError\u001b[0m: tortilla2() missing 1 required positional argument: 'ingrediente2'"
     ]
    }
   ],
   "source": [
    "tortilla2(\"patata\")"
   ]
  },
  {
   "cell_type": "code",
   "execution_count": 35,
   "metadata": {},
   "outputs": [
    {
     "name": "stdout",
     "output_type": "stream",
     "text": [
      "estamos haciendo una tortilla de patata\n"
     ]
    },
    {
     "data": {
      "text/plain": [
       "'tortilla de patata'"
      ]
     },
     "execution_count": 35,
     "metadata": {},
     "output_type": "execute_result"
    }
   ],
   "source": [
    "tortilla2(\"patata\", \"huevos\")"
   ]
  },
  {
   "cell_type": "code",
   "execution_count": 38,
   "metadata": {},
   "outputs": [],
   "source": [
    "def tortilla3(ingrdiente1, ingrediente2):\n",
    "\n",
    "    print(f\"estamos haciendo una tortilla de {ingrdiente1}, usando {ingrediente2}\")\n",
    "\n",
    "    return f\"tortilla de {ingrdiente1} con {ingrediente2}\""
   ]
  },
  {
   "cell_type": "code",
   "execution_count": 39,
   "metadata": {},
   "outputs": [
    {
     "name": "stdout",
     "output_type": "stream",
     "text": [
      "estamos haciendo una tortilla de patata, usando huevo de avestruz\n"
     ]
    },
    {
     "data": {
      "text/plain": [
       "'tortilla de patata con huevo de avestruz'"
      ]
     },
     "execution_count": 39,
     "metadata": {},
     "output_type": "execute_result"
    }
   ],
   "source": [
    "tortilla3(\"patata\", \"huevo de avestruz\")"
   ]
  },
  {
   "cell_type": "code",
   "execution_count": 40,
   "metadata": {},
   "outputs": [],
   "source": [
    "def resta(a, b):\n",
    "\n",
    "    return a - b"
   ]
  },
  {
   "cell_type": "code",
   "execution_count": 41,
   "metadata": {},
   "outputs": [
    {
     "data": {
      "text/plain": [
       "5"
      ]
     },
     "execution_count": 41,
     "metadata": {},
     "output_type": "execute_result"
    }
   ],
   "source": [
    "resta(10, 5)"
   ]
  },
  {
   "cell_type": "code",
   "execution_count": 42,
   "metadata": {},
   "outputs": [
    {
     "data": {
      "text/plain": [
       "-5"
      ]
     },
     "execution_count": 42,
     "metadata": {},
     "output_type": "execute_result"
    }
   ],
   "source": [
    "resta(5, 10)"
   ]
  },
  {
   "cell_type": "code",
   "execution_count": 48,
   "metadata": {},
   "outputs": [
    {
     "name": "stdout",
     "output_type": "stream",
     "text": [
      "estamos haciendo una tortilla de patata\n"
     ]
    }
   ],
   "source": [
    "mi_comida = tortilla(\"patata\")\n",
    "\n"
   ]
  },
  {
   "cell_type": "code",
   "execution_count": 49,
   "metadata": {},
   "outputs": [
    {
     "name": "stdout",
     "output_type": "stream",
     "text": [
      "tortilla de patata\n"
     ]
    }
   ],
   "source": [
    "print(mi_comida)"
   ]
  },
  {
   "cell_type": "code",
   "execution_count": 44,
   "metadata": {},
   "outputs": [
    {
     "name": "stdout",
     "output_type": "stream",
     "text": [
      "estamos haciendo una tortilla de patata\n"
     ]
    },
    {
     "data": {
      "text/plain": [
       "'tortilla de patata'"
      ]
     },
     "execution_count": 44,
     "metadata": {},
     "output_type": "execute_result"
    }
   ],
   "source": [
    "tortilla(\"patata\")"
   ]
  },
  {
   "cell_type": "code",
   "execution_count": 45,
   "metadata": {},
   "outputs": [
    {
     "name": "stdout",
     "output_type": "stream",
     "text": [
      "estamos haciendo una tortilla de patata\n"
     ]
    },
    {
     "data": {
      "text/plain": [
       "'tortilla de patata'"
      ]
     },
     "execution_count": 45,
     "metadata": {},
     "output_type": "execute_result"
    }
   ],
   "source": [
    "tortilla(\"patata\")"
   ]
  },
  {
   "cell_type": "code",
   "execution_count": 46,
   "metadata": {},
   "outputs": [
    {
     "name": "stdout",
     "output_type": "stream",
     "text": [
      "estamos haciendo una tortilla de patata\n"
     ]
    },
    {
     "data": {
      "text/plain": [
       "'tortilla de patata'"
      ]
     },
     "execution_count": 46,
     "metadata": {},
     "output_type": "execute_result"
    }
   ],
   "source": [
    "tortilla(\"patata\")"
   ]
  },
  {
   "cell_type": "code",
   "execution_count": 47,
   "metadata": {},
   "outputs": [
    {
     "data": {
      "text/plain": [
       "'tortilla de patata'"
      ]
     },
     "execution_count": 47,
     "metadata": {},
     "output_type": "execute_result"
    }
   ],
   "source": [
    "mi_comida"
   ]
  },
  {
   "cell_type": "code",
   "execution_count": 50,
   "metadata": {},
   "outputs": [
    {
     "name": "stdout",
     "output_type": "stream",
     "text": [
      "el resultado de la suma es 4\n"
     ]
    }
   ],
   "source": [
    "suma(2,2)"
   ]
  },
  {
   "cell_type": "code",
   "execution_count": 51,
   "metadata": {},
   "outputs": [],
   "source": [
    "def media_edad(edades): # el parámetro edades es una lista con las edades de las alumnas\n",
    "\n",
    "\n",
    "    print(edades)\n"
   ]
  },
  {
   "cell_type": "code",
   "execution_count": 52,
   "metadata": {},
   "outputs": [
    {
     "name": "stdout",
     "output_type": "stream",
     "text": [
      "[24, 36, 46]\n"
     ]
    }
   ],
   "source": [
    "media_edad([24,36,46])"
   ]
  },
  {
   "cell_type": "code",
   "execution_count": 54,
   "metadata": {},
   "outputs": [
    {
     "data": {
      "text/plain": [
       "'MARINA'"
      ]
     },
     "execution_count": 54,
     "metadata": {},
     "output_type": "execute_result"
    }
   ],
   "source": [
    "nombre = \"Marina\"\n",
    "\n",
    "nombre.upper()"
   ]
  },
  {
   "cell_type": "code",
   "execution_count": 59,
   "metadata": {},
   "outputs": [],
   "source": [
    "def media_edad(edades): # el parámetro edades es una lista con las edades de las alumnas\n",
    "\n",
    "\n",
    "    media = sum(edades) / len(edades)\n",
    "    print(f\"la media de edad es de {media}\")"
   ]
  },
  {
   "cell_type": "code",
   "execution_count": 60,
   "metadata": {},
   "outputs": [
    {
     "name": "stdout",
     "output_type": "stream",
     "text": [
      "la media de edad es de 33.0\n"
     ]
    }
   ],
   "source": [
    "media_edad([23,34,42])"
   ]
  },
  {
   "cell_type": "code",
   "execution_count": 61,
   "metadata": {},
   "outputs": [
    {
     "name": "stdout",
     "output_type": "stream",
     "text": [
      "la media de edad es de 33.0\n"
     ]
    }
   ],
   "source": [
    "promo_k = media_edad([23,34,42])"
   ]
  },
  {
   "cell_type": "code",
   "execution_count": 63,
   "metadata": {},
   "outputs": [
    {
     "name": "stdout",
     "output_type": "stream",
     "text": [
      "None\n"
     ]
    }
   ],
   "source": [
    "print(promo_k)"
   ]
  },
  {
   "cell_type": "code",
   "execution_count": 64,
   "metadata": {},
   "outputs": [],
   "source": [
    "def media_edad2(edades): # el parámetro edades es una lista con las edades de las alumnas\n",
    "\n",
    "    \n",
    "    media = sum(edades) / len(edades)\n",
    "    print(f\"la media de edad es de {media}\")\n",
    "\n",
    "    return media"
   ]
  },
  {
   "cell_type": "code",
   "execution_count": 65,
   "metadata": {},
   "outputs": [
    {
     "name": "stdout",
     "output_type": "stream",
     "text": [
      "la media de edad es de 33.0\n",
      "33.0\n"
     ]
    }
   ],
   "source": [
    "promo_k = media_edad2([23,34,42])\n",
    "\n",
    "print(promo_k)"
   ]
  },
  {
   "cell_type": "code",
   "execution_count": 66,
   "metadata": {},
   "outputs": [
    {
     "data": {
      "text/plain": [
       "33.0"
      ]
     },
     "execution_count": 66,
     "metadata": {},
     "output_type": "execute_result"
    }
   ],
   "source": [
    "promo_k"
   ]
  },
  {
   "cell_type": "code",
   "execution_count": 67,
   "metadata": {},
   "outputs": [
    {
     "name": "stdout",
     "output_type": "stream",
     "text": [
      "la media de edad es de 30.0\n"
     ]
    }
   ],
   "source": [
    "promo_m = media_edad2([18,25,47])"
   ]
  },
  {
   "cell_type": "code",
   "execution_count": 68,
   "metadata": {},
   "outputs": [
    {
     "data": {
      "text/plain": [
       "30.0"
      ]
     },
     "execution_count": 68,
     "metadata": {},
     "output_type": "execute_result"
    }
   ],
   "source": [
    "promo_m"
   ]
  },
  {
   "cell_type": "code",
   "execution_count": null,
   "metadata": {},
   "outputs": [],
   "source": [
    "media_promo_m = 30"
   ]
  },
  {
   "cell_type": "code",
   "execution_count": 71,
   "metadata": {},
   "outputs": [
    {
     "name": "stdout",
     "output_type": "stream",
     "text": [
      "la media de edad es de 14.0\n"
     ]
    }
   ],
   "source": [
    "promo_a = media_edad2([14, 15, 13])"
   ]
  },
  {
   "cell_type": "code",
   "execution_count": 72,
   "metadata": {},
   "outputs": [
    {
     "data": {
      "text/plain": [
       "14.0"
      ]
     },
     "execution_count": 72,
     "metadata": {},
     "output_type": "execute_result"
    }
   ],
   "source": [
    "promo_a"
   ]
  },
  {
   "cell_type": "code",
   "execution_count": 73,
   "metadata": {},
   "outputs": [
    {
     "data": {
      "text/plain": [
       "14.0"
      ]
     },
     "execution_count": 73,
     "metadata": {},
     "output_type": "execute_result"
    }
   ],
   "source": [
    "sum([14,13,15])/len([14,13,15])"
   ]
  },
  {
   "cell_type": "code",
   "execution_count": 77,
   "metadata": {},
   "outputs": [],
   "source": [
    "def media_edad3(edades): # el parámetro edades es una lista con las edades de las alumnas\n",
    "\n",
    "    long = len(edades)\n",
    "    suma = sum(edades)\n",
    "    media = suma/long\n",
    "\n",
    "    print(f\"la media de edad es de {media}\")\n",
    "    print(f\"hay {long} alumnas\")\n",
    "\n",
    "    return media"
   ]
  },
  {
   "cell_type": "code",
   "execution_count": 78,
   "metadata": {},
   "outputs": [
    {
     "name": "stdout",
     "output_type": "stream",
     "text": [
      "la media de edad es de 26.0\n",
      "hay 3 alumnas\n"
     ]
    }
   ],
   "source": [
    "otra_promo = media_edad3([23, 34, 21])"
   ]
  },
  {
   "cell_type": "code",
   "execution_count": 79,
   "metadata": {},
   "outputs": [
    {
     "data": {
      "text/plain": [
       "26.0"
      ]
     },
     "execution_count": 79,
     "metadata": {},
     "output_type": "execute_result"
    }
   ],
   "source": [
    "otra_promo"
   ]
  },
  {
   "cell_type": "code",
   "execution_count": 80,
   "metadata": {},
   "outputs": [],
   "source": [
    "def media_edad4(edades): # el parámetro edades es una lista con las edades de las alumnas\n",
    "\n",
    "    long = len(edades)\n",
    "    suma = sum(edades)\n",
    "    media = suma/long\n",
    "\n",
    "    print(f\"la media de edad es de {media}\")\n",
    "    print(f\"hay {long} alumnas\")"
   ]
  },
  {
   "cell_type": "code",
   "execution_count": 81,
   "metadata": {},
   "outputs": [
    {
     "name": "stdout",
     "output_type": "stream",
     "text": [
      "la media de edad es de 37.0\n",
      "hay 3 alumnas\n"
     ]
    }
   ],
   "source": [
    "media_edad4([34, 28, 49])"
   ]
  },
  {
   "cell_type": "code",
   "execution_count": 82,
   "metadata": {},
   "outputs": [
    {
     "name": "stdout",
     "output_type": "stream",
     "text": [
      "la media de edad es de 37.0\n",
      "hay 3 alumnas\n"
     ]
    }
   ],
   "source": [
    "promo_yo_que_se = media_edad4([34, 28, 49])"
   ]
  },
  {
   "cell_type": "code",
   "execution_count": 83,
   "metadata": {},
   "outputs": [],
   "source": [
    "promo_yo_que_se"
   ]
  },
  {
   "cell_type": "code",
   "execution_count": 84,
   "metadata": {},
   "outputs": [],
   "source": [
    "def p_p_t():\n",
    "\n",
    "    nombre = input(\"cómo te llamas\")\n",
    "    victorias = 0\n",
    "    print(f\"Bienvenida {nombre} a nuestro juego\")\n",
    "\n",
    "    while victorias <= 3:\n",
    "\n",
    "        victorias += 1\n",
    "        print(\"has ganado un punto\")\n",
    "\n",
    "    print(f\"ganaste {nombre}\")\n",
    "\n"
   ]
  },
  {
   "cell_type": "code",
   "execution_count": 85,
   "metadata": {},
   "outputs": [
    {
     "name": "stdout",
     "output_type": "stream",
     "text": [
      "Bienvenida Cesar a nuestro juego\n",
      "has ganado un punto\n",
      "has ganado un punto\n",
      "has ganado un punto\n",
      "has ganado un punto\n",
      "ganaste Cesar\n"
     ]
    }
   ],
   "source": [
    "p_p_t()"
   ]
  },
  {
   "cell_type": "code",
   "execution_count": 86,
   "metadata": {},
   "outputs": [
    {
     "name": "stdout",
     "output_type": "stream",
     "text": [
      "Bienvenida María a nuestro juego\n",
      "has ganado un punto\n",
      "has ganado un punto\n",
      "has ganado un punto\n",
      "has ganado un punto\n",
      "ganaste María\n"
     ]
    }
   ],
   "source": [
    "nombre = input(\"cómo te llamas\")\n",
    "victorias = 0\n",
    "print(f\"Bienvenida {nombre} a nuestro juego\")\n",
    "\n",
    "while victorias <= 3:\n",
    "\n",
    "    victorias += 1\n",
    "    print(\"has ganado un punto\")\n",
    "\n",
    "print(f\"ganaste {nombre}\")"
   ]
  },
  {
   "cell_type": "code",
   "execution_count": 87,
   "metadata": {},
   "outputs": [
    {
     "name": "stdout",
     "output_type": "stream",
     "text": [
      "Bienvenida Iara a nuestro juego\n",
      "has ganado un punto\n",
      "has ganado un punto\n",
      "has ganado un punto\n",
      "has ganado un punto\n",
      "ganaste Iara\n"
     ]
    }
   ],
   "source": [
    "nombre = input(\"cómo te llamas\")\n",
    "victorias = 0\n",
    "print(f\"Bienvenida {nombre} a nuestro juego\")\n",
    "\n",
    "while victorias <= 3:\n",
    "\n",
    "    victorias += 1\n",
    "    print(\"has ganado un punto\")\n",
    "\n",
    "print(f\"ganaste {nombre}\")"
   ]
  },
  {
   "cell_type": "code",
   "execution_count": 89,
   "metadata": {},
   "outputs": [
    {
     "name": "stdout",
     "output_type": "stream",
     "text": [
      "Bienvenida Marina a nuestro juego\n",
      "has ganado un punto\n",
      "has ganado un punto\n",
      "has ganado un punto\n",
      "has ganado un punto\n",
      "ganaste Marina\n"
     ]
    }
   ],
   "source": [
    "nombre = input(\"cómo te llamas\")\n",
    "victorias = 0\n",
    "print(f\"Bienvenida {nombre} a nuestro juego\")\n",
    "\n",
    "while victorias <= 3:\n",
    "\n",
    "    victorias += 1\n",
    "    print(\"has ganado un punto\")\n",
    "\n",
    "print(f\"ganaste {nombre}\")"
   ]
  },
  {
   "cell_type": "code",
   "execution_count": null,
   "metadata": {},
   "outputs": [],
   "source": [
    "otro -lkbsflkb\n",
    "\n",
    "vkzdklñg\n",
    "\n",
    "-lkbdlk-hbd\n",
    "\n",
    "-ñkdgñkdg\n",
    "\n",
    "-ñizhdgñhdg\n",
    "\n",
    "ÑLdjgñoNx"
   ]
  },
  {
   "cell_type": "code",
   "execution_count": 90,
   "metadata": {},
   "outputs": [
    {
     "name": "stdout",
     "output_type": "stream",
     "text": [
      "Bienvenida Patricia a nuestro juego\n",
      "has ganado un punto\n",
      "has ganado un punto\n",
      "has ganado un punto\n",
      "has ganado un punto\n",
      "ganaste Patricia\n"
     ]
    }
   ],
   "source": [
    "p_p_t()"
   ]
  },
  {
   "cell_type": "code",
   "execution_count": null,
   "metadata": {},
   "outputs": [],
   "source": [
    "p_p_t()"
   ]
  },
  {
   "cell_type": "code",
   "execution_count": null,
   "metadata": {},
   "outputs": [],
   "source": [
    "nombre = input(\"cómo te llamas\")\n",
    "victorias = 0\n",
    "print(f\"Bienvenida {nombre} a nuestro juego\")\n",
    "\n",
    "while victorias <= 3:\n",
    "\n",
    "    victorias += 1\n",
    "    print(\"has ganado un punto\")\n",
    "\n",
    "print(f\"ganaste {nombre}\")"
   ]
  },
  {
   "cell_type": "code",
   "execution_count": 94,
   "metadata": {},
   "outputs": [],
   "source": [
    "# 3. Crea una función que tome una lista de palabras como entrada y devuelva una lista de palabras que contengan más de una vocal.\n",
    "palabras = [\"hola\", \"mundo\", \"lOlo\"]\n",
    "\n",
    "def palabras_mas_vocal(lista_palabras): # [\"hola\", \"mundo\"]\n",
    "\n",
    "    salida = []\n",
    "    vocales = \"aeiou\"\n",
    "\n",
    "    for palabra in lista_palabras:\n",
    "        contar_vocales = 0\n",
    "\n",
    "        for letra in palabra:\n",
    "\n",
    "            if letra.lower() in vocales:\n",
    "                contar_vocales += 1\n",
    "\n",
    "        if contar_vocales > 1:\n",
    "            salida.append(palabra)\n",
    "\n",
    "        else:\n",
    "            pass\n",
    "\n",
    "    return salida"
   ]
  },
  {
   "cell_type": "code",
   "execution_count": 95,
   "metadata": {},
   "outputs": [
    {
     "data": {
      "text/plain": [
       "['hola', 'mundo', 'lOlo']"
      ]
     },
     "execution_count": 95,
     "metadata": {},
     "output_type": "execute_result"
    }
   ],
   "source": [
    "palabras_mas_vocal(palabras)"
   ]
  },
  {
   "cell_type": "code",
   "execution_count": 96,
   "metadata": {},
   "outputs": [
    {
     "data": {
      "text/plain": [
       "['hola']"
      ]
     },
     "execution_count": 96,
     "metadata": {},
     "output_type": "execute_result"
    }
   ],
   "source": [
    "palabras_mas_vocal([\"lol\", \"hola\"])"
   ]
  },
  {
   "cell_type": "code",
   "execution_count": null,
   "metadata": {},
   "outputs": [],
   "source": []
  },
  {
   "cell_type": "code",
   "execution_count": null,
   "metadata": {},
   "outputs": [],
   "source": []
  }
 ],
 "metadata": {
  "kernelspec": {
   "display_name": "promo-i",
   "language": "python",
   "name": "python3"
  },
  "language_info": {
   "codemirror_mode": {
    "name": "ipython",
    "version": 3
   },
   "file_extension": ".py",
   "mimetype": "text/x-python",
   "name": "python",
   "nbconvert_exporter": "python",
   "pygments_lexer": "ipython3",
   "version": "3.11.7"
  }
 },
 "nbformat": 4,
 "nbformat_minor": 2
}
