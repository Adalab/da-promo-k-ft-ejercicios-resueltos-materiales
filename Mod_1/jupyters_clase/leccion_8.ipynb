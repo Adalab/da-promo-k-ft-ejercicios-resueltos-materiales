{
 "cells": [
  {
   "cell_type": "markdown",
   "metadata": {},
   "source": [
    "Resolución ejercicios -> Gracias Mireia!! 😊\n",
    "\n",
    "TEXT - EXERCISE 1\n",
    "ABC\n",
    "- abc\n",
    "- \\w\n",
    "- \\w+\n",
    "- \\w{3,}\n",
    "\n",
    "123\n",
    "- 123\n",
    "- \\d\n",
    "- \\d+\n",
    "- \\d{3}\n",
    "- \\d..      #dígitos y lo que venga después, sin importar tipología\n",
    "\n",
    "TEXT - EXERCISE 2\n",
    "- \\.\n",
    "- ...\\.       #queremos que tenga en cuenta tres objetos delante del punto\n",
    "\n",
    "TEXT - EXERCISE 3\n",
    "- [cmf]\n",
    "- [cmf]an\n",
    "- c|m|f\n",
    "- can|man|fan\n",
    "\n",
    "TEXT - EXERCISE 4\n",
    "- h|d\n",
    "- [^b]og\n",
    "- [hd]og\n",
    "\n",
    "EXERCISE 5\n",
    "- [ABC]\n",
    "- [A-Z]    #es importante diferenciar entre mayúsculas y minúsculas\n",
    "- [A-C][n-p][a-c]     \n",
    "#el guión en medio indica el rango en el que queremos que busque \n",
    "\n",
    "EXERCISE 6\n",
    "- wazz+\n",
    "- waz{2,}\n",
    "- waz{2,7}\n",
    "#la coma (,) indica el número que elegimos y más; o el rango de repeticiones que estamos buscando \n",
    "\n",
    "EXERCISE 7\n",
    "- a{2,}\n",
    "- \\w{2,}\n",
    "- aa+b*c+\n",
    "- a{2,}b{0,}c{1,}\n",
    "\n",
    "EXERCISE 8\n",
    "- \\d\n",
    "- [0-9]*\\sfiles?\\sfound\\?\n",
    "\n",
    "EXERCISE 9\n",
    "- \\d\\.\\s\n",
    "- \\s\n",
    "\n",
    "EXERCICE 10 \n",
    "- ^M       #que empieze por ese  en concreto\n",
    "- ^[A-Z][a-z]{6,}\n",
    "- ^Mission: successful$\n",
    "\n",
    "EXERCISE 11 - capturar (la diferencia entre match y capture: hacer match es encontrar las coincidencias y capturar es extraer dichas coincidencias)\n",
    "- (file_.+).pdf$  \n",
    "- (file_\\w+).pdf$\n",
    "\n",
    "#dentro del paréntesisi entra solo lo que queremos capturar, no las coincicencias que encuentre en los patrones\n",
    "\n",
    "EXERCISE 12\n",
    "- ([A-Z]..\\s(\\d{4}))\n",
    "#meter entre paréntesis indica que se debe capturar el grupo que coincida con el patrón. Esto es una captura dentro de otra captura\n",
    "\n",
    "EXERCISE 13\n",
    "- (\\d{4})x(\\d{3,})\n",
    "- (\\d{4}).(\\d{3,})\n",
    "\n",
    "EXERCISE 14\n",
    "- .+cats|dogs\n",
    "\n",
    "EXERCISE 15\n",
    "- \\.\n",
    "- .+\n",
    "- \\.$\n",
    "- .*"
   ]
  },
  {
   "cell_type": "code",
   "execution_count": 5,
   "metadata": {},
   "outputs": [],
   "source": [
    "import re"
   ]
  },
  {
   "cell_type": "code",
   "execution_count": 1,
   "metadata": {},
   "outputs": [],
   "source": [
    "fechas = [\"Jan 1994\", \"Oct 1997\", \"Nov 1999\"]"
   ]
  },
  {
   "cell_type": "code",
   "execution_count": 3,
   "metadata": {},
   "outputs": [
    {
     "data": {
      "text/plain": [
       "'1994'"
      ]
     },
     "execution_count": 3,
     "metadata": {},
     "output_type": "execute_result"
    }
   ],
   "source": [
    "f = \"Jan 1994\"\n",
    "\n",
    "f.split(\" \")[1]"
   ]
  },
  {
   "cell_type": "code",
   "execution_count": 4,
   "metadata": {},
   "outputs": [
    {
     "name": "stdout",
     "output_type": "stream",
     "text": [
      "1994\n",
      "1997\n",
      "1999\n"
     ]
    }
   ],
   "source": [
    "for fecha in fechas:\n",
    "\n",
    "    print(fecha.split(\" \")[1])"
   ]
  },
  {
   "cell_type": "code",
   "execution_count": 6,
   "metadata": {},
   "outputs": [],
   "source": [
    "patron = \"\\d{4}\""
   ]
  },
  {
   "cell_type": "code",
   "execution_count": 10,
   "metadata": {},
   "outputs": [
    {
     "data": {
      "text/plain": [
       "'1994'"
      ]
     },
     "execution_count": 10,
     "metadata": {},
     "output_type": "execute_result"
    }
   ],
   "source": [
    "re.search(patron, f).group()"
   ]
  },
  {
   "cell_type": "code",
   "execution_count": 28,
   "metadata": {},
   "outputs": [],
   "source": [
    "archivos = [\"leccion1.pdf\", \"leccion3.csv\", \"leccion2.pdf\", \"leccion4.csv\"]"
   ]
  },
  {
   "cell_type": "code",
   "execution_count": 21,
   "metadata": {},
   "outputs": [
    {
     "data": {
      "text/plain": [
       "['leccion2']"
      ]
     },
     "execution_count": 21,
     "metadata": {},
     "output_type": "execute_result"
    }
   ],
   "source": [
    "a = \"leccion2.pdf\"\n",
    "\n",
    "re.findall(\"(leccion\\d)\\.pdf\", a)"
   ]
  },
  {
   "cell_type": "code",
   "execution_count": 37,
   "metadata": {},
   "outputs": [
    {
     "data": {
      "text/plain": [
       "['leccion1', 'leccion2']"
      ]
     },
     "execution_count": 37,
     "metadata": {},
     "output_type": "execute_result"
    }
   ],
   "source": [
    "arch = []\n",
    "\n",
    "for archivo in archivos:\n",
    "\n",
    "    if len(re.findall(\"(leccion\\d)\\.pdf\", archivo)) > 0:\n",
    "\n",
    "        arch.append(re.findall(\"(leccion\\d)\\.pdf\", archivo)[0])\n",
    "\n",
    "arch"
   ]
  },
  {
   "cell_type": "code",
   "execution_count": 33,
   "metadata": {},
   "outputs": [],
   "source": [
    "a = \"leccion2.pdf\""
   ]
  },
  {
   "cell_type": "code",
   "execution_count": 41,
   "metadata": {},
   "outputs": [
    {
     "data": {
      "text/plain": [
       "['leccion2']"
      ]
     },
     "execution_count": 41,
     "metadata": {},
     "output_type": "execute_result"
    }
   ],
   "source": [
    "re.findall(\"(leccion\\d)\\.pdf\", a)"
   ]
  },
  {
   "cell_type": "code",
   "execution_count": 42,
   "metadata": {},
   "outputs": [
    {
     "data": {
      "text/plain": [
       "['leccion2', 'pdf']"
      ]
     },
     "execution_count": 42,
     "metadata": {},
     "output_type": "execute_result"
    }
   ],
   "source": [
    "re.split(\"\\.\", a)"
   ]
  },
  {
   "cell_type": "code",
   "execution_count": 43,
   "metadata": {},
   "outputs": [
    {
     "data": {
      "text/plain": [
       "['leccion1', 'leccion2']"
      ]
     },
     "execution_count": 43,
     "metadata": {},
     "output_type": "execute_result"
    }
   ],
   "source": [
    "arch2 = []\n",
    "\n",
    "for archivo in archivos:\n",
    "\n",
    "    if re.split(\"\\.\", archivo)[1] == \"pdf\":\n",
    "        arch2.append(re.split(\"\\.\", archivo)[0])\n",
    "\n",
    "arch2"
   ]
  },
  {
   "cell_type": "code",
   "execution_count": null,
   "metadata": {},
   "outputs": [],
   "source": [
    "archivos = [\"leccion1.pdf\", \"leccion3.csv\", \"leccion2.pdf\", \"leccion4.csv\"]"
   ]
  },
  {
   "cell_type": "code",
   "execution_count": 49,
   "metadata": {},
   "outputs": [
    {
     "data": {
      "text/plain": [
       "['leccion2', 'pdf']"
      ]
     },
     "execution_count": 49,
     "metadata": {},
     "output_type": "execute_result"
    }
   ],
   "source": [
    "a.split(\".\")"
   ]
  },
  {
   "cell_type": "code",
   "execution_count": 45,
   "metadata": {},
   "outputs": [
    {
     "data": {
      "text/plain": [
       "['leccion1', 'leccion2']"
      ]
     },
     "execution_count": 45,
     "metadata": {},
     "output_type": "execute_result"
    }
   ],
   "source": [
    "arch3 = []\n",
    "\n",
    "for archivo in archivos:\n",
    "\n",
    "    if archivo.split(\".\")[1] == \"pdf\":\n",
    "        arch3.append(archivo.split(\".\")[0])\n",
    "\n",
    "arch3"
   ]
  },
  {
   "cell_type": "code",
   "execution_count": 62,
   "metadata": {},
   "outputs": [],
   "source": [
    "fechas = [\"2020-dic-12\", \"2024-oct-23\", \"01-mar-2021\"]"
   ]
  },
  {
   "cell_type": "code",
   "execution_count": 74,
   "metadata": {},
   "outputs": [
    {
     "data": {
      "text/plain": [
       "<re.Match object; span=(0, 8), match='2020-dic'>"
      ]
     },
     "execution_count": 74,
     "metadata": {},
     "output_type": "execute_result"
    }
   ],
   "source": [
    "f = \"2020-dic-12\"\n",
    "\n",
    "patron = \"(\\d{4})-(\\w{3})\"\n",
    "\n",
    "re.search(patron, f)"
   ]
  },
  {
   "cell_type": "code",
   "execution_count": 73,
   "metadata": {},
   "outputs": [
    {
     "name": "stdout",
     "output_type": "stream",
     "text": [
      "año -> 2020\n",
      "mes -> dic\n",
      "------------------------------\n",
      "año -> 2024\n",
      "mes -> oct\n",
      "------------------------------\n",
      "año -> 2021\n",
      "mes -> mar\n",
      "------------------------------\n"
     ]
    }
   ],
   "source": [
    "for fecha in fechas:\n",
    "\n",
    "    try:\n",
    "        res = re.search(\"(\\d{4})-(\\w{3})\", fecha)\n",
    "        print(f\"año -> {res.group(1)}\")\n",
    "        print(f\"mes -> {res.group(2)}\")\n",
    "        print(\"------------------------------\")\n",
    "\n",
    "    except:\n",
    "        res = re.search(\"(\\w{3})-(\\d{4})\", fecha)\n",
    "        print(f\"año -> {res.group(2)}\")\n",
    "        print(f\"mes -> {res.group(1)}\")\n",
    "        print(\"------------------------------\")"
   ]
  },
  {
   "cell_type": "code",
   "execution_count": 75,
   "metadata": {},
   "outputs": [
    {
     "name": "stdout",
     "output_type": "stream",
     "text": [
      "año -> 2020\n",
      "mes -> dic\n",
      "------------------------------\n",
      "año -> 2024\n",
      "mes -> oct\n",
      "------------------------------\n",
      "01-mar-2021\n"
     ]
    }
   ],
   "source": [
    "for fecha in fechas:\n",
    "\n",
    "    try:\n",
    "        res = re.search(\"(\\d{4})-(\\w{3})\", fecha)\n",
    "        print(f\"año -> {res.group(1)}\")\n",
    "        print(f\"mes -> {res.group(2)}\")\n",
    "        print(\"------------------------------\")\n",
    "\n",
    "    except:\n",
    "        print(fecha)"
   ]
  },
  {
   "cell_type": "code",
   "execution_count": null,
   "metadata": {},
   "outputs": [],
   "source": []
  },
  {
   "cell_type": "code",
   "execution_count": null,
   "metadata": {},
   "outputs": [],
   "source": []
  },
  {
   "cell_type": "code",
   "execution_count": null,
   "metadata": {},
   "outputs": [],
   "source": []
  },
  {
   "cell_type": "code",
   "execution_count": null,
   "metadata": {},
   "outputs": [],
   "source": []
  },
  {
   "cell_type": "code",
   "execution_count": null,
   "metadata": {},
   "outputs": [],
   "source": []
  },
  {
   "cell_type": "code",
   "execution_count": null,
   "metadata": {},
   "outputs": [],
   "source": []
  },
  {
   "cell_type": "code",
   "execution_count": null,
   "metadata": {},
   "outputs": [],
   "source": []
  },
  {
   "cell_type": "code",
   "execution_count": null,
   "metadata": {},
   "outputs": [],
   "source": []
  },
  {
   "cell_type": "code",
   "execution_count": null,
   "metadata": {},
   "outputs": [],
   "source": []
  },
  {
   "cell_type": "code",
   "execution_count": null,
   "metadata": {},
   "outputs": [],
   "source": []
  },
  {
   "cell_type": "code",
   "execution_count": null,
   "metadata": {},
   "outputs": [],
   "source": []
  },
  {
   "cell_type": "code",
   "execution_count": null,
   "metadata": {},
   "outputs": [],
   "source": []
  },
  {
   "cell_type": "code",
   "execution_count": null,
   "metadata": {},
   "outputs": [],
   "source": []
  },
  {
   "cell_type": "code",
   "execution_count": null,
   "metadata": {},
   "outputs": [],
   "source": []
  }
 ],
 "metadata": {
  "kernelspec": {
   "display_name": "promo-i",
   "language": "python",
   "name": "python3"
  },
  "language_info": {
   "codemirror_mode": {
    "name": "ipython",
    "version": 3
   },
   "file_extension": ".py",
   "mimetype": "text/x-python",
   "name": "python",
   "nbconvert_exporter": "python",
   "pygments_lexer": "ipython3",
   "version": "3.11.7"
  }
 },
 "nbformat": 4,
 "nbformat_minor": 2
}
