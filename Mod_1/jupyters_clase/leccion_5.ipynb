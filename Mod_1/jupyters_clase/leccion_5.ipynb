{
 "cells": [
  {
   "cell_type": "markdown",
   "metadata": {},
   "source": [
    "# Bucles for\n",
    "\n",
    "- Sirven para iterar por TODOS los elementos de una variable (si es iterable):\n",
    "    - listas\n",
    "    - diccionarios\n",
    "    - tuplas\n",
    "    - sets\n",
    "    - strings\n",
    "    - NO PODEMOS ITERARA POR int/float\n",
    "\n",
    "- range -> nos genera el número de iteraciones, podemos usar start, stop, step\n",
    "- tenemos que usar :\n",
    "- Lo podemos combinar con if, try,...\n"
   ]
  },
  {
   "cell_type": "code",
   "execution_count": 2,
   "metadata": {},
   "outputs": [
    {
     "ename": "TypeError",
     "evalue": "'float' object is not iterable",
     "output_type": "error",
     "traceback": [
      "\u001b[0;31m---------------------------------------------------------------------------\u001b[0m",
      "\u001b[0;31mTypeError\u001b[0m                                 Traceback (most recent call last)",
      "Cell \u001b[0;32mIn[2], line 3\u001b[0m\n\u001b[1;32m      1\u001b[0m x \u001b[38;5;241m=\u001b[39m \u001b[38;5;241m123.45\u001b[39m\n\u001b[0;32m----> 3\u001b[0m \u001b[38;5;28;43;01mfor\u001b[39;49;00m\u001b[43m \u001b[49m\u001b[43mnum\u001b[49m\u001b[43m \u001b[49m\u001b[38;5;129;43;01min\u001b[39;49;00m\u001b[43m \u001b[49m\u001b[43mx\u001b[49m\u001b[43m:\u001b[49m\n\u001b[1;32m      4\u001b[0m \u001b[43m    \u001b[49m\u001b[38;5;28;43mprint\u001b[39;49m\u001b[43m(\u001b[49m\u001b[43mx\u001b[49m\u001b[43m)\u001b[49m\n",
      "\u001b[0;31mTypeError\u001b[0m: 'float' object is not iterable"
     ]
    }
   ],
   "source": [
    "x = 123.45\n",
    "\n",
    "for num in x:\n",
    "    print(x)"
   ]
  },
  {
   "cell_type": "code",
   "execution_count": 4,
   "metadata": {},
   "outputs": [
    {
     "name": "stdout",
     "output_type": "stream",
     "text": [
      "1\n",
      "2\n",
      "hola\n",
      "4\n",
      "5\n"
     ]
    }
   ],
   "source": [
    "lista = [1,2,\"hola\",4,5]\n",
    "\n",
    "for num in lista:\n",
    "    print(num)"
   ]
  },
  {
   "cell_type": "code",
   "execution_count": 8,
   "metadata": {},
   "outputs": [
    {
     "name": "stdout",
     "output_type": "stream",
     "text": [
      "8\n",
      "--------------\n",
      "9\n",
      "--------------\n",
      "10\n",
      "--------------\n",
      "11\n",
      "--------------\n",
      "12\n",
      "--------------\n",
      "13\n",
      "--------------\n",
      "14\n",
      "--------------\n"
     ]
    }
   ],
   "source": [
    "for num in range(8, 15):\n",
    "    print(num)\n",
    "    print(\"--------------\")\n"
   ]
  },
  {
   "cell_type": "code",
   "execution_count": 9,
   "metadata": {},
   "outputs": [
    {
     "data": {
      "text/plain": [
       "[1, 2, 'hola', 4, 5]"
      ]
     },
     "execution_count": 9,
     "metadata": {},
     "output_type": "execute_result"
    }
   ],
   "source": [
    "lista"
   ]
  },
  {
   "cell_type": "code",
   "execution_count": 10,
   "metadata": {},
   "outputs": [
    {
     "data": {
      "text/plain": [
       "5"
      ]
     },
     "execution_count": 10,
     "metadata": {},
     "output_type": "execute_result"
    }
   ],
   "source": [
    "len(lista)"
   ]
  },
  {
   "cell_type": "code",
   "execution_count": 14,
   "metadata": {},
   "outputs": [
    {
     "data": {
      "text/plain": [
       "2"
      ]
     },
     "execution_count": 14,
     "metadata": {},
     "output_type": "execute_result"
    }
   ],
   "source": [
    "lista[1]"
   ]
  },
  {
   "cell_type": "code",
   "execution_count": 15,
   "metadata": {},
   "outputs": [
    {
     "name": "stdout",
     "output_type": "stream",
     "text": [
      "1\n",
      "2\n",
      "hola\n",
      "4\n",
      "5\n"
     ]
    }
   ],
   "source": [
    "for i in range(len(lista)):\n",
    "    print(lista[i])"
   ]
  },
  {
   "cell_type": "code",
   "execution_count": 12,
   "metadata": {},
   "outputs": [
    {
     "name": "stdout",
     "output_type": "stream",
     "text": [
      "0\n",
      "1\n",
      "2\n",
      "3\n"
     ]
    }
   ],
   "source": [
    "for i in range(4):\n",
    "    print(i)"
   ]
  },
  {
   "cell_type": "code",
   "execution_count": 16,
   "metadata": {},
   "outputs": [
    {
     "data": {
      "text/plain": [
       "[1, 2, 'hola', 4, 5]"
      ]
     },
     "execution_count": 16,
     "metadata": {},
     "output_type": "execute_result"
    }
   ],
   "source": [
    "lista"
   ]
  },
  {
   "cell_type": "code",
   "execution_count": 19,
   "metadata": {},
   "outputs": [
    {
     "name": "stdout",
     "output_type": "stream",
     "text": [
      "hola\n",
      "[1, 2, 'hola', 4, 5]\n"
     ]
    }
   ],
   "source": [
    "for i in lista:\n",
    "    if i == \"hola\":\n",
    "        print(i)\n",
    "        i = 3\n",
    "\n",
    "print(lista)"
   ]
  },
  {
   "cell_type": "code",
   "execution_count": 20,
   "metadata": {},
   "outputs": [
    {
     "name": "stdout",
     "output_type": "stream",
     "text": [
      "[1, 2, 3, 4, 5]\n"
     ]
    }
   ],
   "source": [
    "lista[2] = 3\n",
    "\n",
    "print(lista)"
   ]
  },
  {
   "cell_type": "code",
   "execution_count": 24,
   "metadata": {},
   "outputs": [
    {
     "data": {
      "text/plain": [
       "[1, 2, 3, 4, 5]"
      ]
     },
     "execution_count": 24,
     "metadata": {},
     "output_type": "execute_result"
    }
   ],
   "source": [
    "lista = [1,2,\"hola\",4,5]\n",
    "\n",
    "for i in range(len(lista)):\n",
    "    if lista[i] == \"hola\":\n",
    "        lista[i] = 3\n",
    "\n",
    "lista"
   ]
  },
  {
   "cell_type": "code",
   "execution_count": 25,
   "metadata": {},
   "outputs": [
    {
     "name": "stdout",
     "output_type": "stream",
     "text": [
      "0\n",
      "1\n",
      "2\n",
      "3\n",
      "4\n"
     ]
    }
   ],
   "source": [
    "for i in range(5):\n",
    "    print(i)"
   ]
  },
  {
   "cell_type": "code",
   "execution_count": 26,
   "metadata": {},
   "outputs": [
    {
     "data": {
      "text/plain": [
       "False"
      ]
     },
     "execution_count": 26,
     "metadata": {},
     "output_type": "execute_result"
    }
   ],
   "source": [
    "\"hola\" == \"Hola\""
   ]
  },
  {
   "cell_type": "code",
   "execution_count": 27,
   "metadata": {},
   "outputs": [],
   "source": [
    "temperaturas = [23, 12, 37, 33, 1, 6, 15]\n",
    "\n",
    "#  1. Cread tres listas nuevas, donde:"
   ]
  },
  {
   "cell_type": "code",
   "execution_count": 31,
   "metadata": {},
   "outputs": [],
   "source": [
    "temp_bajas = []\n",
    "temp_medias = []\n",
    "temp_altas = []\n",
    "\n",
    "for temp in temperaturas:\n",
    "    if 0 < temp <= 10:\n",
    "        temp_bajas.append(temp)\n",
    "\n",
    "    elif temp >= 11 and temp < 20:\n",
    "        temp_medias.append(temp)\n",
    "    \n",
    "    else:\n",
    "        temp_altas.append(temp)\n",
    "\n"
   ]
  },
  {
   "cell_type": "code",
   "execution_count": 32,
   "metadata": {},
   "outputs": [
    {
     "name": "stdout",
     "output_type": "stream",
     "text": [
      "[23, 37, 33]\n",
      "[12, 15]\n",
      "[1, 6]\n"
     ]
    }
   ],
   "source": [
    "print(temp_altas)\n",
    "print(temp_medias)\n",
    "print(temp_bajas)"
   ]
  },
  {
   "cell_type": "code",
   "execution_count": 34,
   "metadata": {},
   "outputs": [
    {
     "name": "stdout",
     "output_type": "stream",
     "text": [
      "32.0\n",
      "33.8\n",
      "35.6\n",
      "37.4\n",
      "39.2\n",
      "41.0\n",
      "42.8\n",
      "44.6\n",
      "46.4\n",
      "48.2\n",
      "50.0\n"
     ]
    }
   ],
   "source": [
    "#  2. Las temperaturas están grados centígrados. Para cada una de las listas creadas en el ejercicio anterior, convertid las temperaturas a grados fahrenheit\n",
    "\n",
    "\n",
    "for temps in range(0,11):\n",
    "    conversion = temps*9/5+32\n",
    "    print(conversion)"
   ]
  },
  {
   "cell_type": "code",
   "execution_count": 35,
   "metadata": {},
   "outputs": [
    {
     "name": "stdout",
     "output_type": "stream",
     "text": [
      "[73.4, 53.6, 98.6, 91.4, 33.8, 42.8, 59.0]\n"
     ]
    }
   ],
   "source": [
    "fahrenheit = []\n",
    "for temp in temperaturas:\n",
    "    fahrenheit.append(temp * 9/5 + 32)\n",
    "    \n",
    "print(fahrenheit)"
   ]
  },
  {
   "cell_type": "code",
   "execution_count": 36,
   "metadata": {},
   "outputs": [
    {
     "name": "stdout",
     "output_type": "stream",
     "text": [
      " Las temperaturas altas en farhenheit son: [73.4, 98.6, 91.4]\n",
      " Las temperaturas medias en farhenheit son: [53.6, 59.0]\n",
      " Las temperaturas bajas en farhenheit son: [33.8, 42.8]\n"
     ]
    }
   ],
   "source": [
    "altas_temp_fahr = []\n",
    "medias_temp_fahr = []\n",
    "bajas_temp_fahr = []\n",
    "for temperatura in temp_altas:\n",
    "    temperatura = (temperatura*9/5)+32\n",
    "    altas_temp_fahr.append(temperatura)\n",
    "print(f' Las temperaturas altas en farhenheit son: {altas_temp_fahr}')\n",
    "for temperatura in temp_medias:\n",
    "    temperatura = (temperatura*9/5)+32\n",
    "    medias_temp_fahr.append(temperatura)\n",
    "print(f' Las temperaturas medias en farhenheit son: {medias_temp_fahr}')\n",
    "for temperatura in temp_bajas:\n",
    "    temperatura = (temperatura*9/5)+32\n",
    "    bajas_temp_fahr.append(temperatura)\n",
    "print(f' Las temperaturas bajas en farhenheit son: {bajas_temp_fahr}')"
   ]
  },
  {
   "cell_type": "code",
   "execution_count": 49,
   "metadata": {},
   "outputs": [
    {
     "ename": "NameError",
     "evalue": "name 'doces' is not defined",
     "output_type": "error",
     "traceback": [
      "\u001b[0;31m---------------------------------------------------------------------------\u001b[0m",
      "\u001b[0;31mNameError\u001b[0m                                 Traceback (most recent call last)",
      "Cell \u001b[0;32mIn[49], line 8\u001b[0m\n\u001b[1;32m      5\u001b[0m seis \u001b[38;5;241m=\u001b[39m \u001b[38;5;241m6\u001b[39m\n\u001b[1;32m      7\u001b[0m \u001b[38;5;28;01mtry\u001b[39;00m:\n\u001b[0;32m----> 8\u001b[0m     \u001b[38;5;28mprint\u001b[39m(\u001b[43mdoces\u001b[49m \u001b[38;5;241m+\u001b[39m seis)\n\u001b[1;32m     10\u001b[0m \u001b[38;5;28;01mexcept\u001b[39;00m \u001b[38;5;167;01mTypeError\u001b[39;00m:\n\u001b[1;32m     11\u001b[0m     \u001b[38;5;28mprint\u001b[39m(\u001b[38;5;28mint\u001b[39m(doce) \u001b[38;5;241m+\u001b[39m \u001b[38;5;28mint\u001b[39m(seis))\n",
      "\u001b[0;31mNameError\u001b[0m: name 'doces' is not defined"
     ]
    }
   ],
   "source": [
    "# try / except\n",
    "\n",
    "# 5. Define  la variable `doce = '12'` y `seis = 6`. Intenta sumarlos. En el caso de que te salga un error imprime `'¡Un error!'`. Para eso usa un `try` ... `except`\n",
    "doce = \"12\"\n",
    "seis = 6\n",
    "\n",
    "try:\n",
    "    print(doces + seis)\n",
    "\n",
    "except TypeError:\n",
    "    print(int(doce) + int(seis))"
   ]
  },
  {
   "cell_type": "code",
   "execution_count": 44,
   "metadata": {},
   "outputs": [
    {
     "data": {
      "text/plain": [
       "18"
      ]
     },
     "execution_count": 44,
     "metadata": {},
     "output_type": "execute_result"
    }
   ],
   "source": [
    "int(doce) + int(seis)"
   ]
  },
  {
   "cell_type": "code",
   "execution_count": 64,
   "metadata": {},
   "outputs": [
    {
     "name": "stdout",
     "output_type": "stream",
     "text": [
      "2\n",
      "4\n",
      "6\n"
     ]
    }
   ],
   "source": [
    "lista = [1,2,3,4,5,6]\n",
    "\n",
    "for num in lista:\n",
    "    if num % 2 == 0:\n",
    "        print(num)\n",
    "\n",
    "    else: # añadir qué tengo que hacer con los números impares\n",
    "        pass"
   ]
  },
  {
   "cell_type": "code",
   "execution_count": 65,
   "metadata": {},
   "outputs": [
    {
     "name": "stdout",
     "output_type": "stream",
     "text": [
      "sensor roto\n"
     ]
    }
   ],
   "source": [
    "lista = [\"1\", \"2\", \"a\", \"3\", \"b\", \"c\", \"4\"]\n",
    "\n",
    "\n",
    "for num in lista:\n",
    "    try:\n",
    "        int(num)\n",
    "\n",
    "    except:\n",
    "        print(\"sensor roto\")\n",
    "        break\n",
    "        \n",
    "        \n",
    "\n",
    "\n"
   ]
  },
  {
   "cell_type": "code",
   "execution_count": 69,
   "metadata": {},
   "outputs": [
    {
     "name": "stdout",
     "output_type": "stream",
     "text": [
      "no se puede\n"
     ]
    }
   ],
   "source": [
    "# 6. Basándonos en el ejercicio anterior, sin usar un `try` ... `except`, ¿cómo podríamos solucionar el problema? \n",
    "\n",
    "doce = \"12\"\n",
    "seis = 6\n",
    "\n",
    "if type(doce) != str and type(seis) != str:\n",
    "    print(doce+seis)\n",
    "\n",
    "else:\n",
    "    print(\"no se puede\")\n"
   ]
  },
  {
   "cell_type": "code",
   "execution_count": 66,
   "metadata": {},
   "outputs": [
    {
     "data": {
      "text/plain": [
       "str"
      ]
     },
     "execution_count": 66,
     "metadata": {},
     "output_type": "execute_result"
    }
   ],
   "source": [
    "type(doce)"
   ]
  },
  {
   "cell_type": "code",
   "execution_count": null,
   "metadata": {},
   "outputs": [],
   "source": [
    "# 8. Solicita al usuario ingresar dos números y muestra el resultado de dividir el primero por el segundo. Asegúrate de manejar la excepción si el segundo número es cero.\n"
   ]
  },
  {
   "cell_type": "code",
   "execution_count": 70,
   "metadata": {},
   "outputs": [
    {
     "ename": "ZeroDivisionError",
     "evalue": "division by zero",
     "output_type": "error",
     "traceback": [
      "\u001b[0;31m---------------------------------------------------------------------------\u001b[0m",
      "\u001b[0;31mZeroDivisionError\u001b[0m                         Traceback (most recent call last)",
      "Cell \u001b[0;32mIn[70], line 1\u001b[0m\n\u001b[0;32m----> 1\u001b[0m \u001b[38;5;241;43m4\u001b[39;49m\u001b[38;5;241;43m/\u001b[39;49m\u001b[38;5;241;43m0\u001b[39;49m\n",
      "\u001b[0;31mZeroDivisionError\u001b[0m: division by zero"
     ]
    }
   ],
   "source": [
    "4/0"
   ]
  },
  {
   "cell_type": "code",
   "execution_count": 75,
   "metadata": {},
   "outputs": [
    {
     "ename": "TypeError",
     "evalue": "unsupported operand type(s) for /: 'str' and 'int'",
     "output_type": "error",
     "traceback": [
      "\u001b[0;31m---------------------------------------------------------------------------\u001b[0m",
      "\u001b[0;31mTypeError\u001b[0m                                 Traceback (most recent call last)",
      "Cell \u001b[0;32mIn[75], line 1\u001b[0m\n\u001b[0;32m----> 1\u001b[0m \u001b[38;5;124;43m\"\u001b[39;49m\u001b[38;5;124;43mhola\u001b[39;49m\u001b[38;5;124;43m\"\u001b[39;49m\u001b[38;5;241;43m/\u001b[39;49m\u001b[38;5;241;43m6\u001b[39;49m\n",
      "\u001b[0;31mTypeError\u001b[0m: unsupported operand type(s) for /: 'str' and 'int'"
     ]
    }
   ],
   "source": [
    "\"hola\"/6"
   ]
  },
  {
   "cell_type": "code",
   "execution_count": 74,
   "metadata": {},
   "outputs": [
    {
     "name": "stdout",
     "output_type": "stream",
     "text": [
      "hay un error\n"
     ]
    }
   ],
   "source": [
    "try:\n",
    "    num_1 = float(input(\"dime un número\"))\n",
    "    num_2 = float(input(\"dime un número\"))\n",
    "\n",
    "    print(num_1/num_2)\n",
    "\n",
    "except:\n",
    "\n",
    "    print(\"hay un error\")"
   ]
  },
  {
   "cell_type": "code",
   "execution_count": 82,
   "metadata": {},
   "outputs": [
    {
     "name": "stdout",
     "output_type": "stream",
     "text": [
      "2.0\n"
     ]
    }
   ],
   "source": [
    "try:\n",
    "    num_1 = float(input(\"dime un número\"))\n",
    "    num_2 = float(input(\"dime un número\"))\n",
    "\n",
    "    print(num_1/num_2)\n",
    "\n",
    "except ZeroDivisionError:\n",
    "    num_1 = float(input(\"dime un número\"))\n",
    "    num_2 = float(input(\"dime un número, que no sea cero\"))\n",
    "    print(\"hay un error en la división\")\n",
    "\n",
    "except ValueError:\n",
    "    try:\n",
    "        num_1 = float(input(\"dime un número, pero de verdad\"))\n",
    "        num_2 = float(input(\"dime un número\"))\n",
    "        print(num_1/num_2)\n",
    "    except:\n",
    "        print(\"no podemos hacer nada contigo, tomate un café\")\n",
    "    "
   ]
  },
  {
   "cell_type": "code",
   "execution_count": 83,
   "metadata": {},
   "outputs": [
    {
     "data": {
      "text/plain": [
       "[2, 4, 6, 8]"
      ]
     },
     "execution_count": 83,
     "metadata": {},
     "output_type": "execute_result"
    }
   ],
   "source": [
    "lista = [1,2,3,4,5,6,7,8]\n",
    "\n",
    "lista_pares = []\n",
    "\n",
    "for num in lista:\n",
    "    if num % 2 == 0:\n",
    "        lista_pares.append(num)\n",
    "\n",
    "lista_pares"
   ]
  },
  {
   "cell_type": "code",
   "execution_count": 84,
   "metadata": {},
   "outputs": [
    {
     "data": {
      "text/plain": [
       "[2, 4, 6, 8]"
      ]
     },
     "execution_count": 84,
     "metadata": {},
     "output_type": "execute_result"
    }
   ],
   "source": [
    "lista = [1,2,3,4,5,6,7,8]\n",
    "\n",
    "lista_pares_2 = [num for num in lista if num % 2 == 0]\n",
    "\n",
    "lista_pares_2"
   ]
  }
 ],
 "metadata": {
  "kernelspec": {
   "display_name": "promo-i",
   "language": "python",
   "name": "python3"
  },
  "language_info": {
   "codemirror_mode": {
    "name": "ipython",
    "version": 3
   },
   "file_extension": ".py",
   "mimetype": "text/x-python",
   "name": "python",
   "nbconvert_exporter": "python",
   "pygments_lexer": "ipython3",
   "version": "3.11.7"
  }
 },
 "nbformat": 4,
 "nbformat_minor": 2
}
