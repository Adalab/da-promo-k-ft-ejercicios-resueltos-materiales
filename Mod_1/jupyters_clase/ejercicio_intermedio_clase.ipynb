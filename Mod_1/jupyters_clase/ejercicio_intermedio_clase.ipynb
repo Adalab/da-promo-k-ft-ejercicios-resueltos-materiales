{
 "cells": [
  {
   "cell_type": "code",
   "execution_count": 1,
   "metadata": {},
   "outputs": [],
   "source": [
    "import random"
   ]
  },
  {
   "cell_type": "markdown",
   "metadata": {},
   "source": [
    "Parte 1: Strings"
   ]
  },
  {
   "cell_type": "markdown",
   "metadata": {},
   "source": [
    "1. Dada una cadena de texto, contar cuántas veces aparece una letra específica en ella. Usa un \n",
    "input para que el usuario elija la letra a buscar."
   ]
  },
  {
   "cell_type": "code",
   "execution_count": 10,
   "metadata": {},
   "outputs": [
    {
     "name": "stdout",
     "output_type": "stream",
     "text": [
      "La letra 'e' aparece 4 vez\n",
      "La letra e aparece 4 veces\n"
     ]
    }
   ],
   "source": [
    "# ejercicio 1\n",
    "\n",
    "cadena = \"Python es un lenguaje de programación muy popular\"\n",
    "\n",
    "letra = input(\"Introduce la letra que deseas contar: \")\n",
    "\n",
    "contador_letra = cadena.lower().count(letra.lower())\n",
    "\n",
    "print(\"La letra '\" + letra + \"' aparece \" + str(contador_letra) + \" vez\")\n",
    "\n",
    "print(f\"La letra {letra} aparece {contador_letra} veces\")"
   ]
  },
  {
   "cell_type": "code",
   "execution_count": 12,
   "metadata": {},
   "outputs": [
    {
     "name": "stdout",
     "output_type": "stream",
     "text": [
      "La letra e aparece 4 veces en la frase Python es un lenguaje de programación muy popular\n"
     ]
    }
   ],
   "source": [
    "cadena = \"Python es un lenguaje de programación muy popular\"\n",
    "letra = input(\"Ingresa la letra que deseas buscar:\")\n",
    "conteo_letra = cadena.count(letra)\n",
    "print(f\"La letra {letra} aparece {conteo_letra} veces en la frase {cadena}\")"
   ]
  },
  {
   "cell_type": "markdown",
   "metadata": {},
   "source": [
    "2. Escribe un programa que tome la siguiente cadena de texto y reemplace una palabra específica \n",
    "por otra palabra. La palabra a reemplazar y reemplazada deben ser elegidas por el usuario.\n",
    "cadena = \"Python es genial. Python es fácil de aprender.\""
   ]
  },
  {
   "cell_type": "code",
   "execution_count": 14,
   "metadata": {},
   "outputs": [
    {
     "name": "stdout",
     "output_type": "stream",
     "text": [
      "La nueva frase es:  Python es genial. Python es divertido de aprender.\n"
     ]
    }
   ],
   "source": [
    "cadena = \"Python es genial. Python es fácil de aprender.\"\n",
    "\n",
    "nueva_palabra= input(\"La nueva palabra es:\") \n",
    "palabra_a_reemplazar = input(\"La palabra a reemplazar es:\")\n",
    "\n",
    "modificacion=cadena.replace(palabra_a_reemplazar,nueva_palabra) #reemplaza palabra en la cadena\n",
    "\n",
    "print(\"La nueva frase es: \", modificacion)"
   ]
  },
  {
   "cell_type": "markdown",
   "metadata": {},
   "source": [
    "3. Toma la siguiente oración y divídela en una lista de palabras. Luego, únelas nuevamente en una \n",
    "sola cadena de texto.\n",
    "\n",
    "oracion = \"Esto es una oración de ejemplo\""
   ]
  },
  {
   "cell_type": "code",
   "execution_count": 24,
   "metadata": {},
   "outputs": [
    {
     "name": "stdout",
     "output_type": "stream",
     "text": [
      "['Esto', 'es', 'una', 'oración', 'de', 'ejemplo']\n",
      "Esto🚀es🚀una🚀oración🚀de🚀ejemplo\n"
     ]
    }
   ],
   "source": [
    "oracion = \"Esto es una oración de ejemplo\"\n",
    "oracion_dividida = oracion.split(\" \")\n",
    "print(oracion_dividida)\n",
    "oracion_unida = \"🚀\".join(oracion_dividida)\n",
    "print(oracion_unida)"
   ]
  },
  {
   "cell_type": "markdown",
   "metadata": {},
   "source": [
    "4. Desarrolla un programa que cuente cuántas palabras hay en la siguiente frase.\n",
    "cadena = \"Esta es una cadena con cinco palabras\"\n"
   ]
  },
  {
   "cell_type": "code",
   "execution_count": 25,
   "metadata": {},
   "outputs": [
    {
     "name": "stdout",
     "output_type": "stream",
     "text": [
      "37\n"
     ]
    }
   ],
   "source": [
    "cadena = \"Esta es una cadena con cinco palabras\"\n",
    "\n",
    "list(cadena)\n",
    "cantidad_cadena = len(cadena)\n",
    "print(cantidad_cadena)\n",
    "\n"
   ]
  },
  {
   "cell_type": "code",
   "execution_count": 34,
   "metadata": {},
   "outputs": [
    {
     "name": "stdout",
     "output_type": "stream",
     "text": [
      "el num de letras de la frase es: 7\n"
     ]
    }
   ],
   "source": [
    "cadena4=\"Esta es una cadena con cinco palabras\"\n",
    "lista_palabras=cadena4.split()\n",
    "print(f\"el num de letras de la frase es: {len(lista_palabras)}\")"
   ]
  },
  {
   "cell_type": "code",
   "execution_count": 33,
   "metadata": {},
   "outputs": [
    {
     "data": {
      "text/plain": [
       "['Esta', 'es', 'una', 'cadena', 'con', 'cinco', 'palabras']"
      ]
     },
     "execution_count": 33,
     "metadata": {},
     "output_type": "execute_result"
    }
   ],
   "source": [
    "lista_palabras"
   ]
  },
  {
   "cell_type": "markdown",
   "metadata": {},
   "source": [
    "5. Escribe un programa que invierta una cadena de texto dada por un usuario. Mira el siguiente \n",
    "ejemplo para entender lo que se pide:\n",
    " input \n",
    "\"Hola buenos dias\"\n",
    " output\n",
    "\"dias buenos Hola"
   ]
  },
  {
   "cell_type": "code",
   "execution_count": 35,
   "metadata": {},
   "outputs": [
    {
     "name": "stdout",
     "output_type": "stream",
     "text": [
      "['Hola', 'buenos', 'dias']\n"
     ]
    }
   ],
   "source": [
    "cadena_usuaria = \"Hola buenos dias\"\n",
    "cadena_usuaria_split = cadena_usuaria.split(\" \")\n",
    "print(cadena_usuaria_split)"
   ]
  },
  {
   "cell_type": "code",
   "execution_count": 38,
   "metadata": {},
   "outputs": [
    {
     "name": "stdout",
     "output_type": "stream",
     "text": [
      "Hola buenos dias\n",
      "['Hola', 'buenos', 'dias']\n",
      "['dias', 'buenos', 'Hola']\n",
      "dias buenos Hola\n"
     ]
    }
   ],
   "source": [
    "usuario = \"Hola buenos dias\"\n",
    "print(usuario)\n",
    "lista_palabras_usuario = usuario.split(\" \")\n",
    "print(lista_palabras_usuario)\n",
    "palabras_invertidas = lista_palabras_usuario[ : :-1]\n",
    "print(palabras_invertidas)\n",
    "print(\" \".join(palabras_invertidas))"
   ]
  },
  {
   "cell_type": "code",
   "execution_count": 45,
   "metadata": {},
   "outputs": [
    {
     "data": {
      "text/plain": [
       "['f', 'd', 'c', 'b', 'a']"
      ]
     },
     "execution_count": 45,
     "metadata": {},
     "output_type": "execute_result"
    }
   ],
   "source": [
    "lista = [\"a\",\"b\", \"c\", \"d\", \"f\"]\n",
    "\n",
    "lista[::-1]"
   ]
  },
  {
   "cell_type": "code",
   "execution_count": 39,
   "metadata": {},
   "outputs": [
    {
     "name": "stdout",
     "output_type": "stream",
     "text": [
      "El usuario ha elegido esta frase: Hola buenos dias\n",
      "esta es la lista de las palabras de la frase del usuario: ['Hola', 'buenos', 'dias']\n",
      "así es la lista de palabras invertidas: ['dias', 'buenos', 'Hola']\n",
      "Esta es la frase invertida del usuario: dias buenos Hola\n"
     ]
    }
   ],
   "source": [
    "frase_usuario = \"Hola buenos dias\"\n",
    "print(f\"El usuario ha elegido esta frase: {frase_usuario}\")\n",
    "lista_frase_usuario = frase_usuario.split()\n",
    "print(f\"esta es la lista de las palabras de la frase del usuario: {lista_frase_usuario}\")\n",
    "#inverter el orden de las palabras en la lista:\n",
    "lista_frase_usuario.reverse()\n",
    "print(f\"así es la lista de palabras invertidas: {lista_frase_usuario}\")\n",
    "#Lista invertida en frase:\n",
    "frase_invertida = \" \".join(lista_frase_usuario)\n",
    "print(f\"Esta es la frase invertida del usuario: {frase_invertida}\")"
   ]
  },
  {
   "cell_type": "markdown",
   "metadata": {},
   "source": [
    "# listas"
   ]
  },
  {
   "cell_type": "code",
   "execution_count": 47,
   "metadata": {},
   "outputs": [],
   "source": [
    "# 1. Dada la siguiente lista: frutas = ['manzana', 'pera', 'banana', 'uva', 'kiwi'], realiza lo siguiente: a) Reemplaza el segundo elemento con 'durazno'. b) Agrega 'naranja' al final de la lista. c) Extrae y muestra por pantalla el tercer elemento de la lista.\n"
   ]
  },
  {
   "cell_type": "code",
   "execution_count": 48,
   "metadata": {},
   "outputs": [
    {
     "name": "stdout",
     "output_type": "stream",
     "text": [
      "['manzana', 'durazno', 'banana', 'uva', 'kiwi']\n"
     ]
    }
   ],
   "source": [
    "# a) Reemplaza el segundo elemento con 'durazno'.\n",
    "lista_frutas = ['manzana', 'pera', 'banana', 'uva', 'kiwi']\n",
    "lista_frutas.pop(1)\n",
    "\n",
    "lista_frutas.insert(1, \"durazno\")\n",
    "print(lista_frutas)"
   ]
  },
  {
   "cell_type": "code",
   "execution_count": 49,
   "metadata": {},
   "outputs": [
    {
     "name": "stdout",
     "output_type": "stream",
     "text": [
      "['manzana', 'durazno', 'banana', 'uva', 'kiwi']\n"
     ]
    }
   ],
   "source": [
    "lista_frutas = ['manzana', 'pera', 'banana', 'uva', 'kiwi']\n",
    "\n",
    "lista_frutas[1] = \"durazno\"\n",
    "\n",
    "print(lista_frutas)"
   ]
  },
  {
   "cell_type": "code",
   "execution_count": 50,
   "metadata": {},
   "outputs": [
    {
     "data": {
      "text/plain": [
       "['manzana', 'durazno', 'banana', 'uva', 'kiwi', 'naranja']"
      ]
     },
     "execution_count": 50,
     "metadata": {},
     "output_type": "execute_result"
    }
   ],
   "source": [
    "# Agrega 'naranja' al final de la lista.\n",
    "\n",
    "lista_frutas.append(\"naranja\")\n",
    "\n",
    "lista_frutas"
   ]
  },
  {
   "cell_type": "code",
   "execution_count": 51,
   "metadata": {},
   "outputs": [
    {
     "data": {
      "text/plain": [
       "'banana'"
      ]
     },
     "execution_count": 51,
     "metadata": {},
     "output_type": "execute_result"
    }
   ],
   "source": [
    "# Extrae y muestra por pantalla el tercer elemento de la lista.\n",
    "\n",
    "lista_frutas[2]"
   ]
  },
  {
   "cell_type": "markdown",
   "metadata": {},
   "source": [
    "2. Crea una lista llamada numeros que contenga los siguientes valores: 10, 25, 15, 30, 20.\n"
   ]
  },
  {
   "cell_type": "code",
   "execution_count": 53,
   "metadata": {},
   "outputs": [],
   "source": [
    "valores= [10, 25, 15, 30, 20]"
   ]
  },
  {
   "cell_type": "markdown",
   "metadata": {},
   "source": [
    "6. Elimina el último elemento de la lista numeros3."
   ]
  },
  {
   "cell_type": "code",
   "execution_count": 54,
   "metadata": {},
   "outputs": [
    {
     "data": {
      "text/plain": [
       "20"
      ]
     },
     "execution_count": 54,
     "metadata": {},
     "output_type": "execute_result"
    }
   ],
   "source": [
    "valores.pop()"
   ]
  },
  {
   "cell_type": "markdown",
   "metadata": {},
   "source": [
    "# Tuplas"
   ]
  },
  {
   "cell_type": "markdown",
   "metadata": {},
   "source": [
    "4. Añade el color \"morado\" a la tupla colores. ¿Qué ha pasado? ¿Por qué? Como podríamos \n",
    "añadir el elemento \"morado\"."
   ]
  },
  {
   "cell_type": "code",
   "execution_count": 56,
   "metadata": {},
   "outputs": [
    {
     "data": {
      "text/plain": [
       "('rojo', 'verde', 'azul', 'amarillo', 'morado', 'morado')"
      ]
     },
     "execution_count": 56,
     "metadata": {},
     "output_type": "execute_result"
    }
   ],
   "source": [
    "tupla_colores = (\"rojo\", \"verde\", \"azul\", \"amarillo\", \"morado\")\n",
    "\n",
    "tupla_colores\n",
    "lista_colores = list(tupla_colores)\n",
    "lista_colores.append(\"morado\")\n",
    "tupla_colores = tuple(lista_colores)\n",
    "tupla_colores"
   ]
  },
  {
   "cell_type": "code",
   "execution_count": 55,
   "metadata": {},
   "outputs": [
    {
     "ename": "AttributeError",
     "evalue": "'tuple' object has no attribute 'append'",
     "output_type": "error",
     "traceback": [
      "\u001b[0;31m---------------------------------------------------------------------------\u001b[0m",
      "\u001b[0;31mAttributeError\u001b[0m                            Traceback (most recent call last)",
      "Cell \u001b[0;32mIn[55], line 3\u001b[0m\n\u001b[1;32m      1\u001b[0m tupla_colores \u001b[38;5;241m=\u001b[39m (\u001b[38;5;124m\"\u001b[39m\u001b[38;5;124mrojo\u001b[39m\u001b[38;5;124m\"\u001b[39m, \u001b[38;5;124m\"\u001b[39m\u001b[38;5;124mverde\u001b[39m\u001b[38;5;124m\"\u001b[39m, \u001b[38;5;124m\"\u001b[39m\u001b[38;5;124mazul\u001b[39m\u001b[38;5;124m\"\u001b[39m, \u001b[38;5;124m\"\u001b[39m\u001b[38;5;124mamarillo\u001b[39m\u001b[38;5;124m\"\u001b[39m, \u001b[38;5;124m\"\u001b[39m\u001b[38;5;124mmorado\u001b[39m\u001b[38;5;124m\"\u001b[39m)\n\u001b[0;32m----> 3\u001b[0m \u001b[43mtupla_colores\u001b[49m\u001b[38;5;241;43m.\u001b[39;49m\u001b[43mappend\u001b[49m(\u001b[38;5;124m\"\u001b[39m\u001b[38;5;124mnegro\u001b[39m\u001b[38;5;124m\"\u001b[39m)\n",
      "\u001b[0;31mAttributeError\u001b[0m: 'tuple' object has no attribute 'append'"
     ]
    }
   ],
   "source": [
    "tupla_colores = (\"rojo\", \"verde\", \"azul\", \"amarillo\", \"morado\")\n",
    "\n",
    "tupla_colores.append(\"negro\")"
   ]
  },
  {
   "cell_type": "code",
   "execution_count": 57,
   "metadata": {},
   "outputs": [
    {
     "name": "stdout",
     "output_type": "stream",
     "text": [
      "('rojo', 'verde', 'azul', 'amarillo', 'morado', 'morado')\n"
     ]
    }
   ],
   "source": [
    "colores = (\"rojo\", \"verde\", \"azul\", \"amarillo\", \"morado\")\n",
    "\n",
    "colores = colores + ('morado',)\n",
    "print(colores)"
   ]
  },
  {
   "cell_type": "markdown",
   "metadata": {},
   "source": [
    "# Parte 4: Diccionarios"
   ]
  },
  {
   "cell_type": "code",
   "execution_count": 58,
   "metadata": {},
   "outputs": [],
   "source": [
    "frutas = {'manzana': 2, \n",
    "          'banana': 3, \n",
    "          'uva': 5,\n",
    "          'pera': 4}"
   ]
  },
  {
   "cell_type": "markdown",
   "metadata": {},
   "source": [
    "2. Saca una lista de todas las frutas en el diccionario.\n",
    "\n"
   ]
  },
  {
   "cell_type": "code",
   "execution_count": 59,
   "metadata": {},
   "outputs": [
    {
     "name": "stdout",
     "output_type": "stream",
     "text": [
      "la lista de frutas es: ['manzana', 'banana', 'uva', 'pera']\n"
     ]
    }
   ],
   "source": [
    "lista_frutas = list(frutas)\n",
    "print(\"la lista de frutas es:\", lista_frutas)"
   ]
  },
  {
   "cell_type": "markdown",
   "metadata": {},
   "source": [
    "3. Saca una lista de todas las cantidades en el diccionario."
   ]
  },
  {
   "cell_type": "code",
   "execution_count": 60,
   "metadata": {},
   "outputs": [
    {
     "data": {
      "text/plain": [
       "[2, 3, 5, 4]"
      ]
     },
     "execution_count": 60,
     "metadata": {},
     "output_type": "execute_result"
    }
   ],
   "source": [
    "lista_valores = list(frutas.values())\n",
    "\n",
    "lista_valores"
   ]
  },
  {
   "cell_type": "markdown",
   "metadata": {},
   "source": [
    "4. ¿Qué cantidad de 'manzana' tenemos?. Si la clave'manzana' no está presente, devuelve un mensaje de error.\n",
    "\n"
   ]
  },
  {
   "cell_type": "code",
   "execution_count": 67,
   "metadata": {},
   "outputs": [
    {
     "name": "stdout",
     "output_type": "stream",
     "text": [
      "{'manzana': 2, 'banana': 3, 'uva': 5, 'pera': 4}\n",
      "None\n"
     ]
    },
    {
     "ename": "TypeError",
     "evalue": "'<=' not supported between instances of 'NoneType' and 'int'",
     "output_type": "error",
     "traceback": [
      "\u001b[0;31m---------------------------------------------------------------------------\u001b[0m",
      "\u001b[0;31mTypeError\u001b[0m                                 Traceback (most recent call last)",
      "Cell \u001b[0;32mIn[67], line 4\u001b[0m\n\u001b[1;32m      2\u001b[0m manzana \u001b[38;5;241m=\u001b[39m frutas\u001b[38;5;241m.\u001b[39mget(\u001b[38;5;124m\"\u001b[39m\u001b[38;5;124mp\u001b[39m\u001b[38;5;124m\"\u001b[39m)\n\u001b[1;32m      3\u001b[0m \u001b[38;5;28mprint\u001b[39m(manzana)\n\u001b[0;32m----> 4\u001b[0m \u001b[38;5;28;01mif\u001b[39;00m \u001b[43mmanzana\u001b[49m\u001b[43m \u001b[49m\u001b[38;5;241;43m<\u001b[39;49m\u001b[38;5;241;43m=\u001b[39;49m\u001b[43m \u001b[49m\u001b[38;5;241;43m0\u001b[39;49m:\n\u001b[1;32m      5\u001b[0m     \u001b[38;5;28mprint\u001b[39m (\u001b[38;5;124m\"\u001b[39m\u001b[38;5;124mNo existe esta clave\u001b[39m\u001b[38;5;124m\"\u001b[39m)\n",
      "\u001b[0;31mTypeError\u001b[0m: '<=' not supported between instances of 'NoneType' and 'int'"
     ]
    }
   ],
   "source": [
    "\n",
    "print(frutas)\n",
    "manzana = frutas.get(\"p\")\n",
    "print(manzana)\n",
    "if manzana <= 0:\n",
    "    print (\"No existe esta clave\")"
   ]
  },
  {
   "cell_type": "code",
   "execution_count": 70,
   "metadata": {},
   "outputs": [
    {
     "name": "stdout",
     "output_type": "stream",
     "text": [
      "error\n"
     ]
    }
   ],
   "source": [
    "print(frutas.get(\"cerveza\", \"error\"))"
   ]
  },
  {
   "cell_type": "code",
   "execution_count": 68,
   "metadata": {},
   "outputs": [
    {
     "name": "stdout",
     "output_type": "stream",
     "text": [
      "None\n"
     ]
    }
   ],
   "source": [
    "print(frutas.get(\"cerveza\"))"
   ]
  },
  {
   "cell_type": "code",
   "execution_count": 69,
   "metadata": {},
   "outputs": [
    {
     "ename": "KeyError",
     "evalue": "'cerveza'",
     "output_type": "error",
     "traceback": [
      "\u001b[0;31m---------------------------------------------------------------------------\u001b[0m",
      "\u001b[0;31mKeyError\u001b[0m                                  Traceback (most recent call last)",
      "Cell \u001b[0;32mIn[69], line 1\u001b[0m\n\u001b[0;32m----> 1\u001b[0m \u001b[43mfrutas\u001b[49m\u001b[43m[\u001b[49m\u001b[38;5;124;43m\"\u001b[39;49m\u001b[38;5;124;43mcerveza\u001b[39;49m\u001b[38;5;124;43m\"\u001b[39;49m\u001b[43m]\u001b[49m\n",
      "\u001b[0;31mKeyError\u001b[0m: 'cerveza'"
     ]
    }
   ],
   "source": [
    "frutas[\"cerveza\"]"
   ]
  },
  {
   "cell_type": "markdown",
   "metadata": {},
   "source": [
    "8. Combinar los dos diccionarios frutas_nuevas y frutas en uno solo llamado frutas_total."
   ]
  },
  {
   "cell_type": "code",
   "execution_count": 75,
   "metadata": {},
   "outputs": [
    {
     "name": "stdout",
     "output_type": "stream",
     "text": [
      "{'sandía': 7, 'mango': 4, 'manzana': 2, 'banana': 3, 'uva': 5, 'pera': 4}\n"
     ]
    }
   ],
   "source": [
    "frutas1 = {\"sandía\": 7, \"mango\": 4}\n",
    "\n",
    "frutas1.update(frutas)\n",
    "\n",
    "print(frutas1)"
   ]
  },
  {
   "cell_type": "code",
   "execution_count": 76,
   "metadata": {},
   "outputs": [
    {
     "data": {
      "text/plain": [
       "{'sandía': 7, 'mango': 4, 'manzana': 2, 'banana': 3, 'uva': 5, 'pera': 4}"
      ]
     },
     "execution_count": 76,
     "metadata": {},
     "output_type": "execute_result"
    }
   ],
   "source": [
    "total_frutas = frutas1.copy()\n",
    "\n",
    "total_frutas"
   ]
  },
  {
   "cell_type": "code",
   "execution_count": 77,
   "metadata": {},
   "outputs": [
    {
     "data": {
      "text/plain": [
       "{'manzana': 2, 'banana': 3, 'uva': 5, 'pera': 4}"
      ]
     },
     "execution_count": 77,
     "metadata": {},
     "output_type": "execute_result"
    }
   ],
   "source": [
    "frutas"
   ]
  },
  {
   "cell_type": "code",
   "execution_count": 78,
   "metadata": {},
   "outputs": [
    {
     "data": {
      "text/plain": [
       "{'manzana': 2, 'banana': 3, 'uva': 5, 'pera': 4, 'sandía': 7, 'mango': 4}"
      ]
     },
     "execution_count": 78,
     "metadata": {},
     "output_type": "execute_result"
    }
   ],
   "source": [
    "frutas2 = {\"sandía\": 7, \"mango\": 4}\n",
    "\n",
    "total_frutas2 = frutas.copy()\n",
    "\n",
    "total_frutas2.update(frutas2)\n",
    "\n",
    "total_frutas2"
   ]
  },
  {
   "cell_type": "markdown",
   "metadata": {},
   "source": [
    "Parte 6: Sentencias de Control"
   ]
  },
  {
   "cell_type": "code",
   "execution_count": 81,
   "metadata": {},
   "outputs": [
    {
     "name": "stdout",
     "output_type": "stream",
     "text": [
      "Tu edad es 70, por esto Eres un adulto mayor.\n"
     ]
    }
   ],
   "source": [
    "# Ejercicio 1: Evaluación de Edades:\n",
    "\n",
    "# Ejercicio 1: Evaluación de Edades:\n",
    "#Escribe un programa que solicite al usuario ingresar su edad.\n",
    "edad_usuario = int(input(\"Por favor, ingrese tu edad:\"))\n",
    "#Si la edad es menor de 18, muestra \"Eres menor de edad\".\n",
    "#Si la edad está entre 18 y 65 (incluyendo ambos extremos), muestra \"Eres adulto\".\n",
    "#Si la edad es mayor que 65, muestra \"Eres un adulto mayor\".\n",
    "if edad_usuario < 18:\n",
    "    print(f\"Tu edad es {edad_usuario}, por esto Eres menor de edad.\")\n",
    "elif 18 <= edad_usuario <= 65:\n",
    "    print(f\"Tu edad es {edad_usuario}, por esto Eres adulto.\")\n",
    "else:\n",
    "    print(f\"Tu edad es {edad_usuario}, por esto Eres un adulto mayor.\")"
   ]
  },
  {
   "cell_type": "code",
   "execution_count": 84,
   "metadata": {},
   "outputs": [
    {
     "name": "stdout",
     "output_type": "stream",
     "text": [
      "otra cosa\n"
     ]
    }
   ],
   "source": [
    "edad_usuario = int(input(\"Por favor, ingrese tu edad:\"))\n",
    "\n",
    "if edad_usuario < 18:\n",
    "    print(f\"Tu edad es {edad_usuario}, por esto Eres menor de edad.\")\n",
    "\n",
    "else:\n",
    "    print(\"otra cosa\")"
   ]
  },
  {
   "cell_type": "code",
   "execution_count": 89,
   "metadata": {},
   "outputs": [
    {
     "data": {
      "text/plain": [
       "True"
      ]
     },
     "execution_count": 89,
     "metadata": {},
     "output_type": "execute_result"
    }
   ],
   "source": [
    "edad_usuario = int(input(\"Por favor, ingrese tu edad:\"))\n",
    "type(edad_usuario)\n",
    "\n",
    "edad_usuario < 18"
   ]
  },
  {
   "cell_type": "markdown",
   "metadata": {},
   "source": [
    "Ejercicio 2: Determinación de Día de la Semana"
   ]
  },
  {
   "cell_type": "code",
   "execution_count": 90,
   "metadata": {},
   "outputs": [
    {
     "name": "stdout",
     "output_type": "stream",
     "text": [
      "Viernes\n"
     ]
    }
   ],
   "source": [
    "numero = int(input(\"Ingrese un numero del 1 al 7: \"))\n",
    "if numero == 1 :\n",
    "    print(\"Lunes\")\n",
    "elif numero == 2 :\n",
    "    print(\"Martes\")\n",
    "elif numero == 3 :\n",
    "    print(\"Miercoles\")\n",
    "elif numero == 4 :\n",
    "    print(\"Jueves\")\n",
    "elif numero == 5 :\n",
    "    print(\"Viernes\")\n",
    "elif numero == 6 :\n",
    "    print(\"Sabado\")\n",
    "elif numero == 7 :\n",
    "    print(\"Domingo\")\n",
    "    \n",
    "else :\n",
    "    print(\"Solo trabajamos con los numero del 1 al 7\")"
   ]
  },
  {
   "cell_type": "code",
   "execution_count": 91,
   "metadata": {},
   "outputs": [
    {
     "name": "stdout",
     "output_type": "stream",
     "text": [
      "hoy es: viernes\n"
     ]
    }
   ],
   "source": [
    "dias_semana={1:'lunes', 2: 'martes', 3:'miercoles', 4: 'jueves', 5: 'viernes', 6: 'sabado', 7:'domingo'}\n",
    "dia_usuario=int(input(\"elije un numero del 1 al 7\"))\n",
    "if 1<= dia_usuario <=7:\n",
    "    print(\"hoy es:\", dias_semana[dia_usuario])"
   ]
  },
  {
   "cell_type": "code",
   "execution_count": 92,
   "metadata": {},
   "outputs": [
    {
     "data": {
      "text/plain": [
       "'miercoles'"
      ]
     },
     "execution_count": 92,
     "metadata": {},
     "output_type": "execute_result"
    }
   ],
   "source": [
    "dias_semana={1:'lunes', 2: 'martes', 3:'miercoles', 4: 'jueves', 5: 'viernes', 6: 'sabado', 7:'domingo'}\n",
    "\n",
    "dia_usuario=int(input(\"elije un numero del 1 al 7\"))\n",
    "\n",
    "dias_semana.get(dia_usuario, \"error\")"
   ]
  },
  {
   "cell_type": "code",
   "execution_count": 96,
   "metadata": {},
   "outputs": [
    {
     "name": "stdout",
     "output_type": "stream",
     "text": [
      "tu dia de la semana es viernes\n"
     ]
    }
   ],
   "source": [
    "numero_dia = int(input('Dime un número del 1 al 7'))\n",
    "dias_de_la_semana = ['lunes', 'martes', 'miércoles', 'jueves', 'viernes', 'sábado', 'domingo']\n",
    "nombre_dia = dias_de_la_semana [numero_dia-1]\n",
    "print(f'tu dia de la semana es {nombre_dia}')"
   ]
  },
  {
   "cell_type": "markdown",
   "metadata": {},
   "source": [
    "Ejercicio 3: Juego de Adivinanza"
   ]
  },
  {
   "cell_type": "code",
   "execution_count": 99,
   "metadata": {},
   "outputs": [
    {
     "name": "stdout",
     "output_type": "stream",
     "text": [
      "76\n",
      "has fallado\n"
     ]
    }
   ],
   "source": [
    "n_aleat = random.randint(1,100)\n",
    "print(n_aleat)\n",
    "intentos = 1\n",
    "while intentos !=0:\n",
    "    intentos = intentos -1\n",
    "    numero_usuario = input(\"proporciona un numero entre el 1 y el 100\")\n",
    "    numero_int = int(numero_usuario)\n",
    "    if (n_aleat == numero_int) : \n",
    "        print('¡Ganaste en el primer intento!')\n",
    "else:\n",
    "    print('has fallado')"
   ]
  },
  {
   "cell_type": "code",
   "execution_count": 101,
   "metadata": {},
   "outputs": [
    {
     "name": "stdout",
     "output_type": "stream",
     "text": [
      "El número aleatorio es: 42.\n",
      "Ganaste en el primer intento!\n"
     ]
    }
   ],
   "source": [
    "#Ejercicio 3: Juego de Adivinanza\n",
    "#Genera un número aleatorio entre 1 y 100.\n",
    "\n",
    "numero_aleatorio = random.randint (1,100)\n",
    "print (f\"El número aleatorio es: {numero_aleatorio}.\")\n",
    "#Pídele al usuario que adivine el número.\n",
    "#Si el usuario adivina correctamente en el primer intento, muestra \"¡Ganaste en el primer intento!\".\n",
    "#Si el usuario no adivina en el primer intento, bríndale pistas (mayor o menor) y permite que intente nuevamente. Muestra cuántos intentos le llevó al final.\n",
    "intentos = 0 # Inicializa el contador de intentos en 0.\n",
    "while True:\n",
    "    intentos +=1\n",
    "    intento_usuario = int(input(\"Adivina un número entre 1 y 100: \"))\n",
    "     # Comprueba si el intento del usuario coincide con el número aleatorio.\n",
    "    if intento_usuario == numero_aleatorio:\n",
    "        if intentos == 1:\n",
    "            print(\"Ganaste en el primer intento!\")\n",
    "        else:\n",
    "            print(f\"¡Ganaste! Adivinaste el número {numero_aleatorio} en {intentos} intentos.\")\n",
    "        break  # Sale del bucle ya que el usuario adivinó el número en el primer intento.\n",
    "    elif intento_usuario < numero_aleatorio:\n",
    "        print(\"El número es mayor. Intenta nuevamente.\")\n",
    "    else:\n",
    "        print(\"El número es menor. Intenta nuevamente.\")"
   ]
  },
  {
   "cell_type": "code",
   "execution_count": null,
   "metadata": {},
   "outputs": [],
   "source": [
    "numero_aleatorio = random.randint(1,100)\n",
    "print(numero_aleatorio)\n",
    "numero_intentos = 1\n",
    "while True:\n",
    "    eleccion_usuario = int(input('Escoge un número del 1 al 100')) \n",
    "    if eleccion_usuario < numero_aleatorio:\n",
    "        print('El número es mayor')\n",
    "        numero_intentos += 1 \n",
    "    elif eleccion_usuario > numero_aleatorio: \n",
    "        print('El número es menor')\n",
    "        numero_intentos += 1\n",
    "    else: \n",
    "        if eleccion_usuario == numero_aleatorio: \n",
    "            print(f'Has adivinado! Lo has conseguido en {numero_intentos} intentos')\n",
    "            break"
   ]
  },
  {
   "cell_type": "code",
   "execution_count": null,
   "metadata": {},
   "outputs": [],
   "source": [
    "num_random = random.randint(1, 100)\n",
    "intentos = 0\n",
    "print(\"Inserta un número\")\n",
    "num_usuario = int(input())\n",
    "print(num_usuario)\n",
    "if num_usuario == num_random:\n",
    "    print(\"¡Ganaste en el primer intento!\")\n",
    "else:\n",
    "    while num_usuario != num_random:\n",
    "        \n",
    "        if num_usuario > num_random:\n",
    "            print(\"Prueba con un número más pequeño\")\n",
    "            num_usuario = int(input())\n",
    "            print(num_usuario)\n",
    "            intentos += 1\n",
    "        else:\n",
    "            print(\"Prueba con un número más grande\")\n",
    "            num_usuario = int(input())\n",
    "            print(num_usuario)\n",
    "            intentos += 1\n",
    "        if num_random == num_usuario:\n",
    "            print(\"Ganaste en el intento número\", intentos)\n",
    "            break"
   ]
  },
  {
   "cell_type": "code",
   "execution_count": null,
   "metadata": {},
   "outputs": [],
   "source": [
    "numero = 89\n",
    "\n",
    "adivina_numero = int(input(\"Pasa un numero entero entre 1 y 100\"))\n",
    "\n",
    "intentos = 1\n",
    "\n",
    "while numero != adivina_numero:\n",
    "    print(\"lo siento no has acertado, intentalo de nuevo\")\n",
    "    adivina_numero = int(input(\"Pasa un numero entero entre 1 y 100\"))\n",
    "    intentos += 1\n",
    "\n",
    "    if numero > adivina_numero:\n",
    "        print(\"el numero es mas grande\")\n",
    "    else:\n",
    "        print(\"el num es mas pequeño\")\n",
    "        \n",
    "if intentos == 1:\n",
    "    print(\"1 intento\")\n",
    "\n",
    "else:\n",
    "    print(\"mas\")     \n",
    "print(f\"Perfecto, el numero era {adivina_numero} lo has acertado despues de {intentos} intentos\")"
   ]
  },
  {
   "cell_type": "markdown",
   "metadata": {},
   "source": [
    "Ejercicio 4: Juego de Adivinar la Palabra\n",
    "- Elige una palabra secreta y ocúltala utilizando asteriscos, por ejemplo, \"secreto\" se \n",
    "muestra como \"*******\".\n",
    "- Permite al usuario adivinar letras una por una.\n",
    "- Si la letra adivinada está en la palabra secreta, muestra la palabra con las letras \n",
    "descubiertas y los asteriscos.\n",
    "- Si la letra no está en la palabra secreta, resta una vida al jugador.\n",
    "- El juego continúa hasta que el jugador adivine la palabra"
   ]
  },
  {
   "cell_type": "code",
   "execution_count": null,
   "metadata": {},
   "outputs": [],
   "source": []
  },
  {
   "cell_type": "code",
   "execution_count": 107,
   "metadata": {},
   "outputs": [
    {
     "name": "stdout",
     "output_type": "stream",
     "text": [
      "La palabra tiene 3 letras.\n",
      "s\n",
      "Posicion letra es 0\n",
      "la lista de palabra oculta es ['*', '*', '*']\n",
      "la lista de palabra oculta tras añadir la letra del usuario es ['s', '*', '*']\n",
      "La palabra oculta es s**\n",
      "a\n",
      "Has fallado, vuelve a intentarlo. Te queda 1 vidas\n",
      "e\n",
      "Posicion letra es 1\n",
      "la lista de palabra oculta es ['s', '*', '*']\n",
      "la lista de palabra oculta tras añadir la letra del usuario es ['s', 'e', '*']\n",
      "La palabra oculta es se*\n",
      "e\n",
      "Posicion letra es 1\n",
      "la lista de palabra oculta es ['s', 'e', '*']\n",
      "la lista de palabra oculta tras añadir la letra del usuario es ['s', 'e', '*']\n",
      "La palabra oculta es se*\n",
      "c\n",
      "Posicion letra es 2\n",
      "la lista de palabra oculta es ['s', 'e', '*']\n",
      "la lista de palabra oculta tras añadir la letra del usuario es ['s', 'e', 'c']\n",
      "La palabra oculta es sec\n"
     ]
    }
   ],
   "source": [
    "# Testeado cuando NO se repiten letras dentro de la palabra\n",
    "# Definición de variables\n",
    "palabra_secreta = \"sec\"\n",
    "vidas_usuario = 2\n",
    "# Necesitamos una palabra formada con * con el mismo número de letras que la palabra secreta\n",
    "palabra_oculta = '*' * len(palabra_secreta)\n",
    "print(\"La palabra tiene\", len(palabra_secreta), \"letras.\")\n",
    "# Las condiciones para permanecer en el bucle es que la palabra oculta aún tenga * y que el usuario tenga más de 0 vidas. Si una sola no se cumple, salimos del bucle\n",
    "while \"*\" in palabra_oculta and vidas_usuario > 0:\n",
    "    letra_usuario = input(f\"Indica una letra de la {palabra_oculta}\")\n",
    "    print(letra_usuario)\n",
    "    if letra_usuario in palabra_secreta:\n",
    "        #Necesito sustituir el * en palabra oculta por la letra del usuario en la posición que ocupa esa letra en la palabra secreta\n",
    "        posicion_letra = palabra_secreta.find(letra_usuario.lower()) # Protejo la posibilidad de que el usuario utilice Mayus\n",
    "        print(f\"Posicion letra es {posicion_letra}\")\n",
    "       # Pasar palabra oculta a lista, sustituir el valor del usuario en la posicion que corresponde (por el indice), volver a convertirlo en un string y mostrarlo\n",
    "        palabra_oculta_lista = list(palabra_oculta)\n",
    "        print(f\"la lista de palabra oculta es {palabra_oculta_lista}\")\n",
    "        # Añado la letra del usuario en la posición donde corresponde\n",
    "        palabra_oculta_lista[posicion_letra] = letra_usuario\n",
    "        print(f\"la lista de palabra oculta tras añadir la letra del usuario es {palabra_oculta_lista}\")\n",
    "        # Paso la palabra oculta a string para mostrarla al usuario -> join y no usamos nada como delimitador, porque quiero una cadena de texto\n",
    "        palabra_oculta = \"\".join(palabra_oculta_lista)\n",
    "        print(f\"La palabra oculta es {palabra_oculta}\")\n",
    "    else:\n",
    "        vidas_usuario -= 1\n",
    "        print(f\"Has fallado, vuelve a intentarlo. Te queda {vidas_usuario} vidas\")"
   ]
  },
  {
   "cell_type": "code",
   "execution_count": 105,
   "metadata": {},
   "outputs": [
    {
     "data": {
      "text/plain": [
       "'holaholaholaholahola'"
      ]
     },
     "execution_count": 105,
     "metadata": {},
     "output_type": "execute_result"
    }
   ],
   "source": [
    "\"hola\" * 5"
   ]
  },
  {
   "cell_type": "code",
   "execution_count": 114,
   "metadata": {},
   "outputs": [
    {
     "name": "stdout",
     "output_type": "stream",
     "text": [
      "La letra p esta en la palabra\n",
      "p*****\n",
      "La letra r no está en la palabra\n",
      "p*****\n",
      "La letra r no está en la palabra\n",
      "p*****\n",
      "La letra y esta en la palabra\n",
      "py****\n",
      "La letra t esta en la palabra\n",
      "pyt***\n",
      "La letra m no está en la palabra\n",
      "pyt***\n",
      "La letra m no está en la palabra\n",
      "pyt***\n",
      "La letra h esta en la palabra\n",
      "pyth**\n",
      "La letra o esta en la palabra\n",
      "pytho*\n",
      "La letra n esta en la palabra\n",
      "python\n",
      "La palabra es python \n"
     ]
    }
   ],
   "source": [
    "palabra_secreta = \"python\"\n",
    "palabra_oculta = '*' * len(palabra_secreta)\n",
    "lista = set([])\n",
    "palabra_oculta = list(palabra_oculta)\n",
    "\n",
    "while len(lista) != len(palabra_secreta):\n",
    "    letra = input(\"Empieza el juego, dime una letra para saber si esta dentro de la palabra secreta\")\n",
    "\n",
    "    if letra in palabra_secreta:\n",
    "        print(f\"La letra {letra} esta en la palabra\" )\n",
    "        posicion_letra = palabra_secreta.index(letra)\n",
    "        \n",
    "        palabra_oculta[posicion_letra] = letra\n",
    "        lista.add(letra)\n",
    "\n",
    "    else:\n",
    "        print(f\"La letra {letra} no está en la palabra\")\n",
    "    print(\"\".join(palabra_oculta))\n",
    "   \n",
    "print(f\"La palabra es {''.join(palabra_oculta)} \") "
   ]
  },
  {
   "cell_type": "code",
   "execution_count": 108,
   "metadata": {},
   "outputs": [
    {
     "ename": "TypeError",
     "evalue": "'str' object does not support item assignment",
     "output_type": "error",
     "traceback": [
      "\u001b[0;31m---------------------------------------------------------------------------\u001b[0m",
      "\u001b[0;31mTypeError\u001b[0m                                 Traceback (most recent call last)",
      "Cell \u001b[0;32mIn[108], line 3\u001b[0m\n\u001b[1;32m      1\u001b[0m pal \u001b[38;5;241m=\u001b[39m \u001b[38;5;124m\"\u001b[39m\u001b[38;5;124mhola\u001b[39m\u001b[38;5;124m\"\u001b[39m\n\u001b[0;32m----> 3\u001b[0m \u001b[43mpal\u001b[49m\u001b[43m[\u001b[49m\u001b[38;5;241;43m2\u001b[39;49m\u001b[43m]\u001b[49m \u001b[38;5;241m=\u001b[39m \u001b[38;5;124m\"\u001b[39m\u001b[38;5;124mA\u001b[39m\u001b[38;5;124m\"\u001b[39m\n",
      "\u001b[0;31mTypeError\u001b[0m: 'str' object does not support item assignment"
     ]
    }
   ],
   "source": [
    "pal = \"hola\"\n",
    "\n",
    "pal[2] = \"A\""
   ]
  },
  {
   "cell_type": "code",
   "execution_count": null,
   "metadata": {},
   "outputs": [],
   "source": []
  },
  {
   "cell_type": "code",
   "execution_count": null,
   "metadata": {},
   "outputs": [],
   "source": []
  },
  {
   "cell_type": "code",
   "execution_count": null,
   "metadata": {},
   "outputs": [],
   "source": []
  }
 ],
 "metadata": {
  "kernelspec": {
   "display_name": "promo-i",
   "language": "python",
   "name": "python3"
  },
  "language_info": {
   "codemirror_mode": {
    "name": "ipython",
    "version": 3
   },
   "file_extension": ".py",
   "mimetype": "text/x-python",
   "name": "python",
   "nbconvert_exporter": "python",
   "pygments_lexer": "ipython3",
   "version": "3.11.7"
  }
 },
 "nbformat": 4,
 "nbformat_minor": 2
}
