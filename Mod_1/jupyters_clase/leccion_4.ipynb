{
 "cells": [
  {
   "cell_type": "markdown",
   "metadata": {},
   "source": [
    "# Sentencias de control\n",
    "\n",
    "- Se utilizan para establecer condiciones\n",
    "- La condición nos tiene que devolver un booleano\n",
    "- El código tiene que ir indentado dentro de cada condición\n",
    "- El orden importa\n",
    "- Tenemos que poner : después de la condición\n",
    "- En else tenemos que poner : después -> else no lleva condición"
   ]
  },
  {
   "cell_type": "code",
   "execution_count": 3,
   "metadata": {},
   "outputs": [
    {
     "data": {
      "text/plain": [
       "True"
      ]
     },
     "execution_count": 3,
     "metadata": {},
     "output_type": "execute_result"
    }
   ],
   "source": [
    "saludo = \"Buenos días Adalaber 😊\"\n",
    "\n",
    "\"días\" in saludo"
   ]
  },
  {
   "cell_type": "code",
   "execution_count": 7,
   "metadata": {},
   "outputs": [
    {
     "name": "stdout",
     "output_type": "stream",
     "text": [
      "BUENOS DÍAS ADALABER 😊\n",
      "Buenos días Adalaber 😊hoy es jueves\n"
     ]
    }
   ],
   "source": [
    "saludo = \"Buenos días Adalaber 😊\"\n",
    "\n",
    "if \"días\" in saludo:\n",
    "\n",
    "    print(saludo.upper())\n",
    "    print(saludo + \"hoy es jueves\")\n",
    "    saludo.lower()\n",
    "    saludo = saludo.split()"
   ]
  },
  {
   "cell_type": "code",
   "execution_count": 8,
   "metadata": {},
   "outputs": [
    {
     "data": {
      "text/plain": [
       "['Buenos', 'días', 'Adalaber', '😊']"
      ]
     },
     "execution_count": 8,
     "metadata": {},
     "output_type": "execute_result"
    }
   ],
   "source": [
    "saludo"
   ]
  },
  {
   "cell_type": "code",
   "execution_count": 10,
   "metadata": {},
   "outputs": [
    {
     "data": {
      "text/plain": [
       "'hola'"
      ]
     },
     "execution_count": 10,
     "metadata": {},
     "output_type": "execute_result"
    }
   ],
   "source": [
    "saludo2 = \"HoLa\"\n",
    "\n",
    "saludo2.lower()"
   ]
  },
  {
   "cell_type": "markdown",
   "metadata": {},
   "source": [
    "vamos a hacer un programa que evalue el número de peras, si tenemos más de 3 peras imprima: tienes muchas peras, si tenemos más de 8: vende peras y si tenemos menos de 3: compra peras"
   ]
  },
  {
   "cell_type": "code",
   "execution_count": 17,
   "metadata": {},
   "outputs": [
    {
     "name": "stdout",
     "output_type": "stream",
     "text": [
      "tienes muchas peras\n"
     ]
    }
   ],
   "source": [
    "peras = 9\n",
    "\n",
    "if peras > 3:\n",
    "\n",
    "    peras = 0\n",
    "    print(\"tienes muchas peras\")\n",
    "\n",
    "\n",
    "\n",
    "if peras > 8:\n",
    "\n",
    "    print(\"vende peras\")\n",
    "\n",
    "else:\n",
    "\n",
    "    print(\"compra peras\")"
   ]
  },
  {
   "cell_type": "code",
   "execution_count": 20,
   "metadata": {},
   "outputs": [
    {
     "name": "stdout",
     "output_type": "stream",
     "text": [
      "1\n"
     ]
    }
   ],
   "source": [
    "peras = 1\n",
    "\n",
    "if peras > 3:\n",
    "\n",
    "    print(\"tienes muchas peras\")\n",
    "    peras = 0\n",
    "\n",
    "    \n",
    "print(peras)"
   ]
  },
  {
   "cell_type": "code",
   "execution_count": 21,
   "metadata": {},
   "outputs": [
    {
     "name": "stdout",
     "output_type": "stream",
     "text": [
      "tienes muchas peras\n",
      "nos quedan 8 peras\n"
     ]
    }
   ],
   "source": [
    "peras = 9\n",
    "\n",
    "if peras > 3:\n",
    "\n",
    "    peras -=1\n",
    "    print(\"tienes muchas peras\")\n",
    "\n",
    "\n",
    "\n",
    "elif peras > 8:\n",
    "\n",
    "    print(\"vende peras\")\n",
    "\n",
    "else:\n",
    "\n",
    "    print(\"compra peras\")\n",
    "\n",
    "print(f\"nos quedan {peras} peras\")"
   ]
  },
  {
   "cell_type": "code",
   "execution_count": 25,
   "metadata": {},
   "outputs": [
    {
     "name": "stdout",
     "output_type": "stream",
     "text": [
      "compra peras\n"
     ]
    }
   ],
   "source": [
    "peras = 2\n",
    "\n",
    "if peras > 8:\n",
    "\n",
    "    peras -= 1  # es lo mismo que poner peras = peras - 1\n",
    "    print(\"vende peras\")\n",
    "\n",
    "\n",
    "elif peras > 3:\n",
    "\n",
    "    print(\"tienes muchas peras\")\n",
    "\n",
    "else:\n",
    "\n",
    "    print(\"compra peras\")\n",
    "\n"
   ]
  },
  {
   "cell_type": "code",
   "execution_count": 26,
   "metadata": {},
   "outputs": [
    {
     "name": "stdout",
     "output_type": "stream",
     "text": [
      "3\n"
     ]
    }
   ],
   "source": [
    "manzanas = 4\n",
    "\n",
    "manzanas = manzanas - 1\n",
    "\n",
    "print(manzanas)"
   ]
  },
  {
   "cell_type": "code",
   "execution_count": 27,
   "metadata": {},
   "outputs": [
    {
     "name": "stdout",
     "output_type": "stream",
     "text": [
      "3\n"
     ]
    }
   ],
   "source": [
    "manzanas = 4\n",
    "\n",
    "manzanas -= 1\n",
    "\n",
    "print(manzanas)"
   ]
  },
  {
   "cell_type": "markdown",
   "metadata": {},
   "source": [
    "Vamos a hacer un programa que pregunte por un código y si no lo adivinamos en 3 intentos, se detenga"
   ]
  },
  {
   "cell_type": "code",
   "execution_count": null,
   "metadata": {},
   "outputs": [],
   "source": [
    "# definir un pin\n",
    "# input para preguntar el pin\n",
    "# evaluamos si el pin es correcto\n",
    "    # paramos el código\n",
    "# si no es correcto\n",
    "    # quitamos un intento y volvemos a preguntar"
   ]
  },
  {
   "cell_type": "code",
   "execution_count": 20,
   "metadata": {},
   "outputs": [
    {
     "name": "stdout",
     "output_type": "stream",
     "text": [
      "<class 'int'>\n",
      "no es correcto\n",
      "----------------\n",
      "<class 'int'>\n",
      "no es correcto\n",
      "----------------\n",
      "<class 'int'>\n",
      "no es correcto\n",
      "----------------\n",
      "no quedan intentos\n"
     ]
    }
   ],
   "source": [
    "pin = 42\n",
    "intentos = 3\n",
    "\n",
    "\n",
    "\n",
    "while intentos != 0:\n",
    "\n",
    "    intentos = intentos - 1\n",
    "    # es igual que intentos -= 1\n",
    "    \n",
    "    opcion_usuaria = int(input(\"Introduce el PIN\"))\n",
    "    \n",
    "    print(type(opcion_usuaria))\n",
    "\n",
    "    if opcion_usuaria == pin:\n",
    "\n",
    "        print(\"pin correcto\")\n",
    "        break\n",
    "\n",
    "    else:\n",
    "\n",
    "        print(\"no es correcto\")\n",
    "\n",
    "    print(\"----------------\")\n",
    "\n",
    "else:\n",
    "\n",
    "    print(\"no quedan intentos\")\n",
    "\n"
   ]
  },
  {
   "cell_type": "code",
   "execution_count": 10,
   "metadata": {},
   "outputs": [
    {
     "data": {
      "text/plain": [
       "False"
      ]
     },
     "execution_count": 10,
     "metadata": {},
     "output_type": "execute_result"
    }
   ],
   "source": [
    "intentos = 0\n",
    "\n",
    "intentos != 0"
   ]
  },
  {
   "cell_type": "code",
   "execution_count": 1,
   "metadata": {},
   "outputs": [
    {
     "name": "stdout",
     "output_type": "stream",
     "text": [
      "The Zen of Python, by Tim Peters\n",
      "\n",
      "Beautiful is better than ugly.\n",
      "Explicit is better than implicit.\n",
      "Simple is better than complex.\n",
      "Complex is better than complicated.\n",
      "Flat is better than nested.\n",
      "Sparse is better than dense.\n",
      "Readability counts.\n",
      "Special cases aren't special enough to break the rules.\n",
      "Although practicality beats purity.\n",
      "Errors should never pass silently.\n",
      "Unless explicitly silenced.\n",
      "In the face of ambiguity, refuse the temptation to guess.\n",
      "There should be one-- and preferably only one --obvious way to do it.\n",
      "Although that way may not be obvious at first unless you're Dutch.\n",
      "Now is better than never.\n",
      "Although never is often better than *right* now.\n",
      "If the implementation is hard to explain, it's a bad idea.\n",
      "If the implementation is easy to explain, it may be a good idea.\n",
      "Namespaces are one honking great idea -- let's do more of those!\n"
     ]
    }
   ],
   "source": [
    "import this"
   ]
  },
  {
   "cell_type": "code",
   "execution_count": 17,
   "metadata": {},
   "outputs": [
    {
     "data": {
      "text/plain": [
       "True"
      ]
     },
     "execution_count": 17,
     "metadata": {},
     "output_type": "execute_result"
    }
   ],
   "source": [
    "\"42\" == \"42\""
   ]
  },
  {
   "cell_type": "code",
   "execution_count": null,
   "metadata": {},
   "outputs": [],
   "source": []
  },
  {
   "cell_type": "code",
   "execution_count": null,
   "metadata": {},
   "outputs": [],
   "source": []
  },
  {
   "cell_type": "code",
   "execution_count": null,
   "metadata": {},
   "outputs": [],
   "source": []
  },
  {
   "cell_type": "code",
   "execution_count": 39,
   "metadata": {},
   "outputs": [],
   "source": [
    "import this"
   ]
  },
  {
   "cell_type": "code",
   "execution_count": null,
   "metadata": {},
   "outputs": [],
   "source": []
  },
  {
   "cell_type": "code",
   "execution_count": null,
   "metadata": {},
   "outputs": [],
   "source": []
  },
  {
   "cell_type": "code",
   "execution_count": null,
   "metadata": {},
   "outputs": [],
   "source": []
  },
  {
   "cell_type": "code",
   "execution_count": null,
   "metadata": {},
   "outputs": [],
   "source": []
  },
  {
   "cell_type": "code",
   "execution_count": null,
   "metadata": {},
   "outputs": [],
   "source": []
  },
  {
   "cell_type": "code",
   "execution_count": null,
   "metadata": {},
   "outputs": [],
   "source": []
  },
  {
   "cell_type": "code",
   "execution_count": null,
   "metadata": {},
   "outputs": [],
   "source": []
  },
  {
   "cell_type": "code",
   "execution_count": null,
   "metadata": {},
   "outputs": [],
   "source": []
  },
  {
   "cell_type": "code",
   "execution_count": null,
   "metadata": {},
   "outputs": [],
   "source": []
  },
  {
   "cell_type": "code",
   "execution_count": null,
   "metadata": {},
   "outputs": [],
   "source": []
  },
  {
   "cell_type": "code",
   "execution_count": null,
   "metadata": {},
   "outputs": [],
   "source": []
  },
  {
   "cell_type": "code",
   "execution_count": null,
   "metadata": {},
   "outputs": [],
   "source": []
  },
  {
   "cell_type": "code",
   "execution_count": null,
   "metadata": {},
   "outputs": [],
   "source": []
  },
  {
   "cell_type": "code",
   "execution_count": null,
   "metadata": {},
   "outputs": [],
   "source": []
  },
  {
   "cell_type": "code",
   "execution_count": null,
   "metadata": {},
   "outputs": [],
   "source": []
  },
  {
   "cell_type": "code",
   "execution_count": null,
   "metadata": {},
   "outputs": [],
   "source": []
  },
  {
   "cell_type": "code",
   "execution_count": null,
   "metadata": {},
   "outputs": [],
   "source": []
  },
  {
   "cell_type": "code",
   "execution_count": null,
   "metadata": {},
   "outputs": [],
   "source": []
  },
  {
   "cell_type": "code",
   "execution_count": null,
   "metadata": {},
   "outputs": [],
   "source": []
  },
  {
   "cell_type": "code",
   "execution_count": null,
   "metadata": {},
   "outputs": [],
   "source": []
  },
  {
   "cell_type": "code",
   "execution_count": null,
   "metadata": {},
   "outputs": [],
   "source": []
  },
  {
   "cell_type": "code",
   "execution_count": null,
   "metadata": {},
   "outputs": [],
   "source": []
  },
  {
   "cell_type": "code",
   "execution_count": null,
   "metadata": {},
   "outputs": [],
   "source": []
  },
  {
   "cell_type": "code",
   "execution_count": null,
   "metadata": {},
   "outputs": [],
   "source": []
  },
  {
   "cell_type": "code",
   "execution_count": null,
   "metadata": {},
   "outputs": [],
   "source": []
  },
  {
   "cell_type": "code",
   "execution_count": null,
   "metadata": {},
   "outputs": [],
   "source": []
  },
  {
   "cell_type": "code",
   "execution_count": null,
   "metadata": {},
   "outputs": [],
   "source": []
  },
  {
   "cell_type": "code",
   "execution_count": null,
   "metadata": {},
   "outputs": [],
   "source": []
  },
  {
   "cell_type": "code",
   "execution_count": null,
   "metadata": {},
   "outputs": [],
   "source": []
  },
  {
   "cell_type": "code",
   "execution_count": null,
   "metadata": {},
   "outputs": [],
   "source": []
  },
  {
   "cell_type": "code",
   "execution_count": null,
   "metadata": {},
   "outputs": [],
   "source": []
  }
 ],
 "metadata": {
  "kernelspec": {
   "display_name": "promo-i",
   "language": "python",
   "name": "python3"
  },
  "language_info": {
   "codemirror_mode": {
    "name": "ipython",
    "version": 3
   },
   "file_extension": ".py",
   "mimetype": "text/x-python",
   "name": "python",
   "nbconvert_exporter": "python",
   "pygments_lexer": "ipython3",
   "version": "3.11.7"
  }
 },
 "nbformat": 4,
 "nbformat_minor": 2
}
