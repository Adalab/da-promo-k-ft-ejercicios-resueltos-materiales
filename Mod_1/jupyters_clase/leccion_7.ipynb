{
 "cells": [
  {
   "cell_type": "markdown",
   "metadata": {},
   "source": [
    "# Clases\n",
    "\n"
   ]
  },
  {
   "cell_type": "code",
   "execution_count": 1,
   "metadata": {},
   "outputs": [],
   "source": [
    "lista = [1,2,3,4]"
   ]
  },
  {
   "cell_type": "code",
   "execution_count": 2,
   "metadata": {},
   "outputs": [
    {
     "data": {
      "text/plain": [
       "4"
      ]
     },
     "execution_count": 2,
     "metadata": {},
     "output_type": "execute_result"
    }
   ],
   "source": [
    "len(lista)"
   ]
  },
  {
   "cell_type": "code",
   "execution_count": 3,
   "metadata": {},
   "outputs": [
    {
     "name": "stdout",
     "output_type": "stream",
     "text": [
      "<class 'list'>\n"
     ]
    }
   ],
   "source": [
    "print(type(lista))"
   ]
  },
  {
   "cell_type": "code",
   "execution_count": 4,
   "metadata": {},
   "outputs": [],
   "source": [
    "lista.append(5)"
   ]
  },
  {
   "cell_type": "code",
   "execution_count": 49,
   "metadata": {},
   "outputs": [],
   "source": [
    "class Alumna:\n",
    "\n",
    "    def __init__(self, nombre, edad, ciudad):\n",
    "        self.nombre = nombre\n",
    "        self.edad = edad\n",
    "        self.ciudad = ciudad\n",
    "        self.promo = \"promo_k\"\n",
    "\n",
    "    def informcion(self):\n",
    "        print(f\"La alumna se llama {self.nombre}, tiene {self.edad} años y vive en {self.ciudad}\")\n",
    "\n",
    "    def dime_promo(self):\n",
    "        print(self.promo)\n"
   ]
  },
  {
   "cell_type": "code",
   "execution_count": 50,
   "metadata": {},
   "outputs": [],
   "source": [
    "k_1 = Alumna(\"Marina\", 24, \"Valencia\")"
   ]
  },
  {
   "cell_type": "code",
   "execution_count": 51,
   "metadata": {},
   "outputs": [
    {
     "data": {
      "text/plain": [
       "'Marina'"
      ]
     },
     "execution_count": 51,
     "metadata": {},
     "output_type": "execute_result"
    }
   ],
   "source": [
    "k_1.nombre"
   ]
  },
  {
   "cell_type": "code",
   "execution_count": 52,
   "metadata": {},
   "outputs": [
    {
     "data": {
      "text/plain": [
       "'promo_k'"
      ]
     },
     "execution_count": 52,
     "metadata": {},
     "output_type": "execute_result"
    }
   ],
   "source": [
    "k_1.promo"
   ]
  },
  {
   "cell_type": "code",
   "execution_count": 53,
   "metadata": {},
   "outputs": [
    {
     "name": "stdout",
     "output_type": "stream",
     "text": [
      "La alumna se llama Marina, tiene 24 años y vive en Valencia\n"
     ]
    }
   ],
   "source": [
    "k_1.informcion()"
   ]
  },
  {
   "cell_type": "code",
   "execution_count": 54,
   "metadata": {},
   "outputs": [
    {
     "name": "stdout",
     "output_type": "stream",
     "text": [
      "promo_k\n"
     ]
    }
   ],
   "source": [
    "k_1.dime_promo()"
   ]
  },
  {
   "cell_type": "code",
   "execution_count": 55,
   "metadata": {},
   "outputs": [],
   "source": [
    "k_2 = Alumna(\"Fiona\", 25, \"Cadiz\")"
   ]
  },
  {
   "cell_type": "code",
   "execution_count": 56,
   "metadata": {},
   "outputs": [
    {
     "name": "stdout",
     "output_type": "stream",
     "text": [
      "La alumna se llama Fiona, tiene 25 años y vive en Cadiz\n"
     ]
    }
   ],
   "source": [
    "k_2.informcion()"
   ]
  },
  {
   "cell_type": "code",
   "execution_count": 57,
   "metadata": {},
   "outputs": [],
   "source": [
    "def saludo(nombre):\n",
    "\n",
    "    print(f\"Buenos días {nombre}\")"
   ]
  },
  {
   "cell_type": "code",
   "execution_count": 58,
   "metadata": {},
   "outputs": [
    {
     "name": "stdout",
     "output_type": "stream",
     "text": [
      "Buenos días Fiona\n"
     ]
    }
   ],
   "source": [
    "saludo(\"Fiona\")"
   ]
  },
  {
   "cell_type": "code",
   "execution_count": 59,
   "metadata": {},
   "outputs": [
    {
     "ename": "AttributeError",
     "evalue": "'str' object has no attribute 'append'",
     "output_type": "error",
     "traceback": [
      "\u001b[0;31m---------------------------------------------------------------------------\u001b[0m",
      "\u001b[0;31mAttributeError\u001b[0m                            Traceback (most recent call last)",
      "Cell \u001b[0;32mIn[59], line 3\u001b[0m\n\u001b[1;32m      1\u001b[0m nombre \u001b[38;5;241m=\u001b[39m \u001b[38;5;124m\"\u001b[39m\u001b[38;5;124mLaura\u001b[39m\u001b[38;5;124m\"\u001b[39m\n\u001b[0;32m----> 3\u001b[0m \u001b[43mnombre\u001b[49m\u001b[38;5;241;43m.\u001b[39;49m\u001b[43mappend\u001b[49m(\u001b[38;5;124m\"\u001b[39m\u001b[38;5;124mGutierrez\u001b[39m\u001b[38;5;124m\"\u001b[39m)\n",
      "\u001b[0;31mAttributeError\u001b[0m: 'str' object has no attribute 'append'"
     ]
    }
   ],
   "source": [
    "nombre = \"Laura\"\n",
    "\n",
    "nombre.append(\"Gutierrez\")"
   ]
  },
  {
   "cell_type": "code",
   "execution_count": 60,
   "metadata": {},
   "outputs": [
    {
     "data": {
      "text/plain": [
       "'Valencia'"
      ]
     },
     "execution_count": 60,
     "metadata": {},
     "output_type": "execute_result"
    }
   ],
   "source": [
    "k_1.ciudad"
   ]
  },
  {
   "cell_type": "code",
   "execution_count": 61,
   "metadata": {},
   "outputs": [],
   "source": [
    "k_1.ciudad = \"Barcelona\""
   ]
  },
  {
   "cell_type": "code",
   "execution_count": 62,
   "metadata": {},
   "outputs": [
    {
     "name": "stdout",
     "output_type": "stream",
     "text": [
      "La alumna se llama Marina, tiene 24 años y vive en Barcelona\n"
     ]
    }
   ],
   "source": [
    "k_1.informcion()"
   ]
  },
  {
   "cell_type": "code",
   "execution_count": 63,
   "metadata": {},
   "outputs": [],
   "source": [
    "k_1.promo = \"promo_karol\""
   ]
  },
  {
   "cell_type": "code",
   "execution_count": 64,
   "metadata": {},
   "outputs": [
    {
     "name": "stdout",
     "output_type": "stream",
     "text": [
      "promo_karol\n"
     ]
    }
   ],
   "source": [
    "k_1.dime_promo()"
   ]
  },
  {
   "cell_type": "code",
   "execution_count": 65,
   "metadata": {},
   "outputs": [],
   "source": [
    "def ahorcado(nombre):\n",
    "\n",
    "    print(f\"Hola {nombre}, vamos a jugar al ahorcado\")\n",
    "\n"
   ]
  },
  {
   "cell_type": "code",
   "execution_count": null,
   "metadata": {},
   "outputs": [],
   "source": [
    "def p_p_t(nombre):\n",
    "\n",
    "    print(f\"Hola {nombre}, cuántos jugadores?\")\n",
    "    jug = input(\"Cuántos jugadores\")\n",
    "\n",
    "    if jug == \"1\":\n",
    "        print(\"vas a jugar contra la máquina\")\n",
    "\n",
    "    elif jug == \"2\":\n",
    "        print(\"yo soy tu oponente\")\n",
    "\n",
    "    else:\n",
    "        print(\"opción no valida\")"
   ]
  },
  {
   "cell_type": "code",
   "execution_count": null,
   "metadata": {},
   "outputs": [],
   "source": [
    "# sin método constructor\n",
    "\n",
    "class Juegos:\n",
    "\n",
    "    def ahorcado(self, nombre):\n",
    "\n",
    "        print(f\"Hola {nombre}, vamos a jugar al ahorcado\")\n",
    "\n",
    "    def p_p_t(self, nombre):\n",
    "\n",
    "        print(f\"Hola {nombre}, cuántos jugadores?\")\n",
    "        jug = input(\"Cuántos jugadores\")\n",
    "\n",
    "        if jug == \"1\":\n",
    "            print(\"vas a jugar contra la máquina\")\n",
    "\n",
    "        elif jug == \"2\":\n",
    "            print(\"yo soy tu oponente\")\n",
    "\n",
    "        else:\n",
    "            print(\"opción no valida\")"
   ]
  },
  {
   "cell_type": "code",
   "execution_count": 70,
   "metadata": {},
   "outputs": [],
   "source": [
    "class Juegos:\n",
    "\n",
    "    def __init__(self, nombre):\n",
    "\n",
    "        self.nombre = nombre\n",
    "\n",
    "    def ahorcado(self):\n",
    "\n",
    "        print(f\"Hola {self.nombre}, vamos a jugar al ahorcado\")\n",
    "\n",
    "    def p_p_t(self):\n",
    "\n",
    "        print(f\"Hola {self.nombre}, cuántos jugadores?\")\n",
    "        jug = input(\"Cuántos jugadores\")\n",
    "\n",
    "        if jug == \"1\":\n",
    "            print(\"vas a jugar contra la máquina\")\n",
    "\n",
    "        elif jug == \"2\":\n",
    "            print(\"yo soy tu oponente\")\n",
    "\n",
    "        else:\n",
    "            print(\"opción no valida\")\n",
    "\n",
    "    def jugar(self):\n",
    "\n",
    "        opcion = input(\"A qué quieres jugar\")\n",
    "\n",
    "        if opcion == \"ahorcado\":\n",
    "\n",
    "            self.ahorcado()\n",
    "\n",
    "        elif opcion == \"ppt\":\n",
    "\n",
    "            self.p_p_t()\n",
    "\n",
    "        else:\n",
    "\n",
    "            print(\"opcion no valida\")"
   ]
  },
  {
   "cell_type": "code",
   "execution_count": 71,
   "metadata": {},
   "outputs": [],
   "source": [
    "jugador = Juegos(\"Cesar\")"
   ]
  },
  {
   "cell_type": "code",
   "execution_count": 72,
   "metadata": {},
   "outputs": [
    {
     "name": "stdout",
     "output_type": "stream",
     "text": [
      "Hola Cesar, vamos a jugar al ahorcado\n"
     ]
    }
   ],
   "source": [
    "jugador.ahorcado()"
   ]
  },
  {
   "cell_type": "code",
   "execution_count": 73,
   "metadata": {},
   "outputs": [
    {
     "name": "stdout",
     "output_type": "stream",
     "text": [
      "Hola Cesar, cuántos jugadores?\n",
      "vas a jugar contra la máquina\n"
     ]
    }
   ],
   "source": [
    "jugador.p_p_t()"
   ]
  },
  {
   "cell_type": "code",
   "execution_count": 76,
   "metadata": {},
   "outputs": [
    {
     "name": "stdout",
     "output_type": "stream",
     "text": [
      "opcion no valida\n"
     ]
    }
   ],
   "source": [
    "jugador.jugar()"
   ]
  },
  {
   "cell_type": "code",
   "execution_count": 92,
   "metadata": {},
   "outputs": [],
   "source": [
    "class Vehiculo:\n",
    "\n",
    "    def __init__(self,marca,modelo,año):\n",
    "        \n",
    "        #que marca de coche es\n",
    "        self.marca = marca\n",
    "        self.modelo = modelo\n",
    "        self.año = año\n",
    "        self.velocidad_actual = 0\n",
    "        self.encendido = False\n",
    "\n",
    "    def info(self):\n",
    "\n",
    "        return f\"Vehículo: {self.marca} {self.modelo}, Año: {self.año}\"\n",
    "    \n",
    "    def encender(self):\n",
    "\n",
    "        if not self.encendido:\n",
    "            self.encendido = True\n",
    "            return \"El vehículo se ha encendido.\"\n",
    "        else:\n",
    "            return \"El vehículo ya está encendido.\"\n",
    "\n",
    "    def apagar(self):\n",
    "\n",
    "        if self.encendido:\n",
    "            self.encendido = False\n",
    "            self.velocidad_actual = 0\n",
    "            return \"El vehículo se ha apagado.\"\n",
    "        else:\n",
    "            return \"El vehículo ya está apagado.\"\n",
    "        \n",
    "    def acelerar(self, velocidad):\n",
    "\n",
    "        if self.encendido:\n",
    "\n",
    "            self.velocidad_actual += velocidad \n",
    "            return f\"hemos acelerado {velocidad}, vamos a {self.velocidad_actual}\"\n",
    "        \n",
    "        else:\n",
    "\n",
    "            return \"El coche está apagado\"\n",
    "\n",
    "\n",
    "    def frenar(self, velocidad):\n",
    "        if self.encendido:\n",
    "            self.velocidad_actual -= velocidad\n",
    "            if self.velocidad_actual < 0:\n",
    "                self.velocidad_actual = 0\n",
    "            return f\"El vehículo frenó a {self.velocidad_actual} km/h.\"\n",
    "        else:\n",
    "            return \"No se puede frenar, el vehículo está apagado.\"\n",
    "\n",
    "\n",
    "    def detener(self):\n",
    "        if self.encendido:\n",
    "            while self.velocidad_actual > 0:\n",
    "                self.frenar(5)  # Reducir la velocidad gradualmente\n",
    "            return \"El vehículo se ha detenido completamente.\"\n",
    "        else:\n",
    "            return \"No se puede detener, el vehículo está apagado.\"\n"
   ]
  },
  {
   "cell_type": "code",
   "execution_count": 93,
   "metadata": {},
   "outputs": [],
   "source": [
    "mi_coche = Vehiculo(\"ferrari\", \"f1\", 2024)"
   ]
  },
  {
   "cell_type": "code",
   "execution_count": 94,
   "metadata": {},
   "outputs": [
    {
     "data": {
      "text/plain": [
       "'ferrari'"
      ]
     },
     "execution_count": 94,
     "metadata": {},
     "output_type": "execute_result"
    }
   ],
   "source": [
    "mi_coche.marca "
   ]
  },
  {
   "cell_type": "code",
   "execution_count": 95,
   "metadata": {},
   "outputs": [
    {
     "data": {
      "text/plain": [
       "{'marca': 'ferrari',\n",
       " 'modelo': 'f1',\n",
       " 'año': 2024,\n",
       " 'velocidad_actual': 0,\n",
       " 'encendido': False}"
      ]
     },
     "execution_count": 95,
     "metadata": {},
     "output_type": "execute_result"
    }
   ],
   "source": [
    "mi_coche.__dict__"
   ]
  },
  {
   "cell_type": "code",
   "execution_count": 96,
   "metadata": {},
   "outputs": [
    {
     "data": {
      "text/plain": [
       "'El coche está apagado'"
      ]
     },
     "execution_count": 96,
     "metadata": {},
     "output_type": "execute_result"
    }
   ],
   "source": [
    "mi_coche.acelerar(50)"
   ]
  },
  {
   "cell_type": "code",
   "execution_count": 97,
   "metadata": {},
   "outputs": [
    {
     "data": {
      "text/plain": [
       "'El vehículo se ha encendido.'"
      ]
     },
     "execution_count": 97,
     "metadata": {},
     "output_type": "execute_result"
    }
   ],
   "source": [
    "mi_coche.encender()"
   ]
  },
  {
   "cell_type": "code",
   "execution_count": 98,
   "metadata": {},
   "outputs": [
    {
     "data": {
      "text/plain": [
       "{'marca': 'ferrari',\n",
       " 'modelo': 'f1',\n",
       " 'año': 2024,\n",
       " 'velocidad_actual': 0,\n",
       " 'encendido': True}"
      ]
     },
     "execution_count": 98,
     "metadata": {},
     "output_type": "execute_result"
    }
   ],
   "source": [
    "mi_coche.__dict__"
   ]
  },
  {
   "cell_type": "code",
   "execution_count": 99,
   "metadata": {},
   "outputs": [
    {
     "data": {
      "text/plain": [
       "'hemos acelerado 30, vamos a 30'"
      ]
     },
     "execution_count": 99,
     "metadata": {},
     "output_type": "execute_result"
    }
   ],
   "source": [
    "mi_coche.acelerar(30)"
   ]
  },
  {
   "cell_type": "code",
   "execution_count": 100,
   "metadata": {},
   "outputs": [
    {
     "data": {
      "text/plain": [
       "{'marca': 'ferrari',\n",
       " 'modelo': 'f1',\n",
       " 'año': 2024,\n",
       " 'velocidad_actual': 30,\n",
       " 'encendido': True}"
      ]
     },
     "execution_count": 100,
     "metadata": {},
     "output_type": "execute_result"
    }
   ],
   "source": [
    "mi_coche.__dict__"
   ]
  },
  {
   "cell_type": "code",
   "execution_count": 101,
   "metadata": {},
   "outputs": [
    {
     "data": {
      "text/plain": [
       "'hemos acelerado 100, vamos a 130'"
      ]
     },
     "execution_count": 101,
     "metadata": {},
     "output_type": "execute_result"
    }
   ],
   "source": [
    "mi_coche.acelerar(100)"
   ]
  },
  {
   "cell_type": "code",
   "execution_count": 102,
   "metadata": {},
   "outputs": [
    {
     "data": {
      "text/plain": [
       "'El vehículo frenó a 80 km/h.'"
      ]
     },
     "execution_count": 102,
     "metadata": {},
     "output_type": "execute_result"
    }
   ],
   "source": [
    "mi_coche.frenar(50)"
   ]
  },
  {
   "cell_type": "code",
   "execution_count": 103,
   "metadata": {},
   "outputs": [
    {
     "data": {
      "text/plain": [
       "'El vehículo frenó a 0 km/h.'"
      ]
     },
     "execution_count": 103,
     "metadata": {},
     "output_type": "execute_result"
    }
   ],
   "source": [
    "mi_coche.frenar(500)"
   ]
  },
  {
   "cell_type": "code",
   "execution_count": null,
   "metadata": {},
   "outputs": [],
   "source": [
    "class Coche(Vehiculo):\n",
    "    def __init__(self, marca, modelo, año, combustible):\n",
    "        super().__init__(marca, modelo, año)\n",
    "        self.combustible = combustible\n",
    "\n",
    "    def informacion(self):\n",
    "        return f\"Coche: {self.marca} {self.modelo}, Año: {self.año}, Combustible: {self.combustible}\""
   ]
  },
  {
   "cell_type": "code",
   "execution_count": null,
   "metadata": {},
   "outputs": [],
   "source": [
    "# Crear una instancia de Coche\n",
    "coche_especifico = Coche(\"ABC\", \"Sedán B\", 2022, \"Gasolina\")\n",
    "\n",
    "# Muestra la información del coche\n",
    "print(coche_especifico.informacion())"
   ]
  }
 ],
 "metadata": {
  "kernelspec": {
   "display_name": "promo-i",
   "language": "python",
   "name": "python3"
  },
  "language_info": {
   "codemirror_mode": {
    "name": "ipython",
    "version": 3
   },
   "file_extension": ".py",
   "mimetype": "text/x-python",
   "name": "python",
   "nbconvert_exporter": "python",
   "pygments_lexer": "ipython3",
   "version": "3.11.7"
  }
 },
 "nbformat": 4,
 "nbformat_minor": 2
}
