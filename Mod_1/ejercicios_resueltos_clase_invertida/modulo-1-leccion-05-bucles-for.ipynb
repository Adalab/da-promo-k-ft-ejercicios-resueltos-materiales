{
 "cells": [
  {
   "cell_type": "markdown",
   "metadata": {},
   "source": [
    "# Ejercicios for"
   ]
  },
  {
   "cell_type": "code",
   "execution_count": 26,
   "metadata": {},
   "outputs": [],
   "source": [
    "temperaturas = [23, 12, 37, 33, 1, 6, 15]"
   ]
  },
  {
   "cell_type": "code",
   "execution_count": 27,
   "metadata": {},
   "outputs": [],
   "source": [
    "#  1. Cread tres listas nuevas, donde:\n",
    "bajas_temp = []\n",
    "medias_temp = []\n",
    "altas_temp = []\n",
    "\n",
    "for temp in temperaturas:\n",
    "    if temp <= 10.9:\n",
    "        bajas_temp.append(temp)\n",
    "    elif temp >= 11 and temp <= 19.9:\n",
    "        medias_temp.append(temp)\n",
    "    else:\n",
    "        altas_temp.append(temp)"
   ]
  },
  {
   "cell_type": "code",
   "execution_count": 28,
   "metadata": {},
   "outputs": [
    {
     "data": {
      "text/plain": [
       "[1, 6]"
      ]
     },
     "execution_count": 28,
     "metadata": {},
     "output_type": "execute_result"
    }
   ],
   "source": [
    "bajas_temp"
   ]
  },
  {
   "cell_type": "code",
   "execution_count": 29,
   "metadata": {},
   "outputs": [
    {
     "data": {
      "text/plain": [
       "[12, 15]"
      ]
     },
     "execution_count": 29,
     "metadata": {},
     "output_type": "execute_result"
    }
   ],
   "source": [
    "medias_temp"
   ]
  },
  {
   "cell_type": "code",
   "execution_count": 30,
   "metadata": {},
   "outputs": [
    {
     "data": {
      "text/plain": [
       "[23, 37, 33]"
      ]
     },
     "execution_count": 30,
     "metadata": {},
     "output_type": "execute_result"
    }
   ],
   "source": [
    "altas_temp"
   ]
  },
  {
   "cell_type": "code",
   "execution_count": 31,
   "metadata": {},
   "outputs": [
    {
     "data": {
      "text/plain": [
       "([1, 6], [12, 15], [23, 37, 33])"
      ]
     },
     "execution_count": 31,
     "metadata": {},
     "output_type": "execute_result"
    }
   ],
   "source": [
    "#  2. Las temperaturas están grados centígrados. Para cada una de las listas creadas en el ejercicio anterior, convertid las temperaturas a grados fahrenheit\n",
    "todas = bajas_temp.copy() , medias_temp.copy() , altas_temp.copy()\n",
    "todas"
   ]
  },
  {
   "cell_type": "code",
   "execution_count": 32,
   "metadata": {},
   "outputs": [
    {
     "data": {
      "text/plain": [
       "([33.8, 42.8], [53.6, 59.0], [73.4, 98.6, 91.4])"
      ]
     },
     "execution_count": 32,
     "metadata": {},
     "output_type": "execute_result"
    }
   ],
   "source": [
    "for lista in todas:\n",
    "    for indice in range(len(lista)):\n",
    "        lista[indice] = (lista[indice] *  9 / 5) + 32\n",
    "todas"
   ]
  },
  {
   "cell_type": "code",
   "execution_count": 35,
   "metadata": {},
   "outputs": [
    {
     "name": "stdout",
     "output_type": "stream",
     "text": [
      "0\n",
      "1\n",
      "2\n",
      "3\n",
      "4\n",
      "5\n"
     ]
    }
   ],
   "source": [
    "# 3. Define e imprime un rango de 0 a 6 (excluido).\n",
    "for i in range(6):\n",
    "    print(i)"
   ]
  },
  {
   "cell_type": "code",
   "execution_count": 36,
   "metadata": {},
   "outputs": [
    {
     "name": "stdout",
     "output_type": "stream",
     "text": [
      "3\n",
      "4\n",
      "5\n",
      "6\n"
     ]
    }
   ],
   "source": [
    "# 4. Define e imprime un rango de 3 a 6 ambos incluidos.\n",
    "for i in range(3,7):\n",
    "    print(i)"
   ]
  },
  {
   "cell_type": "code",
   "execution_count": 37,
   "metadata": {},
   "outputs": [
    {
     "name": "stdout",
     "output_type": "stream",
     "text": [
      "6\n",
      "7\n",
      "8\n"
     ]
    }
   ],
   "source": [
    "# 5. Define e imprime un rango de 5 a 9 ambos excluidos.\n",
    "for i in range(6, 9):\n",
    "    print(i)"
   ]
  },
  {
   "cell_type": "code",
   "execution_count": 39,
   "metadata": {},
   "outputs": [
    {
     "name": "stdout",
     "output_type": "stream",
     "text": [
      "2\n",
      "3\n",
      "4\n"
     ]
    }
   ],
   "source": [
    "# 6. Define e imprime un rango de 3 números que empiece en 2.\n",
    "for i in range(2, 5):\n",
    "    print(i)"
   ]
  },
  {
   "cell_type": "code",
   "execution_count": 41,
   "metadata": {},
   "outputs": [
    {
     "name": "stdout",
     "output_type": "stream",
     "text": [
      "2\n",
      "5\n",
      "8\n",
      "11\n"
     ]
    }
   ],
   "source": [
    "# 7. Define e imprime un rango que empiece en 2, aumentando cada paso por 3, que pare antes de llegar al número 13.\n",
    "for i in range(2, 14, 3):\n",
    "    print(i)"
   ]
  },
  {
   "cell_type": "code",
   "execution_count": 42,
   "metadata": {},
   "outputs": [
    {
     "name": "stdout",
     "output_type": "stream",
     "text": [
      "1\n",
      "3\n",
      "5\n",
      "7\n",
      "9\n"
     ]
    }
   ],
   "source": [
    "# 8. Define e imprime un rango con todos los valores impares que hay hasta 10.\n",
    "for i in range(1,11, 2):\n",
    "    print(i)"
   ]
  },
  {
   "cell_type": "code",
   "execution_count": 43,
   "metadata": {},
   "outputs": [
    {
     "data": {
      "text/plain": [
       "[4,\n",
       " 2025,\n",
       " 4489,\n",
       " 529,\n",
       " 2025,\n",
       " 4356,\n",
       " 144,\n",
       " 1,\n",
       " 1156,\n",
       " 4489,\n",
       " 9801,\n",
       " 9604,\n",
       " 4489,\n",
       " 4096,\n",
       " 1936,\n",
       " 10000]"
      ]
     },
     "execution_count": 43,
     "metadata": {},
     "output_type": "execute_result"
    }
   ],
   "source": [
    "# 9. Cread una lista nueva donde tengamos los números de la lista `lista` elevados al cuadrado.\n",
    "lista = [2,45,67,23, 45,66,12,1,34,67,99,98,67,64, 44, 100]\n",
    "\n",
    "lista_cuadrado = [i**2 for i in lista]\n",
    "lista_cuadrado\n"
   ]
  },
  {
   "cell_type": "code",
   "execution_count": 44,
   "metadata": {},
   "outputs": [
    {
     "data": {
      "text/plain": [
       "[0, 1, 1, 1, 1, 0, 0, 1, 0, 1, 1, 0, 1, 0, 0, 0]"
      ]
     },
     "execution_count": 44,
     "metadata": {},
     "output_type": "execute_result"
    }
   ],
   "source": [
    "# 10. Cread una lista nueva donde tengamos el resto de la división de cada uno de los números entre 2\n",
    "lista_resto = [i % 2 for i in lista]\n",
    "lista_resto"
   ]
  },
  {
   "cell_type": "code",
   "execution_count": 48,
   "metadata": {},
   "outputs": [
    {
     "data": {
      "text/plain": [
       "[2, 66, 12, 34, 98, 64, 44, 100]"
      ]
     },
     "execution_count": 48,
     "metadata": {},
     "output_type": "execute_result"
    }
   ],
   "source": [
    "# 11. Cread una lista nueva donde tengamos solo los elementos pares de la lista `lista`.\n",
    "lista_pares = [i   for i in lista if i % 2 == 0]\n",
    "lista_pares"
   ]
  },
  {
   "cell_type": "code",
   "execution_count": 49,
   "metadata": {},
   "outputs": [
    {
     "data": {
      "text/plain": [
       "[2, 45, 23, 45, 12, 1, 34, 44]"
      ]
     },
     "execution_count": 49,
     "metadata": {},
     "output_type": "execute_result"
    }
   ],
   "source": [
    "# 12. Cread una lista nueva donde tengamos solo los elementos que sean menores que 50. \n",
    "lista_menores50 = [i for i in lista if i < 50]\n",
    "lista_menores50"
   ]
  },
  {
   "cell_type": "code",
   "execution_count": 50,
   "metadata": {},
   "outputs": [
    {
     "data": {
      "text/plain": [
       "['par',\n",
       " 'impar',\n",
       " 'impar',\n",
       " 'impar',\n",
       " 'impar',\n",
       " 'par',\n",
       " 'par',\n",
       " 'impar',\n",
       " 'par',\n",
       " 'impar',\n",
       " 'impar',\n",
       " 'par',\n",
       " 'impar',\n",
       " 'par',\n",
       " 'par',\n",
       " 'par']"
      ]
     },
     "execution_count": 50,
     "metadata": {},
     "output_type": "execute_result"
    }
   ],
   "source": [
    "# 13. Cread una lista donde tengamos los valores \"par\" e \"impar\" en función de los valores de la lista original.\n",
    "lista_string = [\"par\" if i % 2 == 0 else \"impar\" for i in lista ]\n",
    "lista_string"
   ]
  },
  {
   "cell_type": "code",
   "execution_count": 51,
   "metadata": {},
   "outputs": [
    {
     "name": "stdout",
     "output_type": "stream",
     "text": [
      "Suma de números pares: 1482\n",
      "Suma de números impares: 1521\n"
     ]
    }
   ],
   "source": [
    "# 14. Pide al usuario un número entero positivo y suma los números pares e impares por separado hasta ese número.\n",
    "numero = int(input(\"Ingresa un número entero positivo: \"))\n",
    "suma_pares = 0\n",
    "suma_impares = 0\n",
    "for i in range(1, numero + 1):\n",
    "    if i % 2 == 0:\n",
    "        suma_pares += i\n",
    "    else:\n",
    "        suma_impares += i\n",
    "print(f\"Suma de números pares: {suma_pares}\")\n",
    "print(f\"Suma de números impares: {suma_impares}\")\n"
   ]
  },
  {
   "cell_type": "code",
   "execution_count": 55,
   "metadata": {},
   "outputs": [],
   "source": [
    "# 15. Pide al usuario ingresar una cadena y cuenta cuántas veces aparece cada vocal (a, e, i, o, u) en la cadena.\n",
    "frase = input(\"Que frase quieres\")\n",
    "vocales = {\"a\": 0, \"e\": 0, \"i\": 0, \"o\":0, \"u\": 0}\n",
    "\n",
    "for k, value in vocales.items(): \n",
    "    vocales[k] += frase.count(k)"
   ]
  },
  {
   "cell_type": "code",
   "execution_count": 56,
   "metadata": {},
   "outputs": [
    {
     "data": {
      "text/plain": [
       "{'a': 2, 'e': 0, 'i': 0, 'o': 1, 'u': 0}"
      ]
     },
     "execution_count": 56,
     "metadata": {},
     "output_type": "execute_result"
    }
   ],
   "source": [
    "vocales"
   ]
  },
  {
   "cell_type": "code",
   "execution_count": null,
   "metadata": {},
   "outputs": [],
   "source": []
  }
 ],
 "metadata": {
  "kernelspec": {
   "display_name": "promoe",
   "language": "python",
   "name": "python3"
  },
  "language_info": {
   "codemirror_mode": {
    "name": "ipython",
    "version": 3
   },
   "file_extension": ".py",
   "mimetype": "text/x-python",
   "name": "python",
   "nbconvert_exporter": "python",
   "pygments_lexer": "ipython3",
   "version": "3.10.11"
  },
  "orig_nbformat": 4
 },
 "nbformat": 4,
 "nbformat_minor": 2
}
