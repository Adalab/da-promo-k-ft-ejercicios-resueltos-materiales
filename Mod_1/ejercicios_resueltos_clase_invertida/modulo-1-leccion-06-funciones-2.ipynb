{
 "cells": [
  {
   "cell_type": "code",
   "execution_count": 1,
   "metadata": {},
   "outputs": [
    {
     "data": {
      "text/plain": [
       "'Hola, ¿cómo estás?'"
      ]
     },
     "execution_count": 1,
     "metadata": {},
     "output_type": "execute_result"
    }
   ],
   "source": [
    "# 1. Crea una función llamada concatenar que tome un número arbitrario de cadenas de texto como argumentos y devuelva una cadena de texto que sea la concatenación de todas ellas. \n",
    "\n",
    "def concatenar(*args):\n",
    "    resultado = \"\"\n",
    "    for texto in args:\n",
    "        resultado += texto\n",
    "    return resultado\n",
    "\n",
    "concatenar(\"Hola, \", \"¿cómo \", \"estás?\")"
   ]
  },
  {
   "cell_type": "code",
   "execution_count": 2,
   "metadata": {},
   "outputs": [
    {
     "data": {
      "text/plain": [
       "24"
      ]
     },
     "execution_count": 2,
     "metadata": {},
     "output_type": "execute_result"
    }
   ],
   "source": [
    "# 2. Crea una función que tome un número arbitrario de argumentos y devuelva el producto de todos ellos.\n",
    "def producto(*args):\n",
    "    if not args:\n",
    "        return 1  # Si no se proporcionan argumentos, el producto es 1\n",
    "    resultado = 1\n",
    "    for numero in args:\n",
    "        resultado *= numero\n",
    "    return resultado\n",
    "\n",
    "producto(2, 3, 4)"
   ]
  },
  {
   "cell_type": "code",
   "execution_count": 3,
   "metadata": {},
   "outputs": [
    {
     "data": {
      "text/plain": [
       "5"
      ]
     },
     "execution_count": 3,
     "metadata": {},
     "output_type": "execute_result"
    }
   ],
   "source": [
    "# 3. Crea una función que tome un número arbitrario de diccionarios como argumentos y devuelva el valor mínimo entre todos los valores de los diccionarios.\n",
    "\n",
    "def minimo_valor(*args):\n",
    "    valores = []\n",
    "    for diccionario in args:\n",
    "        valores.extend(diccionario.values())\n",
    "    return min(valores)\n",
    "\n",
    "diccionario1 = {'a': 10, 'b': 20, 'c': 5}\n",
    "diccionario2 = {'d': 8, 'e': 15, 'f': 25}\n",
    "\n",
    "minimo_valor(diccionario1, diccionario2)"
   ]
  },
  {
   "cell_type": "code",
   "execution_count": 4,
   "metadata": {},
   "outputs": [
    {
     "data": {
      "text/plain": [
       "{0: [1, 'a', 10], 1: [2, 'b', 20], 2: [3, 'c'], 3: ['d']}"
      ]
     },
     "execution_count": 4,
     "metadata": {},
     "output_type": "execute_result"
    }
   ],
   "source": [
    "# 4. Crea una función llamada combinar_listas que tome un número arbitrario de listas y devuelva un diccionario donde las listas originales se combinan usando los índices como claves.\n",
    "def combinar_listas(*args):\n",
    "    resultado = {}\n",
    "    max_length = max(len(lista) for lista in args)\n",
    "    \n",
    "    for i in range(max_length):\n",
    "        resultado[i] = [lista[i] for lista in args if i < len(lista)]\n",
    "    \n",
    "    return resultado\n",
    "\n",
    "lista1 = [1, 2, 3]\n",
    "lista2 = ['a', 'b', 'c', 'd']\n",
    "lista3 = [10, 20]\n",
    "\n",
    "combinar_listas(lista1, lista2, lista3)\n"
   ]
  },
  {
   "cell_type": "code",
   "execution_count": 1,
   "metadata": {},
   "outputs": [
    {
     "data": {
      "text/plain": [
       "25"
      ]
     },
     "execution_count": 1,
     "metadata": {},
     "output_type": "execute_result"
    }
   ],
   "source": [
    "import math\n",
    "\n",
    "def area_figura(**kwargs):\n",
    "    tipo = kwargs.get(\"tipo\")\n",
    "    if tipo == \"cuadrado\":\n",
    "        lado = kwargs.get(\"lado\")\n",
    "        return lado ** 2\n",
    "    \n",
    "    elif tipo == \"triangulo\":\n",
    "        base = kwargs.get(\"base\")\n",
    "        altura = kwargs.get(\"altura\")\n",
    "        return (base * altura) / 2\n",
    "    \n",
    "    elif tipo == \"circulo\":\n",
    "        radio = kwargs.get(\"radio\")\n",
    "        return math.pi * radio ** 2\n",
    "    \n",
    "    else:\n",
    "        return None\n",
    "\n",
    "area_figura(tipo=\"cuadrado\", lado=5)\n",
    "\n"
   ]
  },
  {
   "cell_type": "code",
   "execution_count": 2,
   "metadata": {},
   "outputs": [
    {
     "data": {
      "text/plain": [
       "'Receta: Pastel de Chocolate\\n\\nIngredientes:\\n- 200g de chocolate\\n- 150g de harina\\n- 100g de azúcar\\n\\nPasos:\\n1. Mezclar el chocolate con la harina.\\n2. Agregar el azúcar y mezclar bien.'"
      ]
     },
     "execution_count": 2,
     "metadata": {},
     "output_type": "execute_result"
    }
   ],
   "source": [
    "# 6. Crea una función llamada receta_cocina que tome argumentos de palabra clave para los ingredientes y pasos de una receta y devuelva una descripción completa de la receta.\n",
    "def receta_cocina(**kwargs):\n",
    "    receta = f\"Receta: {kwargs.get('nombre_receta')}\\n\\nIngredientes:\\n\"\n",
    "    for ingrediente, cantidad in kwargs.get('ingredientes', {}).items():\n",
    "        receta += f\"- {cantidad} de {ingrediente}\\n\"\n",
    "    receta += \"\\nPasos:\\n\"\n",
    "    receta += kwargs.get('pasos', \"\")\n",
    "    return receta\n",
    "\n",
    "mi_receta = {\n",
    "    \"nombre_receta\": \"Pastel de Chocolate\",\n",
    "    \"ingredientes\": {\"chocolate\": \"200g\", \"harina\": \"150g\", \"azúcar\": \"100g\"},\n",
    "    \"pasos\": \"1. Mezclar el chocolate con la harina.\\n2. Agregar el azúcar y mezclar bien.\"\n",
    "}\n",
    "\n",
    "receta_cocina(**mi_receta)"
   ]
  },
  {
   "cell_type": "code",
   "execution_count": 3,
   "metadata": {},
   "outputs": [
    {
     "data": {
      "text/plain": [
       "'Ingresos: $50000\\nGastos: $35000\\nBalance: $15000'"
      ]
     },
     "execution_count": 3,
     "metadata": {},
     "output_type": "execute_result"
    }
   ],
   "source": [
    "# 7. Crea una función que tome argumentos de palabra clave para los ingresos y gastos de una empresa y genere un informe financiero. Resyelvelo con *kwargs*. \n",
    "def informe_financiero(**kwargs):\n",
    "    ingresos = kwargs.get(\"ingresos\", 0)\n",
    "    gastos = kwargs.get(\"gastos\", 0)\n",
    "    balance = ingresos - gastos\n",
    "    informe = f\"Ingresos: ${ingresos}\\nGastos: ${gastos}\\nBalance: ${balance}\"\n",
    "    return informe\n",
    "\n",
    "informe_financiero(ingresos=50000, gastos=35000)\n"
   ]
  },
  {
   "cell_type": "code",
   "execution_count": null,
   "metadata": {},
   "outputs": [],
   "source": []
  }
 ],
 "metadata": {
  "kernelspec": {
   "display_name": "promoe",
   "language": "python",
   "name": "python3"
  },
  "language_info": {
   "codemirror_mode": {
    "name": "ipython",
    "version": 3
   },
   "file_extension": ".py",
   "mimetype": "text/x-python",
   "name": "python",
   "nbconvert_exporter": "python",
   "pygments_lexer": "ipython3",
   "version": "3.10.11"
  },
  "orig_nbformat": 4
 },
 "nbformat": 4,
 "nbformat_minor": 2
}
