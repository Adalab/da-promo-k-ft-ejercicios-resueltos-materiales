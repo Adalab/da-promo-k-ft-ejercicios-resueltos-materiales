{
 "cells": [
  {
   "cell_type": "code",
   "execution_count": 9,
   "metadata": {},
   "outputs": [],
   "source": [
    "# Ejercicios modulo 1\n",
    "\n",
    "# 1. Crea la variable `gatos` que sea un número con el valor `8`.\n",
    "\n",
    "gatos = 8"
   ]
  },
  {
   "cell_type": "code",
   "execution_count": 10,
   "metadata": {},
   "outputs": [],
   "source": [
    "# 2. Crea la variable `perros`  que sea un texto de seis caracteres: la palabra `cuatro`.\n",
    "\n",
    "perros = \"cuatro\""
   ]
  },
  {
   "cell_type": "code",
   "execution_count": 11,
   "metadata": {},
   "outputs": [
    {
     "name": "stdout",
     "output_type": "stream",
     "text": [
      "8\n"
     ]
    }
   ],
   "source": [
    "# 3. Imprime la variable `gatos`.\n",
    "\n",
    "print(gatos)"
   ]
  },
  {
   "cell_type": "code",
   "execution_count": 12,
   "metadata": {},
   "outputs": [
    {
     "name": "stdout",
     "output_type": "stream",
     "text": [
      "cuatro\n"
     ]
    }
   ],
   "source": [
    "# 4. Imprime la variable `perros`.\n",
    "print(perros)"
   ]
  },
  {
   "cell_type": "code",
   "execution_count": 13,
   "metadata": {},
   "outputs": [
    {
     "name": "stdout",
     "output_type": "stream",
     "text": [
      "cuatro mas perros\n"
     ]
    }
   ],
   "source": [
    "# 5. Imprime la variable `perros` seguida por la palabra `más` y la palabra `perros` otra vez.\n",
    "\n",
    "print(perros + \" mas\" + \" perros\")"
   ]
  },
  {
   "cell_type": "code",
   "execution_count": 14,
   "metadata": {},
   "outputs": [
    {
     "name": "stdout",
     "output_type": "stream",
     "text": [
      "cuatro mas cuatro es igual a 8\n"
     ]
    }
   ],
   "source": [
    "# 6. Consigue que el ordenador devuelva el siguiente texto, usando la variable `perros`: `cuatro más cuatro es igual a 8`.\n",
    "\n",
    "print(perros +\" mas \"+ perros + \" es igual a \"+ \"8\" )"
   ]
  },
  {
   "cell_type": "code",
   "execution_count": 15,
   "metadata": {},
   "outputs": [
    {
     "name": "stdout",
     "output_type": "stream",
     "text": [
      "cuatro + cuatro = 8\n",
      "cuatro + cuatro =  8\n"
     ]
    }
   ],
   "source": [
    "# 7. Consigue que el ordenador devuelva el siguiente texto, usando la variable`perros`: `cuatro + cuatro = 8`.\n",
    "\n",
    "print(perros +\" + \"+ perros + \" = \" + \"8\" ) #una forma\n",
    "print(perros +\" + \"+ perros + \" = \", gatos ) #otra, usando la variable gatos"
   ]
  },
  {
   "cell_type": "code",
   "execution_count": 16,
   "metadata": {},
   "outputs": [],
   "source": [
    "#8. Define una variable `pizzas` con un valor `2` que sea del tipo float.\n",
    "\n",
    "pizzas = 2.0 # una forma sin declarar el tipo de variable\n",
    "pizzas = float(2) # declarando el tipo de variable"
   ]
  },
  {
   "cell_type": "code",
   "execution_count": 17,
   "metadata": {},
   "outputs": [],
   "source": [
    "#9. Define `magdalenas` con un valor `2` que sea del tipo string.\n",
    "\n",
    "magdalenas = \"2\" # una forma sin declarar el tipo de variable\n",
    "magdalenas = str(2) # declarando el tipo de variable"
   ]
  },
  {
   "cell_type": "code",
   "execution_count": 18,
   "metadata": {},
   "outputs": [],
   "source": [
    "# 10. Define `postres` con un valor `0` que sea del tipo int.\n",
    "\n",
    "postres = 0 # una forma sin declarar el tipo de variable\n",
    "postres = int(0) # declarando el tipo de variable"
   ]
  },
  {
   "cell_type": "code",
   "execution_count": 19,
   "metadata": {},
   "outputs": [
    {
     "data": {
      "text/plain": [
       "float"
      ]
     },
     "execution_count": 19,
     "metadata": {},
     "output_type": "execute_result"
    }
   ],
   "source": [
    "#11. ¿Qué tipo de dato es la variable `pizzas`?\n",
    "\n",
    "type(pizzas)"
   ]
  },
  {
   "cell_type": "code",
   "execution_count": 20,
   "metadata": {},
   "outputs": [
    {
     "data": {
      "text/plain": [
       "str"
      ]
     },
     "execution_count": 20,
     "metadata": {},
     "output_type": "execute_result"
    }
   ],
   "source": [
    "# 12. ¿Es la variable `magdalenas` de tipo string?\n",
    "\n",
    "type(magdalenas) #si, segun la ejecucion es str."
   ]
  },
  {
   "cell_type": "code",
   "execution_count": 21,
   "metadata": {},
   "outputs": [],
   "source": [
    "# 13. Define `postres` con un valor `0`.\n",
    "\n",
    "postres = 0"
   ]
  },
  {
   "cell_type": "code",
   "execution_count": 22,
   "metadata": {},
   "outputs": [
    {
     "name": "stdout",
     "output_type": "stream",
     "text": [
      "10.0\n"
     ]
    }
   ],
   "source": [
    "# 14. Calcula la suma de `gatos` y `pizzas`.\n",
    "\n",
    "print(gatos + pizzas)"
   ]
  },
  {
   "cell_type": "code",
   "execution_count": 23,
   "metadata": {},
   "outputs": [
    {
     "name": "stdout",
     "output_type": "stream",
     "text": [
      "6.0\n"
     ]
    }
   ],
   "source": [
    "# 15. Calcula la diferencia entre `gatos` y `pizzas`.\n",
    "\n",
    "print(gatos - pizzas)"
   ]
  },
  {
   "cell_type": "code",
   "execution_count": 24,
   "metadata": {},
   "outputs": [
    {
     "name": "stdout",
     "output_type": "stream",
     "text": [
      "16\n"
     ]
    }
   ],
   "source": [
    "# 16. Multiplica las cantidad de gatos por 2.\n",
    "\n",
    "print(gatos * 2)"
   ]
  },
  {
   "cell_type": "code",
   "execution_count": 25,
   "metadata": {},
   "outputs": [
    {
     "name": "stdout",
     "output_type": "stream",
     "text": [
      "16.0\n"
     ]
    }
   ],
   "source": [
    "# 17. Crea una variable `piezas` que sea 8 veces la cantidad de `pizzas`.\n",
    "\n",
    "piezas = 8 * pizzas\n",
    "print(piezas)"
   ]
  },
  {
   "cell_type": "code",
   "execution_count": 26,
   "metadata": {},
   "outputs": [
    {
     "name": "stdout",
     "output_type": "stream",
     "text": [
      "48.0\n"
     ]
    }
   ],
   "source": [
    "# 18. Haz que la cantidad de `piezas` se aumente en 3.\n",
    "\n",
    "piezas = piezas * 3\n",
    "print(piezas)"
   ]
  },
  {
   "cell_type": "code",
   "execution_count": 27,
   "metadata": {},
   "outputs": [],
   "source": [
    "# 19. Calcula el cuadrado de 9 y guárdalo en una variable llamada `superficie`.\n",
    "\n",
    "superficie = 9 ** 2"
   ]
  },
  {
   "cell_type": "code",
   "execution_count": 28,
   "metadata": {},
   "outputs": [
    {
     "name": "stdout",
     "output_type": "stream",
     "text": [
      "10.125\n"
     ]
    }
   ],
   "source": [
    "# 20. ¿Cuánta superficie hay por gatos?\n",
    "\n",
    "print(superficie / gatos)"
   ]
  },
  {
   "cell_type": "code",
   "execution_count": 29,
   "metadata": {},
   "outputs": [
    {
     "name": "stdout",
     "output_type": "stream",
     "text": [
      "6.0\n"
     ]
    }
   ],
   "source": [
    "# 21. ¿Cuántas piezas enteras hay por gato?\n",
    "\n",
    "print(piezas // gatos)"
   ]
  },
  {
   "cell_type": "code",
   "execution_count": 30,
   "metadata": {},
   "outputs": [
    {
     "name": "stdout",
     "output_type": "stream",
     "text": [
      "-120.0\n"
     ]
    }
   ],
   "source": [
    "# 22. ¿Cuántas piezas te quedan si cada gato se come 21 piezas?\n",
    "\n",
    "print(piezas - (gatos * 21))"
   ]
  },
  {
   "cell_type": "code",
   "execution_count": 31,
   "metadata": {},
   "outputs": [
    {
     "name": "stdout",
     "output_type": "stream",
     "text": [
      "10.1\n"
     ]
    }
   ],
   "source": [
    "# 23. ¿Cuánta superficie hay por gato en metros cuadrados? Redondeala a un sólo decimal. Intenta calcularlo dentro del mismo `print()` en una sola línea.\n",
    "\n",
    "print(round((superficie / gatos), 1))"
   ]
  },
  {
   "cell_type": "code",
   "execution_count": 32,
   "metadata": {},
   "outputs": [
    {
     "name": "stdout",
     "output_type": "stream",
     "text": [
      "True\n"
     ]
    }
   ],
   "source": [
    "# 24. ¿Es verdad que hay más gatos que pizzas?\n",
    "\n",
    "hay_mas_gatos = gatos > pizzas\n",
    "print(hay_mas_gatos)"
   ]
  },
  {
   "cell_type": "code",
   "execution_count": 33,
   "metadata": {},
   "outputs": [
    {
     "name": "stdout",
     "output_type": "stream",
     "text": [
      "True\n"
     ]
    }
   ],
   "source": [
    "#26. ¿Es verdad que 2 veces la cantidad de pizzas es distinto de la cantidad de gatos?\n",
    "\n",
    "distinto = 2 * pizzas != gatos\n",
    "print(distinto)"
   ]
  },
  {
   "cell_type": "code",
   "execution_count": 34,
   "metadata": {},
   "outputs": [
    {
     "name": "stdout",
     "output_type": "stream",
     "text": [
      "True\n"
     ]
    }
   ],
   "source": [
    "# 27. ¿Es falso que 2 veces la cantidad de pizzas es igual a la cantidad de gatos?\n",
    "\n",
    "es_falso = not (2 * pizzas == gatos)\n",
    "print(es_falso)"
   ]
  },
  {
   "cell_type": "code",
   "execution_count": 35,
   "metadata": {},
   "outputs": [
    {
     "name": "stdout",
     "output_type": "stream",
     "text": [
      "True\n"
     ]
    }
   ],
   "source": [
    "# 28. La variable `piezas`, es mayor o igual a `pizzas` y `superficie` es distinto de cero?\n",
    "\n",
    "es_verdad = piezas >= pizzas and superficie != 0\n",
    "print(es_verdad)"
   ]
  },
  {
   "cell_type": "code",
   "execution_count": 36,
   "metadata": {},
   "outputs": [
    {
     "name": "stdout",
     "output_type": "stream",
     "text": [
      "True\n"
     ]
    }
   ],
   "source": [
    "# 29. La variable `piezas`, es mayor o igual a `pizzas` y menor que `superficie`?\n",
    "\n",
    "es_verdad = piezas >= pizzas and piezas < superficie\n",
    "\n",
    "print(es_verdad)"
   ]
  },
  {
   "cell_type": "code",
   "execution_count": 37,
   "metadata": {},
   "outputs": [
    {
     "name": "stdout",
     "output_type": "stream",
     "text": [
      "True\n"
     ]
    }
   ],
   "source": [
    "#30. Me interesa saber si hay más pizzas que gatos, o si el residuo de piezas por gato es cero.\n",
    "\n",
    "buscar = pizzas > gatos or piezas % gatos == 0\n",
    "print(buscar)"
   ]
  },
  {
   "cell_type": "code",
   "execution_count": 38,
   "metadata": {},
   "outputs": [
    {
     "name": "stdout",
     "output_type": "stream",
     "text": [
      "True\n"
     ]
    }
   ],
   "source": [
    "#31. Comprueba las comparaciones de 29. en una sola línea, sin usar la variable `piezas` más que una sola vez.\n",
    "\n",
    "es_verdad =  pizzas <= piezas < superficie\n",
    "\n",
    "print(es_verdad)\n"
   ]
  },
  {
   "cell_type": "code",
   "execution_count": 39,
   "metadata": {},
   "outputs": [
    {
     "name": "stdout",
     "output_type": "stream",
     "text": [
      "True\n"
     ]
    }
   ],
   "source": [
    "# 32. Comprueba si `superficie` es diferente a cero sin usar `!=`.\n",
    "\n",
    "diferente_cero = superficie > 0 or superficie < 0\n",
    "print(diferente_cero)"
   ]
  },
  {
   "cell_type": "code",
   "execution_count": 40,
   "metadata": {},
   "outputs": [],
   "source": [
    "# 33. Usa `input()` para preguntar a un usuario el día de su cumpleaños y guarda la respuesta en la variable dia_cumple.\n",
    "\n",
    "dia_cumple = input(\"¿Cuál es el día de tu cumpleaños? \")"
   ]
  },
  {
   "cell_type": "code",
   "execution_count": 41,
   "metadata": {},
   "outputs": [],
   "source": [
    "# 34. Usa `input()` para preguntar a un usuario el mes de su cumpleaños y guarda la respuesta en la variable mes_cumple.\n",
    "\n",
    "mes_cumple = input(\"¿Cuál es el mes de tu cumpleaños? \")"
   ]
  },
  {
   "cell_type": "code",
   "execution_count": 42,
   "metadata": {},
   "outputs": [
    {
     "name": "stdout",
     "output_type": "stream",
     "text": [
      "20\n",
      "agosto\n"
     ]
    }
   ],
   "source": [
    "# 35. Usa `.strip()` en ambas de las variables definidas.\n",
    "\n",
    "dia_cumple = dia_cumple.strip()\n",
    "mes_cumple = mes_cumple.strip()\n",
    "\n",
    "print(dia_cumple)\n",
    "print(mes_cumple)"
   ]
  },
  {
   "cell_type": "code",
   "execution_count": 43,
   "metadata": {},
   "outputs": [],
   "source": [
    "# 36. Haz que `fecha_cumple` sea un *string* compuesto por el día y el mes.\n",
    "\n",
    "fecha_cumple = dia_cumple + \" de \" + mes_cumple"
   ]
  },
  {
   "cell_type": "code",
   "execution_count": 44,
   "metadata": {},
   "outputs": [
    {
     "name": "stdout",
     "output_type": "stream",
     "text": [
      "Fecha de cumpleaños es 20 de agosto\n"
     ]
    }
   ],
   "source": [
    "#37. Imprime `Fecha de cumpleaños es` más el día y el mes.\n",
    "\n",
    "\n",
    "print(\"Fecha de cumpleaños es\", fecha_cumple)"
   ]
  },
  {
   "cell_type": "code",
   "execution_count": 45,
   "metadata": {},
   "outputs": [
    {
     "name": "stdout",
     "output_type": "stream",
     "text": [
      "CUATRO\n"
     ]
    }
   ],
   "source": [
    "#38. Imprime la variable perros en todas mayúsculas.\n",
    "\n",
    "perros_mayuscula = perros.upper()\n",
    "print(perros_mayuscula)"
   ]
  }
 ],
 "metadata": {
  "kernelspec": {
   "display_name": "base",
   "language": "python",
   "name": "python3"
  },
  "language_info": {
   "codemirror_mode": {
    "name": "ipython",
    "version": 3
   },
   "file_extension": ".py",
   "mimetype": "text/x-python",
   "name": "python",
   "nbconvert_exporter": "python",
   "pygments_lexer": "ipython3",
   "version": "3.9.7"
  }
 },
 "nbformat": 4,
 "nbformat_minor": 2
}
