{
 "cells": [
  {
   "cell_type": "code",
   "execution_count": 7,
   "metadata": {},
   "outputs": [],
   "source": [
    "#  1. Escribir una función que reciba una cadena de texto como parámetro y devuelva un diccionario con las frecuencias de cada letra en la cadena.\n",
    "def contar_letras (string):\n",
    "    diccionario_letras = {}\n",
    "    \n",
    "    for letra in string:\n",
    "        if letra in diccionario_letras.keys() or letra == \" \":\n",
    "            pass\n",
    "        else:\n",
    "            diccionario_letras[letra] = string.count(letra)\n",
    "    return diccionario_letras"
   ]
  },
  {
   "cell_type": "code",
   "execution_count": 5,
   "metadata": {},
   "outputs": [
    {
     "data": {
      "text/plain": [
       "{'H': 1, 'o': 1, 'l': 1, 'a': 1}"
      ]
     },
     "execution_count": 5,
     "metadata": {},
     "output_type": "execute_result"
    }
   ],
   "source": [
    "contar_letras(\"Hola\")"
   ]
  },
  {
   "cell_type": "code",
   "execution_count": 6,
   "metadata": {},
   "outputs": [
    {
     "data": {
      "text/plain": [
       "{'H': 1, 'o': 2, 'l': 2, 'a': 4, 'c': 2, 'r': 1}"
      ]
     },
     "execution_count": 6,
     "metadata": {},
     "output_type": "execute_result"
    }
   ],
   "source": [
    "contar_letras(\"Hola caracola\")"
   ]
  },
  {
   "cell_type": "code",
   "execution_count": 8,
   "metadata": {},
   "outputs": [],
   "source": [
    "# 2. Escribir una función que reciba una cadena de texto como parámetro y devuelva una lista con todas las palabras que tienen más de 5 letras.\n",
    "def contar_palabras(string):\n",
    "    lista_palabras = string.split()\n",
    "    lista_resultado = []\n",
    "    \n",
    "    for palabra in lista_palabras:\n",
    "        if len(palabra) >= 5:\n",
    "            lista_resultado.append(palabra)\n",
    "        else:\n",
    "            pass\n",
    "    \n",
    "    return lista_resultado\n",
    "            \n"
   ]
  },
  {
   "cell_type": "code",
   "execution_count": 9,
   "metadata": {},
   "outputs": [
    {
     "data": {
      "text/plain": [
       "['Buenos', 'estas']"
      ]
     },
     "execution_count": 9,
     "metadata": {},
     "output_type": "execute_result"
    }
   ],
   "source": [
    "contar_palabras(\"Buenos dias como estas\")"
   ]
  },
  {
   "cell_type": "code",
   "execution_count": 10,
   "metadata": {},
   "outputs": [
    {
     "data": {
      "text/plain": [
       "['Estoy', 'comiendo', 'cocido']"
      ]
     },
     "execution_count": 10,
     "metadata": {},
     "output_type": "execute_result"
    }
   ],
   "source": [
    "contar_palabras(\"Estoy comiendo cocido\")"
   ]
  },
  {
   "cell_type": "code",
   "execution_count": 12,
   "metadata": {},
   "outputs": [
    {
     "data": {
      "text/plain": [
       "['programación', 'bootcamp', 'hola', 'computadora', 'aprendizaje']"
      ]
     },
     "execution_count": 12,
     "metadata": {},
     "output_type": "execute_result"
    }
   ],
   "source": [
    "# 3. Escribir una función que reciba una lista de números como parámetro y devuelva el promedio de los números que están en posiciones pares de la lista.\n",
    "# Definir una función que filtre palabras con más de una vocal\n",
    "def palabras_con_mas_de_una_vocal(lista_de_palabras):\n",
    "    resultado = []\n",
    "    \n",
    "    for palabra in lista_de_palabras:\n",
    "        # Contar las vocales en la palabra\n",
    "        contador_vocales = 0\n",
    "        for letra in palabra:\n",
    "            if letra.lower() in \"aeiou\":\n",
    "                contador_vocales += 1\n",
    "        \n",
    "        # Si la palabra tiene más de una vocal, agregarla al resultado\n",
    "        if contador_vocales > 1:\n",
    "            resultado.append(palabra)\n",
    "    \n",
    "    return resultado\n",
    "palabras = [\"python\", \"programación\", \"bootcamp\", \"hola\", \"computadora\", \"aprendizaje\"]\n",
    "palabras_con_mas_de_una_vocal(palabras)\n"
   ]
  },
  {
   "cell_type": "code",
   "execution_count": 13,
   "metadata": {},
   "outputs": [
    {
     "data": {
      "text/plain": [
       "30"
      ]
     },
     "execution_count": 13,
     "metadata": {},
     "output_type": "execute_result"
    }
   ],
   "source": [
    "# 4. Crea una función que tome una lista de números y calcule la suma de todos los números pares en la lista.\n",
    "# Definir una función para calcular la suma de números pares\n",
    "def suma_numeros_pares(lista):\n",
    "    suma = 0\n",
    "    \n",
    "    for numero in lista:\n",
    "        if numero % 2 == 0:\n",
    "            suma += numero\n",
    "    \n",
    "    return suma\n",
    "\n",
    "# Ejemplo de uso de la función\n",
    "numeros = [1, 2, 3, 4, 5, 6, 7, 8, 9, 10]\n",
    "suma_numeros_pares(numeros)"
   ]
  },
  {
   "cell_type": "code",
   "execution_count": 14,
   "metadata": {},
   "outputs": [
    {
     "data": {
      "text/plain": [
       "11.666666666666666"
      ]
     },
     "execution_count": 14,
     "metadata": {},
     "output_type": "execute_result"
    }
   ],
   "source": [
    "# 5. Escribe una función que tome una lista de números como entrada y calcule el promedio de esos números.\n",
    "def calcular_promedio(lista):\n",
    "    if len(lista) == 0:\n",
    "        return 0  \n",
    "    \n",
    "    suma = sum(lista)\n",
    "    promedio = suma / len(lista)\n",
    "    return promedio\n",
    "\n",
    "\n",
    "numeros = [12, 15, 20, 10, 8, 5]\n",
    "calcular_promedio(numeros)"
   ]
  },
  {
   "cell_type": "code",
   "execution_count": 1,
   "metadata": {},
   "outputs": [
    {
     "data": {
      "text/plain": [
       "1890"
      ]
     },
     "execution_count": 1,
     "metadata": {},
     "output_type": "execute_result"
    }
   ],
   "source": [
    "# 6. Crea una función que determine el próximo año en el que las cifras del año de tu cumpleaños no se repitan. La función toma un año de tu cumpleaños como entrada y calcula el próximo año en el que las cifras no se repitan, es decir, todas las cifras en el año son diferentes entre sí.\n",
    "def cumpleaños(año):\n",
    "    felicidades = año + 1\n",
    "    \n",
    "    while len(set(str(felicidades))) != 4:\n",
    "        felicidades += 1\n",
    "    return felicidades\n",
    "\n",
    "cumpleaños(1889)"
   ]
  },
  {
   "cell_type": "code",
   "execution_count": 2,
   "metadata": {},
   "outputs": [
    {
     "data": {
      "text/plain": [
       "2"
      ]
     },
     "execution_count": 2,
     "metadata": {},
     "output_type": "execute_result"
    }
   ],
   "source": [
    "# 7. Crea una función que determine cuántos pasteles puedes hornear según una receta y los ingredientes disponibles. La función toma dos diccionarios como entrada: receta, que contiene los ingredientes necesarios para un pastel, y disponible, que contiene la cantidad disponible de cada ingrediente. Sus parámetros de entrada son: \n",
    "def pasteles(receta, disponible):\n",
    "    numero = []\n",
    "    for ingrediente in receta:\n",
    "        if ingrediente not in disponible:\n",
    "            return 0\n",
    "        else:\n",
    "            numero.append(disponible[ingrediente]//receta[ingrediente])\n",
    "    return min(numero)\n",
    "\n",
    "receta1 = {'flour': 500, 'sugar': 200, 'eggs': 1}\n",
    "ingredientes1 = {'flour': 1200, 'sugar': 1200, 'eggs': 5, 'milk': 200}\n",
    "\n",
    "pasteles(receta1, ingredientes1)\n"
   ]
  },
  {
   "cell_type": "code",
   "execution_count": 15,
   "metadata": {},
   "outputs": [
    {
     "data": {
      "text/plain": [
       "[0, 1, 1, 2, 3, 5, 8, 13, 21, 34]"
      ]
     },
     "execution_count": 15,
     "metadata": {},
     "output_type": "execute_result"
    }
   ],
   "source": [
    "# 8. Crea una función llamada fibonacci que tome un número n como argumento y devuelva una lista con los primeros n números de la serie Fibonacci.\n",
    "def fibonacci(n):\n",
    "    serie = [0, 1]\n",
    "    while len(serie) < n:\n",
    "        siguiente_numero = serie[-1] + serie[-2]\n",
    "        serie.append(siguiente_numero)\n",
    "    return serie\n",
    "\n",
    "n = 10\n",
    "fibonacci(n)\n"
   ]
  },
  {
   "cell_type": "code",
   "execution_count": null,
   "metadata": {},
   "outputs": [],
   "source": []
  }
 ],
 "metadata": {
  "kernelspec": {
   "display_name": "Python 3",
   "language": "python",
   "name": "python3"
  },
  "language_info": {
   "codemirror_mode": {
    "name": "ipython",
    "version": 3
   },
   "file_extension": ".py",
   "mimetype": "text/x-python",
   "name": "python",
   "nbconvert_exporter": "python",
   "pygments_lexer": "ipython3",
   "version": "3.10.11"
  },
  "orig_nbformat": 4
 },
 "nbformat": 4,
 "nbformat_minor": 2
}
