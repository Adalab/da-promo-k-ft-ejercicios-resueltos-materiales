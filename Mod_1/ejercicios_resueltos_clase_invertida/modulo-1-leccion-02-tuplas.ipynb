{
 "cells": [
  {
   "cell_type": "code",
   "execution_count": 2,
   "metadata": {},
   "outputs": [
    {
     "data": {
      "text/plain": [
       "(61, 1.54, 'pelo marron')"
      ]
     },
     "execution_count": 2,
     "metadata": {},
     "output_type": "execute_result"
    }
   ],
   "source": [
    "# 1. Crea una tupla `persona1` para juntar los siguientes datos: 61 kg, 1.54 m altura, pelo marrón, sin usar paréntesis. (Serán del tipo `int`, `float` y `str`.)\n",
    "persona1 = 61, 1.54, \"pelo marron\"\n",
    "persona1"
   ]
  },
  {
   "cell_type": "code",
   "execution_count": 3,
   "metadata": {},
   "outputs": [
    {
     "data": {
      "text/plain": [
       "(68, 1.65, 'pelo rubio')"
      ]
     },
     "execution_count": 3,
     "metadata": {},
     "output_type": "execute_result"
    }
   ],
   "source": [
    "# 2. Crea una tupla para la `persona2` de 68 kg, 1.65 m y pelo rubio, usando paréntesis\n",
    "persona2 = (68, 1.65, \"pelo rubio\")\n",
    "persona2"
   ]
  },
  {
   "cell_type": "code",
   "execution_count": 7,
   "metadata": {},
   "outputs": [
    {
     "data": {
      "text/plain": [
       "['M', 42, 39]"
      ]
     },
     "execution_count": 7,
     "metadata": {},
     "output_type": "execute_result"
    }
   ],
   "source": [
    "#  3. Crea una lista `talla` que recompila 'M', 42, y 39.\n",
    "talla = [\"M\", 42, 39]\n",
    "talla"
   ]
  },
  {
   "cell_type": "code",
   "execution_count": 8,
   "metadata": {},
   "outputs": [
    {
     "data": {
      "text/plain": [
       "('M', 42, 39)"
      ]
     },
     "execution_count": 8,
     "metadata": {},
     "output_type": "execute_result"
    }
   ],
   "source": [
    "# 4. Convierte la lista `talla` a una tupla.\n",
    "talla = tuple(talla)\n",
    "talla"
   ]
  },
  {
   "cell_type": "code",
   "execution_count": 10,
   "metadata": {},
   "outputs": [
    {
     "data": {
      "text/plain": [
       "(61, 1.54, 'pelo marron', 'M', 42, 39)"
      ]
     },
     "execution_count": 10,
     "metadata": {},
     "output_type": "execute_result"
    }
   ],
   "source": [
    "# 5. Une a la tupla de `persona1` los datos en `talla`.\n",
    "lista_tuplas = persona1 + talla\n",
    "lista_tuplas"
   ]
  },
  {
   "cell_type": "code",
   "execution_count": 12,
   "metadata": {},
   "outputs": [
    {
     "data": {
      "text/plain": [
       "'pelo rubio'"
      ]
     },
     "execution_count": 12,
     "metadata": {},
     "output_type": "execute_result"
    }
   ],
   "source": [
    "# 6. Saca de `persona2` el contenido del tercer elemento y llámalo `color`.\n",
    "color = persona2[2]\n",
    "color"
   ]
  },
  {
   "cell_type": "code",
   "execution_count": 13,
   "metadata": {},
   "outputs": [
    {
     "data": {
      "text/plain": [
       "3"
      ]
     },
     "execution_count": 13,
     "metadata": {},
     "output_type": "execute_result"
    }
   ],
   "source": [
    "# 7. ¿Cuántos elementos hay ahora en `persona1`? (Es decir, ¿cuál es su longitud?)\n",
    "len(persona1)"
   ]
  },
  {
   "cell_type": "code",
   "execution_count": 14,
   "metadata": {},
   "outputs": [
    {
     "data": {
      "text/plain": [
       "'pelo marron'"
      ]
     },
     "execution_count": 14,
     "metadata": {},
     "output_type": "execute_result"
    }
   ],
   "source": [
    "# 8. Crea las variables `peso`, `altura`, `color`, `camiseta`, `pantalon`, y `zapatos` y llénalas con el contenido de `persona1`. Imprime `camiseta` para comprobar el resultado.\n",
    "peso, altura, color_pelo = persona1\n",
    "color_pelo\n"
   ]
  },
  {
   "cell_type": "code",
   "execution_count": 15,
   "metadata": {},
   "outputs": [
    {
     "data": {
      "text/plain": [
       "[(61, 68), (1.54, 1.65), ('pelo marron', 'pelo rubio')]"
      ]
     },
     "execution_count": 15,
     "metadata": {},
     "output_type": "execute_result"
    }
   ],
   "source": [
    "# 9. Crea el zip `personas` con `persona1` y `persona2`.\n",
    "personas = list(zip(persona1, persona2))\n",
    "personas"
   ]
  },
  {
   "cell_type": "code",
   "execution_count": 16,
   "metadata": {},
   "outputs": [
    {
     "data": {
      "text/plain": [
       "3"
      ]
     },
     "execution_count": 16,
     "metadata": {},
     "output_type": "execute_result"
    }
   ],
   "source": [
    "# 10. ¿Cuántas \"elementos\" tiene `personas`? ¿Por qué?\n",
    "len(personas)"
   ]
  },
  {
   "cell_type": "code",
   "execution_count": 18,
   "metadata": {},
   "outputs": [
    {
     "data": {
      "text/plain": [
       "(61, 1.54, 'pelo marron')"
      ]
     },
     "execution_count": 18,
     "metadata": {},
     "output_type": "execute_result"
    }
   ],
   "source": [
    "# 11. Crea una tupla `etiquetas` con `'peso'`, `'altura'`, y `'color'`.\n",
    "etiquetas = peso, altura, color_pelo\n",
    "etiquetas"
   ]
  },
  {
   "cell_type": "code",
   "execution_count": 19,
   "metadata": {},
   "outputs": [
    {
     "data": {
      "text/plain": [
       "[(61, 61, 68),\n",
       " (1.54, 1.54, 1.65),\n",
       " ('pelo marron', 'pelo marron', 'pelo rubio')]"
      ]
     },
     "execution_count": 19,
     "metadata": {},
     "output_type": "execute_result"
    }
   ],
   "source": [
    "# 12. Crea al zip de `etiquetas`, `persona1`, y `persona2`.\n",
    "todo = list(zip(etiquetas, persona1, persona2))\n",
    "todo"
   ]
  },
  {
   "cell_type": "code",
   "execution_count": 20,
   "metadata": {},
   "outputs": [
    {
     "ename": "TypeError",
     "evalue": "'<' not supported between instances of 'str' and 'float'",
     "output_type": "error",
     "traceback": [
      "\u001b[0;31m---------------------------------------------------------------------------\u001b[0m",
      "\u001b[0;31mTypeError\u001b[0m                                 Traceback (most recent call last)",
      "\u001b[1;32m/mnt/c/Users/agarc/Documents/Adalab/Nuevo_CV/ejercicios-da-clase-nuevoCV/Modulo-1/clases-invertidas/modulo-1-leccion-03-tuplas.ipynb Cell 13\u001b[0m line \u001b[0;36m2\n\u001b[1;32m      <a href='vscode-notebook-cell://wsl%2Bubuntu/mnt/c/Users/agarc/Documents/Adalab/Nuevo_CV/ejercicios-da-clase-nuevoCV/Modulo-1/clases-invertidas/modulo-1-leccion-03-tuplas.ipynb#X15sdnNjb2RlLXJlbW90ZQ%3D%3D?line=0'>1</a>\u001b[0m \u001b[39m# 13. Ordena las propiedades de la variable `personas` alfabéticamente. \u001b[39;00m\n\u001b[0;32m----> <a href='vscode-notebook-cell://wsl%2Bubuntu/mnt/c/Users/agarc/Documents/Adalab/Nuevo_CV/ejercicios-da-clase-nuevoCV/Modulo-1/clases-invertidas/modulo-1-leccion-03-tuplas.ipynb#X15sdnNjb2RlLXJlbW90ZQ%3D%3D?line=1'>2</a>\u001b[0m personas\u001b[39m.\u001b[39;49msort()\n",
      "\u001b[0;31mTypeError\u001b[0m: '<' not supported between instances of 'str' and 'float'"
     ]
    }
   ],
   "source": [
    "# 13. Ordena las propiedades de la variable `personas` alfabéticamente. \n",
    "personas.sort()\n"
   ]
  },
  {
   "cell_type": "code",
   "execution_count": null,
   "metadata": {},
   "outputs": [],
   "source": []
  }
 ],
 "metadata": {
  "kernelspec": {
   "display_name": "promoe",
   "language": "python",
   "name": "python3"
  },
  "language_info": {
   "codemirror_mode": {
    "name": "ipython",
    "version": 3
   },
   "file_extension": ".py",
   "mimetype": "text/x-python",
   "name": "python",
   "nbconvert_exporter": "python",
   "pygments_lexer": "ipython3",
   "version": "3.10.11"
  },
  "orig_nbformat": 4
 },
 "nbformat": 4,
 "nbformat_minor": 2
}
