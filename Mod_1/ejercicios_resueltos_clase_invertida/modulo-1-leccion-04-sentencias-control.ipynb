{
 "cells": [
  {
   "cell_type": "code",
   "execution_count": 10,
   "metadata": {},
   "outputs": [],
   "source": [
    "# 1. Crea las siguientes variables:\n",
    "var1 = 8\n",
    "var2 = 2\n",
    "var3 = 8"
   ]
  },
  {
   "cell_type": "code",
   "execution_count": 2,
   "metadata": {},
   "outputs": [
    {
     "name": "stdout",
     "output_type": "stream",
     "text": [
      "Es enorme\n"
     ]
    }
   ],
   "source": [
    "# 2. Comprueba si `var1` es mayor que 6, y si es así imprime `¡Es enorme!`.\n",
    "if var1 > 6: \n",
    "    print(\"Es enorme\")\n"
   ]
  },
  {
   "cell_type": "code",
   "execution_count": 3,
   "metadata": {},
   "outputs": [],
   "source": [
    "# 3. Comprueba si `var2` es mayor que 6, y si es así imprime `¡Es enorme también!`.\n",
    "if var2 > 6:\n",
    "    print(\"Es enorme también\")"
   ]
  },
  {
   "cell_type": "code",
   "execution_count": 4,
   "metadata": {},
   "outputs": [
    {
     "name": "stdout",
     "output_type": "stream",
     "text": [
      "Es enorme\n",
      "Pero de verdad\n"
     ]
    }
   ],
   "source": [
    "# 4. Comprueba si `var3` es mayor que 6, y si es así imprime `¡Es enorme!` seguido por `¡Pero de verdad!` en otra línea (deberéis tener dos *print*).\n",
    "if var3 > 6:\n",
    "    print(\"Es enorme\")\n",
    "    print(\"Pero de verdad\")"
   ]
  },
  {
   "cell_type": "code",
   "execution_count": 5,
   "metadata": {},
   "outputs": [
    {
     "name": "stdout",
     "output_type": "stream",
     "text": [
      "Son iguales\n"
     ]
    }
   ],
   "source": [
    "#  5. Comprueba si `var1` es igual que `var3`, y si es así imprime `Son iguales.`\n",
    "if var1 == var3:\n",
    "    print(\"Son iguales\")"
   ]
  },
  {
   "cell_type": "code",
   "execution_count": 6,
   "metadata": {},
   "outputs": [],
   "source": [
    "# 6. Comprueba si `var1` es igual que `var2`, y si es así imprime `Son iguales.`\n",
    "if var1 == var2:\n",
    "    print(\"Son iguales\")"
   ]
  },
  {
   "cell_type": "code",
   "execution_count": 7,
   "metadata": {},
   "outputs": [
    {
     "name": "stdout",
     "output_type": "stream",
     "text": [
      "La diferencia es 6\n"
     ]
    }
   ],
   "source": [
    "# 7. Comprueba si `var1` es mayor o igual que `var2`, y si es así calcula la diferencia entre `var1` y `var2`, guardala en la variable `dif`, e imprime `'La diferencia es',dif`. \n",
    "if var1 >= var2:\n",
    "    dif = var1 - var2\n",
    "    print(f\"La diferencia es {dif}\")"
   ]
  },
  {
   "cell_type": "code",
   "execution_count": 8,
   "metadata": {},
   "outputs": [
    {
     "name": "stdout",
     "output_type": "stream",
     "text": [
      "Es enorme\n"
     ]
    }
   ],
   "source": [
    "# 8. Comprueba si `var1` es mayor que 6, y si es así imprime `¡Es enorme!`. Si no es así imprime `Es chiquitín.`.\n",
    "if var1 > 6:\n",
    "    print(\"Es enorme\")\n",
    "else:\n",
    "    print(\"Es chiquitín\")"
   ]
  },
  {
   "cell_type": "code",
   "execution_count": 9,
   "metadata": {},
   "outputs": [
    {
     "name": "stdout",
     "output_type": "stream",
     "text": [
      "Es chiquitín también\n"
     ]
    }
   ],
   "source": [
    "# 9. Comprueba si `var2` es mayor que 6, y si es así imprime `¡Es enorme también!`. Si no es así imprime `Es chiquitín también.`.\n",
    "if var2 > 6:\n",
    "    print(\"Es enorme también\")\n",
    "else:\n",
    "    print(\"Es chiquitín también\")"
   ]
  },
  {
   "cell_type": "code",
   "execution_count": null,
   "metadata": {},
   "outputs": [],
   "source": [
    "# 10. Comprueba si `var1` es igual a `var3`, y si es así imprime `Son iguales.` Si no es así imprime `Son distintos.`\n",
    "if var1 == var3:\n",
    "    print(\"Son iguales\")\n",
    "else:\n",
    "    print(\"Son distintos\")"
   ]
  },
  {
   "cell_type": "code",
   "execution_count": 13,
   "metadata": {},
   "outputs": [
    {
     "name": "stdout",
     "output_type": "stream",
     "text": [
      "debes pagar 10 euros\n"
     ]
    }
   ],
   "source": [
    "# 11. Escribe un programa para una empresa que tiene salas de juegos para todas las edades y quiere calcular de forma automática el precio que debe cobrar a sus clientes por entrar. El programa debe preguntar al usuario:\n",
    "años = int(input(\"¿Cuantos años tienes\"))\n",
    "\n",
    "if años < 4:\n",
    "    print(\"entrada gratis\")\n",
    "elif años >= 4 and años <= 18:\n",
    "    print(\"debes pagar 5 euros\")\n",
    "else:\n",
    "    print(\"debes pagar 10 euros\")"
   ]
  },
  {
   "cell_type": "code",
   "execution_count": 14,
   "metadata": {},
   "outputs": [
    {
     "name": "stdout",
     "output_type": "stream",
     "text": [
      "Los ahorros que tenemos son 5\n",
      "Los ahorros que tenemos son 10\n",
      "Los ahorros que tenemos son 15\n",
      "Los ahorros que tenemos son 20\n"
     ]
    }
   ],
   "source": [
    "# 12. Inicia la varible `ahorros` con un valor de `5`. \n",
    "# Crea un bucle while que mientras los ahorros sean igual a o menor que `20` imprima por pantalla la cantidad de ahorros que tenemos,\n",
    "# y añádele `5` más. \n",
    "# Cuando la variable ahorros supere el valor de 20 el bucle deberá parar. \n",
    "\n",
    "ahorros = 5\n",
    "while ahorros <= 20:\n",
    "    print(f\"Los ahorros que tenemos son {ahorros}\")\n",
    "    ahorros += 5\n"
   ]
  },
  {
   "cell_type": "code",
   "execution_count": 17,
   "metadata": {},
   "outputs": [
    {
     "name": "stdout",
     "output_type": "stream",
     "text": [
      "Tu impuesto sobre la renta es: $6417.68\n"
     ]
    }
   ],
   "source": [
    "# Solicita el salario anual al usuario\n",
    "# Solicita el ingreso anual y el estado civil al usuario\n",
    "ingreso_anual = float(input(\"Ingresa tu ingreso anual: \"))\n",
    "estado_civil = input(\"¿Eres soltero o casado? (S/C): \")\n",
    "\n",
    "# Calcula el impuesto sobre la renta\n",
    "if estado_civil.upper() == \"S\":\n",
    "    if ingreso_anual <= 9875:\n",
    "        impuesto = ingreso_anual * 0.10\n",
    "    elif ingreso_anual <= 40125:\n",
    "        impuesto = 9875 * 0.10 + (ingreso_anual - 9875) * 0.12\n",
    "    # Continúa con más tramos impositivos si es necesario\n",
    "else:\n",
    "    if ingreso_anual <= 19850:\n",
    "        impuesto = ingreso_anual * 0.10\n",
    "    elif ingreso_anual <= 80250:\n",
    "        impuesto = 19850 * 0.10 + (ingreso_anual - 19850) * 0.12\n",
    "    # Continúa con más tramos impositivos si es necesario\n",
    "\n",
    "print(f\"Tu impuesto sobre la renta es: ${impuesto:.2f}\")"
   ]
  },
  {
   "cell_type": "code",
   "execution_count": 18,
   "metadata": {},
   "outputs": [
    {
     "name": "stdout",
     "output_type": "stream",
     "text": [
      "La calidad del aire es: No Saludable para Grupos Sensibles\n",
      "¡Advertencia! La exposición prolongada puede ser perjudicial para la salud.\n"
     ]
    }
   ],
   "source": [
    "# Solicita el ingreso de la concentración de PM2.5 al usuario\n",
    "try:\n",
    "    concentracion_pm25 = float(input(\"Ingresa la concentración de PM2.5 en µg/m³: \"))\n",
    "except ValueError:\n",
    "    print(\"Error: Debes ingresar un valor numérico válido.\")\n",
    "    exit()\n",
    "\n",
    "# Evalúa el nivel de contaminación del aire\n",
    "if concentracion_pm25 <= 12:\n",
    "    calidad_aire = \"Excelente\"\n",
    "elif 13 <= concentracion_pm25 <= 35:\n",
    "    calidad_aire = \"Buena\"\n",
    "elif 36 <= concentracion_pm25 <= 55:\n",
    "    calidad_aire = \"Aceptable\"\n",
    "elif 56 <= concentracion_pm25 <= 150:\n",
    "    calidad_aire = \"No Saludable para Grupos Sensibles\"\n",
    "else:\n",
    "    calidad_aire = \"No Saludable\"\n",
    "\n",
    "# Muestra el estado de la calidad del aire\n",
    "print(f\"La calidad del aire es: {calidad_aire}\")\n",
    "\n",
    "# Advierte sobre efectos en la salud si es necesario\n",
    "if calidad_aire in [\"No Saludable para Grupos Sensibles\", \"No Saludable\"]:\n",
    "    print(\"¡Advertencia! La exposición prolongada puede ser perjudicial para la salud.\")\n"
   ]
  },
  {
   "cell_type": "code",
   "execution_count": null,
   "metadata": {},
   "outputs": [],
   "source": []
  }
 ],
 "metadata": {
  "kernelspec": {
   "display_name": "promoe",
   "language": "python",
   "name": "python3"
  },
  "language_info": {
   "codemirror_mode": {
    "name": "ipython",
    "version": 3
   },
   "file_extension": ".py",
   "mimetype": "text/x-python",
   "name": "python",
   "nbconvert_exporter": "python",
   "pygments_lexer": "ipython3",
   "version": "3.10.11"
  },
  "orig_nbformat": 4
 },
 "nbformat": 4,
 "nbformat_minor": 2
}
