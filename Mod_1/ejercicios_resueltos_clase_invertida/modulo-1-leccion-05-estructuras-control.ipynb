{
 "cells": [
  {
   "cell_type": "code",
   "execution_count": 1,
   "metadata": {},
   "outputs": [
    {
     "name": "stdout",
     "output_type": "stream",
     "text": [
      "y\n",
      "t\n",
      "h\n",
      "o\n",
      "n\n"
     ]
    }
   ],
   "source": [
    "# 1. Crea una variable que sea igual a \"Python\" y genera un código que nos printee todas las letras menos la \"P\" usando la sentencia `continue`.\n",
    "cadena = 'Python'\n",
    "for letra in cadena:\n",
    "    if letra == 'P':\n",
    "        continue\n",
    "    print(letra)"
   ]
  },
  {
   "cell_type": "code",
   "execution_count": 2,
   "metadata": {},
   "outputs": [
    {
     "name": "stdout",
     "output_type": "stream",
     "text": [
      "H\n",
      "e\n",
      "o\n",
      "\n"
     ]
    }
   ],
   "source": [
    "# 2. De la frase `'Hello'` imprime todas las letras que no sean una `'l'` usando `if`.\n",
    "for x in 'Hello':\n",
    "    if x != 'l':\n",
    "        print(x)\n"
   ]
  },
  {
   "cell_type": "code",
   "execution_count": 3,
   "metadata": {},
   "outputs": [
    {
     "name": "stdout",
     "output_type": "stream",
     "text": [
      "H\n",
      "e\n",
      "o\n"
     ]
    }
   ],
   "source": [
    "# 3. Haz lo mismo que en 2) usando `continue`.\n",
    "for x in 'Hello':\n",
    "    if x == 'l':\n",
    "        continue    \n",
    "    print(x)\n"
   ]
  },
  {
   "cell_type": "code",
   "execution_count": 4,
   "metadata": {},
   "outputs": [
    {
     "name": "stdout",
     "output_type": "stream",
     "text": [
      "H\n",
      "e\n",
      "l\n",
      "l\n"
     ]
    }
   ],
   "source": [
    "# 4. De la frase `'Hello'` imprime todas las letras parando el bucle si encuentras una `'o'`.\n",
    "for x in 'Hello':\n",
    "    if x == 'o':\n",
    "        break\n",
    "    print(x)"
   ]
  },
  {
   "cell_type": "code",
   "execution_count": 5,
   "metadata": {},
   "outputs": [
    {
     "name": "stdout",
     "output_type": "stream",
     "text": [
      "Un error\n"
     ]
    }
   ],
   "source": [
    "# 5. Define  la variable `doce = '12'` y `seis = 6`. Intenta sumarlos. En el caso de que te salga un error imprime `'¡Un error!'`. Para eso usa un `try` ... `except`\n",
    "doce = \"12\"\n",
    "seis = 6\n",
    "\n",
    "try:\n",
    "    doce + seis\n",
    "except: \n",
    "    print(\"Un error\")\n"
   ]
  },
  {
   "cell_type": "code",
   "execution_count": 6,
   "metadata": {},
   "outputs": [
    {
     "name": "stdout",
     "output_type": "stream",
     "text": [
      "lo siento estas intentando sumar dos variables que no son numeros\n"
     ]
    }
   ],
   "source": [
    "# 6. Basándonos en el ejercicio anterior, sin usar un `try` ... `except`, ¿cómo podríamos solucionar el problema? \n",
    "if type(doce) != int or type(seis) != int:\n",
    "    print(\"lo siento estas intentando sumar dos variables que no son numeros\")\n",
    "    \n",
    "else:\n",
    "    print(doce + seis)"
   ]
  },
  {
   "cell_type": "code",
   "execution_count": 9,
   "metadata": {},
   "outputs": [
    {
     "name": "stdout",
     "output_type": "stream",
     "text": [
      "La suma de los números pares es: 2\n"
     ]
    }
   ],
   "source": [
    "suma_pares = 0\n",
    "while True:\n",
    "    numero = int(input(\"Ingresa un número positivo (o un número negativo para salir): \"))\n",
    "    if numero < 0:\n",
    "        break\n",
    "    if numero % 2 != 0:\n",
    "        continue\n",
    "    suma_pares += numero\n",
    "\n",
    "print(f\"La suma de los números pares es: {suma_pares}\")\n",
    "\n"
   ]
  },
  {
   "cell_type": "code",
   "execution_count": 10,
   "metadata": {},
   "outputs": [
    {
     "name": "stdout",
     "output_type": "stream",
     "text": [
      "El resultado de la división es: 1.0\n"
     ]
    }
   ],
   "source": [
    "# 8. Solicita al usuario ingresar dos números y muestra el resultado de dividir el primero por el segundo. Asegúrate de manejar la excepción si el segundo número es cero.\n",
    "\n",
    "try:\n",
    "    num1 = float(input(\"Ingresa el primer número: \"))\n",
    "    num2 = float(input(\"Ingresa el segundo número: \"))\n",
    "    resultado = num1 / num2\n",
    "    print(f\"El resultado de la división es: {resultado}\")\n",
    "except ZeroDivisionError:\n",
    "    print(\"No se puede dividir por cero.\")\n",
    "except ValueError:\n",
    "    print(\"Ingresa números válidos.\")\n"
   ]
  },
  {
   "cell_type": "code",
   "execution_count": 11,
   "metadata": {},
   "outputs": [
    {
     "name": "stdout",
     "output_type": "stream",
     "text": [
      "La raíz cuadrada es: 9.899494936611665\n"
     ]
    }
   ],
   "source": [
    "# 9. Solicita al usuario ingresar un número y muestra su raíz cuadrada. Maneja la excepción si el número es negativo.\n",
    "import math\n",
    "\n",
    "try:\n",
    "    num = float(input(\"Ingresa un número: \"))\n",
    "    if num < 0:\n",
    "        raise ValueError(\"No se puede calcular la raíz cuadrada de un número negativo.\")\n",
    "    resultado = math.sqrt(num)\n",
    "    print(f\"La raíz cuadrada es: {resultado}\")\n",
    "except ValueError as e:\n",
    "    print(e)\n",
    "except Exception as e:\n",
    "    print(\"Ocurrió un error:\", e)\n"
   ]
  },
  {
   "cell_type": "code",
   "execution_count": 12,
   "metadata": {},
   "outputs": [
    {
     "name": "stdout",
     "output_type": "stream",
     "text": [
      "El índice está fuera de rango.\n"
     ]
    }
   ],
   "source": [
    "# 10. Crea una lista de números y solicita al usuario ingresar un índice para acceder a un elemento de la lista. Maneja la excepción si el índice está fuera de rango.\n",
    "lista = [10, 20, 30, 40, 50]\n",
    "\n",
    "try:\n",
    "    indice = int(input(\"Ingresa un índice: \"))\n",
    "    elemento = lista[indice]\n",
    "    print(f\"El elemento en el índice {indice} es: {elemento}\")\n",
    "except IndexError:\n",
    "    print(\"El índice está fuera de rango.\")\n",
    "except ValueError:\n",
    "    print(\"Ingresa un índice válido.\")\n",
    "except Exception as e:\n",
    "    print(\"Ocurrió un error:\", e)\n",
    "\n"
   ]
  },
  {
   "cell_type": "code",
   "execution_count": null,
   "metadata": {},
   "outputs": [],
   "source": []
  }
 ],
 "metadata": {
  "kernelspec": {
   "display_name": "promoe",
   "language": "python",
   "name": "python3"
  },
  "language_info": {
   "codemirror_mode": {
    "name": "ipython",
    "version": 3
   },
   "file_extension": ".py",
   "mimetype": "text/x-python",
   "name": "python",
   "nbconvert_exporter": "python",
   "pygments_lexer": "ipython3",
   "version": "3.10.11"
  },
  "orig_nbformat": 4
 },
 "nbformat": 4,
 "nbformat_minor": 2
}
