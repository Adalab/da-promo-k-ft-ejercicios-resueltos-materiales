{
 "cells": [
  {
   "cell_type": "code",
   "execution_count": 23,
   "metadata": {},
   "outputs": [],
   "source": [
    "# 1. crea un diccionario de festivos\n",
    "festivos = {\"06/01\": \"Epifanía del Señor\", \n",
    "            \"15/04\": \"Viernes Santo\", \n",
    "            \"15/08\": \"Asunción de la Virgen\", \n",
    "            \"12/10\": \"Fiesta Nacional de España\", \n",
    "            \"01/11\": \"Todos los Santos\", \n",
    "            \"06/12\": \"Día de la Constitución Española\",  \n",
    "            \"08/12\": \"Inmaculada Concepción\"}"
   ]
  },
  {
   "cell_type": "code",
   "execution_count": 24,
   "metadata": {},
   "outputs": [],
   "source": [
    "# 2. Crea el diccionario `monarcas` \n",
    "monarcas = {\"Bélgica\": \"Philippe\", \n",
    "            \"Dinamarca\": \"Margrethe II\", \n",
    "            \"Holanda\": \"Beatrix\", \n",
    "            \"Noruega\": \"Harald V\", \n",
    "            \"España\": \"Felipe VI\", \"Reino Unido\": \"Carlos III\"}"
   ]
  },
  {
   "cell_type": "code",
   "execution_count": 25,
   "metadata": {},
   "outputs": [
    {
     "data": {
      "text/plain": [
       "'Viernes Santo'"
      ]
     },
     "execution_count": 25,
     "metadata": {},
     "output_type": "execute_result"
    }
   ],
   "source": [
    "# 3. ¿Qué festivo hay el 15/04?\n",
    "festivos[\"15/04\"]"
   ]
  },
  {
   "cell_type": "code",
   "execution_count": 26,
   "metadata": {},
   "outputs": [
    {
     "data": {
      "text/plain": [
       "{'Bélgica': 'Philippe',\n",
       " 'Dinamarca': 'Willem-Alexander',\n",
       " 'Holanda': 'Beatrix',\n",
       " 'Noruega': 'Harald V',\n",
       " 'España': 'Felipe VI',\n",
       " 'Reino Unido': 'Carlos III'}"
      ]
     },
     "execution_count": 26,
     "metadata": {},
     "output_type": "execute_result"
    }
   ],
   "source": [
    "#  4. La reina `'Beatrix'` abdicó, ahora es el rey `'Willem-Alexander'`. Actualiza el dict.\n",
    "monarcas[\"Dinamarca\"] = \"Willem-Alexander\"\n",
    "monarcas"
   ]
  },
  {
   "cell_type": "code",
   "execution_count": 27,
   "metadata": {},
   "outputs": [
    {
     "data": {
      "text/plain": [
       "{'Bélgica': 'Philippe',\n",
       " 'Dinamarca': 'Willem-Alexander',\n",
       " 'Holanda': 'Beatrix',\n",
       " 'Noruega': 'Harald V',\n",
       " 'España': 'Felipe VI',\n",
       " 'Reino Unido': 'Carlos III',\n",
       " 'Luxemburgo': 'Henri'}"
      ]
     },
     "execution_count": 27,
     "metadata": {},
     "output_type": "execute_result"
    }
   ],
   "source": [
    "#  5. El rey de Luxemburgo se llama `Henri`. Añadelo al dict usando `.update()`. \n",
    "monarcas.update({\"Luxemburgo\": \"Henri\"})\n",
    "monarcas"
   ]
  },
  {
   "cell_type": "code",
   "execution_count": 28,
   "metadata": {},
   "outputs": [
    {
     "data": {
      "text/plain": [
       "7"
      ]
     },
     "execution_count": 28,
     "metadata": {},
     "output_type": "execute_result"
    }
   ],
   "source": [
    "# 6. ¿Cuántos países están definidos en `monarcas`?\n",
    "len(monarcas.keys())"
   ]
  },
  {
   "cell_type": "code",
   "execution_count": 29,
   "metadata": {},
   "outputs": [
    {
     "data": {
      "text/plain": [
       "False"
      ]
     },
     "execution_count": 29,
     "metadata": {},
     "output_type": "execute_result"
    }
   ],
   "source": [
    "#  7. ¿Es `'Monaco'` uno de ellos?\n",
    "\"Monaco\" in monarcas.keys()"
   ]
  },
  {
   "cell_type": "code",
   "execution_count": 30,
   "metadata": {},
   "outputs": [
    {
     "data": {
      "text/plain": [
       "False"
      ]
     },
     "execution_count": 30,
     "metadata": {},
     "output_type": "execute_result"
    }
   ],
   "source": [
    "# 8. ¿Es verdad que nos olvidamos de poner `'Suecia'`? Compruébalo de una manera en que obtengas un `True` o `False`.\n",
    "\"Suecia\" in monarcas.keys()"
   ]
  },
  {
   "cell_type": "code",
   "execution_count": 31,
   "metadata": {},
   "outputs": [
    {
     "data": {
      "text/plain": [
       "['Bélgica',\n",
       " 'Dinamarca',\n",
       " 'Holanda',\n",
       " 'Noruega',\n",
       " 'España',\n",
       " 'Reino Unido',\n",
       " 'Luxemburgo']"
      ]
     },
     "execution_count": 31,
     "metadata": {},
     "output_type": "execute_result"
    }
   ],
   "source": [
    "# 9. Saca una lista de todos los países en el dict `monarcas`.\n",
    "list(monarcas.keys())"
   ]
  },
  {
   "cell_type": "code",
   "execution_count": 32,
   "metadata": {},
   "outputs": [
    {
     "data": {
      "text/plain": [
       "['Epifanía del Señor',\n",
       " 'Viernes Santo',\n",
       " 'Asunción de la Virgen',\n",
       " 'Fiesta Nacional de España',\n",
       " 'Todos los Santos',\n",
       " 'Día de la Constitución Española',\n",
       " 'Inmaculada Concepción']"
      ]
     },
     "execution_count": 32,
     "metadata": {},
     "output_type": "execute_result"
    }
   ],
   "source": [
    "# 10. Saca una **lista** de los nombres de los festivos.\n",
    "list(festivos.values())"
   ]
  },
  {
   "cell_type": "code",
   "execution_count": 33,
   "metadata": {},
   "outputs": [
    {
     "data": {
      "text/plain": [
       "{'06/01': 'Epifanía del Señor',\n",
       " '15/04': 'Viernes Santo',\n",
       " '15/08': 'Asunción de la Virgen',\n",
       " '12/10': 'Fiesta Nacional de España',\n",
       " '01/11': 'Todos los Santos',\n",
       " '06/12': 'Día de la Constitución Española',\n",
       " '08/12': 'Inmaculada Concepción'}"
      ]
     },
     "execution_count": 33,
     "metadata": {},
     "output_type": "execute_result"
    }
   ],
   "source": [
    "# 11. Imprime el diccionario de festivos.\n",
    "festivos"
   ]
  },
  {
   "cell_type": "code",
   "execution_count": 34,
   "metadata": {},
   "outputs": [
    {
     "data": {
      "text/plain": [
       "[('06/01', 'Epifanía del Señor'),\n",
       " ('15/04', 'Viernes Santo'),\n",
       " ('15/08', 'Asunción de la Virgen'),\n",
       " ('12/10', 'Fiesta Nacional de España'),\n",
       " ('01/11', 'Todos los Santos'),\n",
       " ('06/12', 'Día de la Constitución Española'),\n",
       " ('08/12', 'Inmaculada Concepción')]"
      ]
     },
     "execution_count": 34,
     "metadata": {},
     "output_type": "execute_result"
    }
   ],
   "source": [
    "# 12. Imprime una lista  de tuplas de todos los elementos que hay en festivos.\n",
    "list(festivos.items())"
   ]
  },
  {
   "cell_type": "code",
   "execution_count": 35,
   "metadata": {},
   "outputs": [
    {
     "data": {
      "text/plain": [
       "{'Bélgica': 'Philippe',\n",
       " 'Dinamarca': 'Willem-Alexander',\n",
       " 'Holanda': 'Beatrix',\n",
       " 'Noruega': 'Harald V',\n",
       " 'España': 'Felipe VI',\n",
       " 'Reino Unido': 'Carlos III',\n",
       " 'Luxemburgo': 'Henri'}"
      ]
     },
     "execution_count": 35,
     "metadata": {},
     "output_type": "execute_result"
    }
   ],
   "source": [
    "# 13. Copia `monarcas` a `monarcas2010`\n",
    "monarcas2010 = monarcas.copy()\n",
    "monarcas2010"
   ]
  },
  {
   "cell_type": "code",
   "execution_count": 36,
   "metadata": {},
   "outputs": [
    {
     "data": {
      "text/plain": [
       "{'Bélgica': 'Philippe',\n",
       " 'Dinamarca': 'Willem-Alexander',\n",
       " 'Holanda': 'Beatrix',\n",
       " 'Noruega': 'Harald V',\n",
       " 'Reino Unido': 'Carlos III',\n",
       " 'Luxemburgo': 'Henri'}"
      ]
     },
     "execution_count": 36,
     "metadata": {},
     "output_type": "execute_result"
    }
   ],
   "source": [
    "# 14. Quita España de `monarcas2010` con `.pop()`.\n",
    "monarcas2010.pop(\"España\")\n",
    "monarcas2010"
   ]
  },
  {
   "cell_type": "code",
   "execution_count": 37,
   "metadata": {},
   "outputs": [
    {
     "data": {
      "text/plain": [
       "{'Bélgica': 'Philippe',\n",
       " 'Dinamarca': 'Willem-Alexander',\n",
       " 'Holanda': 'Beatrix',\n",
       " 'Noruega': 'Harald V',\n",
       " 'Reino Unido': 'Carlos III'}"
      ]
     },
     "execution_count": 37,
     "metadata": {},
     "output_type": "execute_result"
    }
   ],
   "source": [
    "# 15. Quita el último elemento de `monarcas2010`.\n",
    "monarcas2010.popitem()\n",
    "monarcas2010"
   ]
  },
  {
   "cell_type": "code",
   "execution_count": 39,
   "metadata": {},
   "outputs": [
    {
     "data": {
      "text/plain": [
       "{}"
      ]
     },
     "execution_count": 39,
     "metadata": {},
     "output_type": "execute_result"
    }
   ],
   "source": [
    "#   16. Vacia el dict `monarcas2010` usando el método para ello.\n",
    "monarcas2010.clear()\n",
    "monarcas2010"
   ]
  },
  {
   "cell_type": "code",
   "execution_count": 40,
   "metadata": {},
   "outputs": [
    {
     "data": {
      "text/plain": [
       "'Epifanía del Señor'"
      ]
     },
     "execution_count": 40,
     "metadata": {},
     "output_type": "execute_result"
    }
   ],
   "source": [
    "#   17. ¿Qué festivo hay el 06/01?\n",
    "festivos[\"06/01\"]"
   ]
  },
  {
   "cell_type": "code",
   "execution_count": 41,
   "metadata": {},
   "outputs": [
    {
     "data": {
      "text/plain": [
       "'Dia Internacional de la Mujer'"
      ]
     },
     "execution_count": 41,
     "metadata": {},
     "output_type": "execute_result"
    }
   ],
   "source": [
    "# 18. Obten el festivo que haya el 08/03, y en su defecto devuélve 'Día Internacional de la Mujer'.\n",
    "festivos.get(\"08/03\", \"Dia Internacional de la Mujer\")"
   ]
  },
  {
   "cell_type": "code",
   "execution_count": 43,
   "metadata": {},
   "outputs": [
    {
     "data": {
      "text/plain": [
       "{'06/01': 'Epifanía del Señor',\n",
       " '15/04': 'Viernes Santo',\n",
       " '15/08': 'Asunción de la Virgen',\n",
       " '12/10': 'Fiesta Nacional de España',\n",
       " '01/11': 'Todos los Santos',\n",
       " '06/12': 'Día de la Constitución Española',\n",
       " '08/12': 'Inmaculada Concepción',\n",
       " '31/11': 'Todos los Santos'}"
      ]
     },
     "execution_count": 43,
     "metadata": {},
     "output_type": "execute_result"
    }
   ],
   "source": [
    "# 19. Obten el festivo que haya el 15/04, y si no existe crea un par de clave-valor nuevo con el valor de 'Semana Santa'.\n",
    "festivos.setdefault(\"31/11\", \"Todos los Santos\")\n",
    "festivos"
   ]
  },
  {
   "cell_type": "code",
   "execution_count": null,
   "metadata": {},
   "outputs": [],
   "source": []
  }
 ],
 "metadata": {
  "kernelspec": {
   "display_name": "promoe",
   "language": "python",
   "name": "python3"
  },
  "language_info": {
   "codemirror_mode": {
    "name": "ipython",
    "version": 3
   },
   "file_extension": ".py",
   "mimetype": "text/x-python",
   "name": "python",
   "nbconvert_exporter": "python",
   "pygments_lexer": "ipython3",
   "version": "3.10.11"
  },
  "orig_nbformat": 4
 },
 "nbformat": 4,
 "nbformat_minor": 2
}
