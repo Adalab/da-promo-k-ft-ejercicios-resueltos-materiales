{
 "cells": [
  {
   "cell_type": "markdown",
   "metadata": {},
   "source": [
    "## Pair Pandas\n",
    "\n",
    "El objetivo de la clase de hoy será crear unos cuántos DataFrames y Series a través de los siguientes ejercicios:\n",
    "\n",
    "*   ¿Qué diferencia hay entre una Serie y un DataFrame?\n",
    "\n",
    "Momento de trabajar con Series. Contesta a las siguientes preguntas:\n",
    "\n",
    "1-  Crea dos listas:\n",
    "\n",
    "    Una que se llame \"valores\" que tenga 7 números aleatorios.\n",
    "\n",
    "    Otra que se llame \"indices\" que tenga 7 strings que se llamen como los días de la semana.\n",
    "\n",
    "2-  A partir de estas dos listas crea una Serie donde la variable \"valores\" sean los valores de la Serie y la variable indices sean los índices de la Serie.\n",
    "\n",
    "3-  A partir de las dos listas anteriores crea un diccionario usando un bucle for. Para hacer esto tenemos el método zip que nos permite iterar por dos listas a la vez. Más informción sobre este método aquí.\n",
    "\n",
    "4-  Crea una Serie con el diccionario creado en el punto anterior.\n",
    "\n",
    "5-  ¿Qué forma tiene esta última Serie?\n",
    "\n",
    "6-  ¿Qué tipo de datos tiene?\n",
    "\n",
    "7-  ¿Qué tamaño tiene?\n",
    "\n",
    "8-  ¿Cuáles son los índices de la Serie?\n",
    "\n",
    "9-  ¿Y los values?\n",
    "\n",
    "10- Extrae el valor para el índice \"lunes\"\n",
    "\n",
    "11- Extrae el valor para el índice \"lunes\", \"martes\" y \"miércoles\".\n",
    "\n",
    "12- Extrae el valor para el índice \"lunes\" y \"domingo\".\n",
    "\n",
    "Es el turno de los DataFrames\n",
    "\n",
    "14- Crea un array de dos dimensiones con 4 filas y 3 columnas.\n",
    "\n",
    "15- Convierte el array en un DataFrame donde las columnas se llamen \"España\", \"Francia\" e \"Italia\".\n",
    "\n",
    "Descarga el archivo \"medallas\" y carga el DataFrame.\n",
    "\n",
    "16- Usando el loc extrae todas las columnas de la fila de Tailandia.\n",
    "\n",
    "17- Usando el loc extrae todas las columnas de China e Irán.\n",
    "\n",
    "18- Usando el loc extrae solo las columnas de \"Oro\", \"Plata\" y \"Bronce\" de China e Irán.\n",
    "\n",
    "19- Usando el iloc extrae la información de la India. Devolved todas las columnas.\n",
    "\n",
    "20- Usando el iloc extrae todas las columnas de los paises que estén en posición impar. La primera que nos tendría que salir es Japón y la última Corea del Norte.\n",
    "\n",
    "21- Utilizando el código del ejercicio anterior, selecciona unicamente las columnas \"Oro\", \"Plata\" y \"Bronce\".\n",
    "\n",
    "Contesta a las siguientes preguntas:\n",
    "\n",
    "22- ¿Qué país consiguió más de 200 medallas de oro?\n",
    "\n",
    "23- ¿Qué país consiguió más de 200 medallas de oro y más de 1000 de plata?\n",
    "\n",
    "24- ¿Qué país consiguió más de 200 medallas de oro o más de 700 de bronce?\n",
    "\n",
    "25- Crea una nueva columma que se llame \"total\" que sea el resultado de la suma de todas las medallas obtenidas por cada país."
   ]
  },
  {
   "cell_type": "code",
   "execution_count": 20,
   "metadata": {},
   "outputs": [],
   "source": [
    "#importando librerias!\n",
    "import pandas as pd\n",
    "import numpy as np"
   ]
  },
  {
   "cell_type": "markdown",
   "metadata": {},
   "source": [
    "\n",
    "### Pair Pandas\n",
    "\n",
    "El objetivo de la clase de hoy será crear unos cuántos DataFrames y Series a través de los siguientes ejercicios:\n",
    "\n",
    "¿Qué diferencia hay entre una Serie y un DataFrame?\n",
    "\n",
    "Una serie es una estructura de datos unidimensional etiquetada, mientras que un DataFrame es una estructura de datos bidimensional etiquetada y tabular. Los DataFrames son más versátiles y se utilizan comúnmente para manipular datos de forma tabular, mientras que las series son más simples y se utilizan para representar datos unidimensionales.\n"
   ]
  },
  {
   "cell_type": "code",
   "execution_count": 4,
   "metadata": {},
   "outputs": [],
   "source": [
    "\"\"\"\n",
    "Momento de trabajar con Series. Contesta a las siguientes preguntas:\n",
    "\n",
    "Crea dos listas:\n",
    "\n",
    "Una que se llame \"valores\" que tenga 7 números aleatorios.\n",
    "\n",
    "Otra que se llame \"indices\" que tenga 7 strings que se llamen como los días de la semana.\n",
    "\n",
    "\"\"\"\n",
    "# Lista de valores con 7 números aleatorios\n",
    "valores = [23, 45, 12, 67, 34, 89, 55]\n",
    "\n",
    "# Lista de índices con los días de la semana\n",
    "dias_semana = [\"Lunes\", \"Martes\", \"Miércoles\", \"Jueves\", \"Viernes\", \"Sábado\", \"Domingo\"]\n"
   ]
  },
  {
   "cell_type": "code",
   "execution_count": 5,
   "metadata": {},
   "outputs": [
    {
     "name": "stdout",
     "output_type": "stream",
     "text": [
      "Lunes        23\n",
      "Martes       45\n",
      "Miércoles    12\n",
      "Jueves       67\n",
      "Viernes      34\n",
      "Sábado       89\n",
      "Domingo      55\n",
      "dtype: int64\n"
     ]
    }
   ],
   "source": [
    "\"\"\"\n",
    "A partir de estas dos listas crea una Serie donde la variable \"valores\" sean los valores de la Serie y la variable indices sean\n",
    "los índices de la Serie.\n",
    "\"\"\"\n",
    "\n",
    "# Crear la Serie\n",
    "serie = pd.Series(valores, index=dias_semana)\n",
    "\n",
    "# Mostrar la Serie resultante\n",
    "print(serie)"
   ]
  },
  {
   "cell_type": "code",
   "execution_count": 17,
   "metadata": {},
   "outputs": [
    {
     "data": {
      "text/plain": [
       "{'Lunes': 23,\n",
       " 'Martes': 45,\n",
       " 'Miércoles': 12,\n",
       " 'Jueves': 67,\n",
       " 'Viernes': 34,\n",
       " 'Sábado': 89,\n",
       " 'Domingo': 55}"
      ]
     },
     "execution_count": 17,
     "metadata": {},
     "output_type": "execute_result"
    }
   ],
   "source": [
    "\"\"\"\n",
    "A partir de las dos listas anteriores crea un diccionario usando un bucle for. Para hacer esto tenemos el método zip que nos permite iterar por dos listas a la vez. Más informción sobre este método aquí.\n",
    "\n",
    "\"\"\"\n",
    "\n",
    "diccionario = dict(zip(dias_semana, valores))\n",
    "diccionario"
   ]
  },
  {
   "cell_type": "code",
   "execution_count": 16,
   "metadata": {},
   "outputs": [
    {
     "data": {
      "text/plain": [
       "Lunes        23\n",
       "Martes       45\n",
       "Miércoles    12\n",
       "Jueves       67\n",
       "Viernes      34\n",
       "Sábado       89\n",
       "Domingo      55\n",
       "dtype: int64"
      ]
     },
     "execution_count": 16,
     "metadata": {},
     "output_type": "execute_result"
    }
   ],
   "source": [
    "\"\"\"\n",
    "4-  Crea una Serie con el diccionario creado en el punto anterior.\n",
    "\"\"\"\n",
    "# Crear la Serie a partir del diccionario\n",
    "serie = pd.Series(diccionario)\n",
    "\n",
    "# Mostrar la Serie resultante\n",
    "serie"
   ]
  },
  {
   "cell_type": "code",
   "execution_count": 18,
   "metadata": {},
   "outputs": [
    {
     "name": "stdout",
     "output_type": "stream",
     "text": [
      "Forma de la Serie: (7,)\n",
      "Tipo de datos de la Serie: int64\n",
      "Tamaño de la Serie: 7\n",
      "Índices de la Serie: Index(['Lunes', 'Martes', 'Miércoles', 'Jueves', 'Viernes', 'Sábado',\n",
      "       'Domingo'],\n",
      "      dtype='object')\n",
      "Values de la Serie: [23 45 12 67 34 89 55]\n"
     ]
    }
   ],
   "source": [
    "\"\"\"\n",
    "5-  ¿Qué forma tiene esta última Serie?\n",
    "\n",
    "6-  ¿Qué tipo de datos tiene?\n",
    "\n",
    "7-  ¿Qué tamaño tiene?\n",
    "\n",
    "8-  ¿Cuáles son los índices de la Serie?\n",
    "\n",
    "9-  ¿Y los values?\n",
    "\"\"\"\n",
    "\n",
    "# Forma de la Serie\n",
    "forma_serie = serie.shape\n",
    "\n",
    "# Tipo de datos de la Serie\n",
    "tipo_datos = serie.dtype\n",
    "\n",
    "# Tamaño de la Serie\n",
    "tamaño_serie = serie.size\n",
    "\n",
    "# Índices de la Serie\n",
    "indices_serie = serie.index\n",
    "\n",
    "# Values de la Serie\n",
    "values_serie = serie.values\n",
    "\n",
    "print(\"Forma de la Serie:\", forma_serie)\n",
    "print(\"Tipo de datos de la Serie:\", tipo_datos)\n",
    "print(\"Tamaño de la Serie:\", tamaño_serie)\n",
    "print(\"Índices de la Serie:\", indices_serie)\n",
    "print(\"Values de la Serie:\", values_serie)\n"
   ]
  },
  {
   "cell_type": "code",
   "execution_count": 19,
   "metadata": {},
   "outputs": [
    {
     "name": "stdout",
     "output_type": "stream",
     "text": [
      "Valor para el índice 'Lunes': 23\n",
      "Valores para los índices 'Lunes', 'Martes' y 'Miércoles':\n",
      " Lunes        23\n",
      "Martes       45\n",
      "Miércoles    12\n",
      "dtype: int64\n",
      "Valores para los índices 'Lunes' y 'Domingo':\n",
      " Lunes      23\n",
      "Domingo    55\n",
      "dtype: int64\n"
     ]
    }
   ],
   "source": [
    "\"\"\"\n",
    "10- Extrae el valor para el índice \"lunes\"\n",
    "\n",
    "11- Extrae el valor para el índice \"lunes\", \"martes\" y \"miércoles\".\n",
    "\n",
    "12- Extrae el valor para el índice \"lunes\" y \"domingo\".\n",
    "\"\"\"\n",
    "\n",
    "# Extraer el valor para el índice \"lunes\"\n",
    "valor_lunes = serie['Lunes']\n",
    "print(\"Valor para el índice 'Lunes':\", valor_lunes)\n",
    "\n",
    "# Extraer el valor para el índice \"lunes\", \"martes\" y \"miércoles\"\n",
    "valores_lunes_martes_miercoles = serie[['Lunes', 'Martes', 'Miércoles']]\n",
    "print(\"Valores para los índices 'Lunes', 'Martes' y 'Miércoles':\\n\", valores_lunes_martes_miercoles)\n",
    "\n",
    "# Extraer el valor para el índice \"lunes\" y \"domingo\"\n",
    "valores_lunes_domingo = serie[['Lunes', 'Domingo']]\n",
    "print(\"Valores para los índices 'Lunes' y 'Domingo':\\n\", valores_lunes_domingo)\n"
   ]
  },
  {
   "cell_type": "code",
   "execution_count": 22,
   "metadata": {},
   "outputs": [
    {
     "data": {
      "text/html": [
       "<div>\n",
       "<style scoped>\n",
       "    .dataframe tbody tr th:only-of-type {\n",
       "        vertical-align: middle;\n",
       "    }\n",
       "\n",
       "    .dataframe tbody tr th {\n",
       "        vertical-align: top;\n",
       "    }\n",
       "\n",
       "    .dataframe thead th {\n",
       "        text-align: right;\n",
       "    }\n",
       "</style>\n",
       "<table border=\"1\" class=\"dataframe\">\n",
       "  <thead>\n",
       "    <tr style=\"text-align: right;\">\n",
       "      <th></th>\n",
       "      <th>España</th>\n",
       "      <th>Francia</th>\n",
       "      <th>Italia</th>\n",
       "    </tr>\n",
       "  </thead>\n",
       "  <tbody>\n",
       "    <tr>\n",
       "      <th>0</th>\n",
       "      <td>10</td>\n",
       "      <td>20</td>\n",
       "      <td>30</td>\n",
       "    </tr>\n",
       "    <tr>\n",
       "      <th>1</th>\n",
       "      <td>40</td>\n",
       "      <td>50</td>\n",
       "      <td>60</td>\n",
       "    </tr>\n",
       "    <tr>\n",
       "      <th>2</th>\n",
       "      <td>70</td>\n",
       "      <td>80</td>\n",
       "      <td>90</td>\n",
       "    </tr>\n",
       "    <tr>\n",
       "      <th>3</th>\n",
       "      <td>100</td>\n",
       "      <td>110</td>\n",
       "      <td>120</td>\n",
       "    </tr>\n",
       "  </tbody>\n",
       "</table>\n",
       "</div>"
      ],
      "text/plain": [
       "   España  Francia  Italia\n",
       "0      10       20      30\n",
       "1      40       50      60\n",
       "2      70       80      90\n",
       "3     100      110     120"
      ]
     },
     "execution_count": 22,
     "metadata": {},
     "output_type": "execute_result"
    }
   ],
   "source": [
    "\"\"\"\n",
    "14- Crea un array de dos dimensiones con 4 filas y 3 columnas.\n",
    "\n",
    "15- Convierte el array en un DataFrame donde las columnas se llamen \"España\", \"Francia\" e \"Italia\".\n",
    "\n",
    "\"\"\"\n",
    "\n",
    "# 14. Crear un array de dos dimensiones con 4 filas y 3 columnas\n",
    "array_2d = np.array([\n",
    "    [10, 20, 30],\n",
    "    [40, 50, 60],\n",
    "    [70, 80, 90],\n",
    "    [100, 110, 120]\n",
    "])\n",
    "\n",
    "# 15. Convertir el array en un DataFrame con columnas específicas\n",
    "columnas = ['España', 'Francia', 'Italia']\n",
    "df = pd.DataFrame(array_2d, columns=columnas)\n",
    "\n",
    "# Mostrar el DataFrame resultante\n",
    "df"
   ]
  },
  {
   "cell_type": "code",
   "execution_count": 44,
   "metadata": {},
   "outputs": [
    {
     "data": {
      "text/html": [
       "<div>\n",
       "<style scoped>\n",
       "    .dataframe tbody tr th:only-of-type {\n",
       "        vertical-align: middle;\n",
       "    }\n",
       "\n",
       "    .dataframe tbody tr th {\n",
       "        vertical-align: top;\n",
       "    }\n",
       "\n",
       "    .dataframe thead th {\n",
       "        text-align: right;\n",
       "    }\n",
       "</style>\n",
       "<table border=\"1\" class=\"dataframe\">\n",
       "  <thead>\n",
       "    <tr style=\"text-align: right;\">\n",
       "      <th></th>\n",
       "      <th>Oro</th>\n",
       "      <th>Plata</th>\n",
       "      <th>Bronce</th>\n",
       "    </tr>\n",
       "    <tr>\n",
       "      <th>País</th>\n",
       "      <th></th>\n",
       "      <th></th>\n",
       "      <th></th>\n",
       "    </tr>\n",
       "  </thead>\n",
       "  <tbody>\n",
       "    <tr>\n",
       "      <th>China</th>\n",
       "      <td>1473</td>\n",
       "      <td>994</td>\n",
       "      <td>720</td>\n",
       "    </tr>\n",
       "    <tr>\n",
       "      <th>Japón</th>\n",
       "      <td>1032</td>\n",
       "      <td>1037</td>\n",
       "      <td>985</td>\n",
       "    </tr>\n",
       "    <tr>\n",
       "      <th>Corea del Sur</th>\n",
       "      <td>745</td>\n",
       "      <td>663</td>\n",
       "      <td>827</td>\n",
       "    </tr>\n",
       "    <tr>\n",
       "      <th>Irán</th>\n",
       "      <td>179</td>\n",
       "      <td>181</td>\n",
       "      <td>197</td>\n",
       "    </tr>\n",
       "    <tr>\n",
       "      <th>Kazajistán</th>\n",
       "      <td>155</td>\n",
       "      <td>158</td>\n",
       "      <td>224</td>\n",
       "    </tr>\n",
       "    <tr>\n",
       "      <th>India</th>\n",
       "      <td>154</td>\n",
       "      <td>202</td>\n",
       "      <td>315</td>\n",
       "    </tr>\n",
       "    <tr>\n",
       "      <th>Tailandia</th>\n",
       "      <td>132</td>\n",
       "      <td>175</td>\n",
       "      <td>278</td>\n",
       "    </tr>\n",
       "    <tr>\n",
       "      <th>Indonesia</th>\n",
       "      <td>112</td>\n",
       "      <td>131</td>\n",
       "      <td>240</td>\n",
       "    </tr>\n",
       "    <tr>\n",
       "      <th>China Taipéi</th>\n",
       "      <td>99</td>\n",
       "      <td>144</td>\n",
       "      <td>276</td>\n",
       "    </tr>\n",
       "    <tr>\n",
       "      <th>Corea del Norte</th>\n",
       "      <td>91</td>\n",
       "      <td>120</td>\n",
       "      <td>235</td>\n",
       "    </tr>\n",
       "  </tbody>\n",
       "</table>\n",
       "</div>"
      ],
      "text/plain": [
       "                  Oro  Plata  Bronce\n",
       "País                                \n",
       "China            1473    994     720\n",
       "Japón            1032   1037     985\n",
       "Corea del Sur     745    663     827\n",
       "Irán              179    181     197\n",
       "Kazajistán        155    158     224\n",
       "India             154    202     315\n",
       "Tailandia         132    175     278\n",
       "Indonesia         112    131     240\n",
       "China Taipéi       99    144     276\n",
       "Corea del Norte    91    120     235"
      ]
     },
     "execution_count": 44,
     "metadata": {},
     "output_type": "execute_result"
    }
   ],
   "source": [
    "\"\"\"\n",
    "Descarga el archivo \"medallas\" y carga el DataFrame.\n",
    "\n",
    "\"\"\"\n",
    "\n",
    "# traigo mis datos \n",
    "medallas = pd.read_csv(\"medallas.csv\",index_col=\"País\")\n",
    "\n",
    "# Eliminar la columna \"Unnamed\"\n",
    "medallas = medallas.drop(columns=['Unnamed: 0'])\n",
    "\n",
    "medallas"
   ]
  },
  {
   "cell_type": "code",
   "execution_count": 45,
   "metadata": {},
   "outputs": [
    {
     "name": "stdout",
     "output_type": "stream",
     "text": [
      "Oro       132\n",
      "Plata     175\n",
      "Bronce    278\n",
      "Name: Tailandia, dtype: int64\n"
     ]
    }
   ],
   "source": [
    "\"\"\"\n",
    "16- Usando el loc extrae todas las columnas de la fila de Tailandia.\n",
    "\n",
    "\"\"\"\n",
    "\n",
    "#16- Usando el loc extrae todas las columnas de la fila de Tailandia.\n",
    "fila_tailandia = medallas.loc['Tailandia']\n",
    "\n",
    "# Mostrar la fila de Tailandia\n",
    "print(fila_tailandia)"
   ]
  },
  {
   "cell_type": "code",
   "execution_count": 46,
   "metadata": {},
   "outputs": [
    {
     "name": "stdout",
     "output_type": "stream",
     "text": [
      "        Oro  Plata  Bronce\n",
      "País                      \n",
      "China  1473    994     720\n",
      "Irán    179    181     197\n"
     ]
    }
   ],
   "source": [
    "\"\"\"\n",
    "17- Usando el loc extrae todas las columnas de China e Irán.\n",
    "\n",
    "\"\"\"\n",
    "\n",
    "filas_china_iran = medallas.loc[['China', 'Irán']]\n",
    "\n",
    "# Mostrar las filas de China e Irán\n",
    "print(filas_china_iran)"
   ]
  },
  {
   "cell_type": "code",
   "execution_count": 47,
   "metadata": {},
   "outputs": [
    {
     "name": "stdout",
     "output_type": "stream",
     "text": [
      "        Oro  Plata  Bronce\n",
      "País                      \n",
      "China  1473    994     720\n",
      "Irán    179    181     197\n"
     ]
    }
   ],
   "source": [
    "\"\"\"\n",
    "18- Usando el loc extrae solo las columnas de \"Oro\", \"Plata\" y \"Bronce\" de China e Irán.\n",
    "\n",
    "\"\"\"\n",
    "\n",
    "# Suponiendo que \"Pais\" es el nombre de la columna que se ha convertido en el índice\n",
    "columnas_medallas_china_iran = medallas.loc[['China', 'Irán'], ['Oro', 'Plata', 'Bronce']]\n",
    "\n",
    "# Mostrar las columnas \"Oro\", \"Plata\" y \"Bronce\" de China e Irán\n",
    "print(columnas_medallas_china_iran)\n"
   ]
  },
  {
   "cell_type": "code",
   "execution_count": 49,
   "metadata": {},
   "outputs": [
    {
     "name": "stdout",
     "output_type": "stream",
     "text": [
      "Oro       154\n",
      "Plata     202\n",
      "Bronce    315\n",
      "Name: India, dtype: int64\n"
     ]
    }
   ],
   "source": [
    "\"\"\"\n",
    "19- Usando el iloc extrae la información de la India. Devolved todas las columnas.\n",
    "\n",
    "\"\"\"\n",
    "info_india = medallas.iloc[5]\n",
    "\n",
    "# Mostrar la información de la India\n",
    "print(info_india)\n"
   ]
  },
  {
   "cell_type": "code",
   "execution_count": 51,
   "metadata": {},
   "outputs": [
    {
     "name": "stdout",
     "output_type": "stream",
     "text": [
      "                  Oro  Plata  Bronce\n",
      "País                                \n",
      "Japón            1032   1037     985\n",
      "Irán              179    181     197\n",
      "India             154    202     315\n",
      "Indonesia         112    131     240\n",
      "Corea del Norte    91    120     235\n"
     ]
    }
   ],
   "source": [
    "\"\"\"\n",
    "20- Usando el iloc extrae todas las columnas de los paises que estén en posición impar. La primera que nos tendría que salir es Japón y la última Corea del Norte.\n",
    "\n",
    "\"\"\"\n",
    "paises_impares = medallas.iloc[1::2]\n",
    "\n",
    "# Mostrar la información de los países en posiciones impares\n",
    "print(paises_impares)"
   ]
  },
  {
   "cell_type": "code",
   "execution_count": 56,
   "metadata": {},
   "outputs": [
    {
     "name": "stdout",
     "output_type": "stream",
     "text": [
      "                  Oro  Plata  Bronce\n",
      "País                                \n",
      "Japón            1032   1037     985\n",
      "Irán              179    181     197\n",
      "India             154    202     315\n",
      "Indonesia         112    131     240\n",
      "Corea del Norte    91    120     235\n"
     ]
    }
   ],
   "source": [
    "\"\"\"\n",
    "21- Utilizando el código del ejercicio anterior, selecciona unicamente las columnas \"Oro\", \"Plata\" y \"Bronce\".\n",
    "\"\"\"\n",
    "\n",
    "paises_impares_medallas = medallas.iloc[1::2, [0,1,2]]\n",
    "\n",
    "# Mostrar la información de las medallas de los países en posiciones impares\n",
    "print(paises_impares_medallas)"
   ]
  },
  {
   "cell_type": "code",
   "execution_count": null,
   "metadata": {},
   "outputs": [],
   "source": [
    "\"\"\"\n",
    "Contesta a las siguientes preguntas:\n",
    "\"\"\""
   ]
  },
  {
   "cell_type": "code",
   "execution_count": 63,
   "metadata": {},
   "outputs": [
    {
     "name": "stdout",
     "output_type": "stream",
     "text": [
      "El país que consiguió más de 200 medallas de oro es:                 Oro  Plata  Bronce\n",
      "País                              \n",
      "China          1473    994     720\n",
      "Japón          1032   1037     985\n",
      "Corea del Sur   745    663     827\n"
     ]
    }
   ],
   "source": [
    "# 22- ¿Qué país consiguió más de 200 medallas de oro?\n",
    "\n",
    "pais_mas_200_oro = medallas[medallas['Oro'] > 200]\n",
    "print(\"El país que consiguió más de 200 medallas de oro es:\", pais_mas_200_oro)\n"
   ]
  },
  {
   "cell_type": "code",
   "execution_count": 62,
   "metadata": {},
   "outputs": [
    {
     "name": "stdout",
     "output_type": "stream",
     "text": [
      "El país que consiguió más de 200 medallas de oro y más de 1000 de plata es: Japón\n"
     ]
    }
   ],
   "source": [
    "# 23- ¿Qué país consiguió más de 200 medallas de oro y más de 1000 de plata?\n",
    "\n",
    "pais_mas_200_oro_1000_plata = medallas[(medallas['Oro'] > 200) & (medallas['Plata'] > 1000)].index[0]\n",
    "print(\"El país que consiguió más de 200 medallas de oro y más de 1000 de plata es:\", pais_mas_200_oro_1000_plata)\n"
   ]
  },
  {
   "cell_type": "code",
   "execution_count": 60,
   "metadata": {},
   "outputs": [
    {
     "name": "stdout",
     "output_type": "stream",
     "text": [
      "El país que consiguió más de 200 medallas de oro o más de 700 de bronce es:                 Oro  Plata  Bronce\n",
      "País                              \n",
      "China          1473    994     720\n",
      "Japón          1032   1037     985\n",
      "Corea del Sur   745    663     827\n"
     ]
    }
   ],
   "source": [
    "# 24- ¿Qué país consiguió más de 200 medallas de oro o más de 700 de bronce?\n",
    "\n",
    "pais_mas_200_oro_o_700_bronce = medallas[(medallas['Oro'] > 200) | (medallas['Bronce'] > 700)]\n",
    "print(\"El país que consiguió más de 200 medallas de oro o más de 700 de bronce es:\", pais_mas_200_oro_o_700_bronce)\n"
   ]
  },
  {
   "cell_type": "code",
   "execution_count": 64,
   "metadata": {},
   "outputs": [
    {
     "data": {
      "text/html": [
       "<div>\n",
       "<style scoped>\n",
       "    .dataframe tbody tr th:only-of-type {\n",
       "        vertical-align: middle;\n",
       "    }\n",
       "\n",
       "    .dataframe tbody tr th {\n",
       "        vertical-align: top;\n",
       "    }\n",
       "\n",
       "    .dataframe thead th {\n",
       "        text-align: right;\n",
       "    }\n",
       "</style>\n",
       "<table border=\"1\" class=\"dataframe\">\n",
       "  <thead>\n",
       "    <tr style=\"text-align: right;\">\n",
       "      <th></th>\n",
       "      <th>Oro</th>\n",
       "      <th>Plata</th>\n",
       "      <th>Bronce</th>\n",
       "      <th>Total</th>\n",
       "    </tr>\n",
       "    <tr>\n",
       "      <th>País</th>\n",
       "      <th></th>\n",
       "      <th></th>\n",
       "      <th></th>\n",
       "      <th></th>\n",
       "    </tr>\n",
       "  </thead>\n",
       "  <tbody>\n",
       "    <tr>\n",
       "      <th>China</th>\n",
       "      <td>1473</td>\n",
       "      <td>994</td>\n",
       "      <td>720</td>\n",
       "      <td>3187</td>\n",
       "    </tr>\n",
       "    <tr>\n",
       "      <th>Japón</th>\n",
       "      <td>1032</td>\n",
       "      <td>1037</td>\n",
       "      <td>985</td>\n",
       "      <td>3054</td>\n",
       "    </tr>\n",
       "    <tr>\n",
       "      <th>Corea del Sur</th>\n",
       "      <td>745</td>\n",
       "      <td>663</td>\n",
       "      <td>827</td>\n",
       "      <td>2235</td>\n",
       "    </tr>\n",
       "    <tr>\n",
       "      <th>Irán</th>\n",
       "      <td>179</td>\n",
       "      <td>181</td>\n",
       "      <td>197</td>\n",
       "      <td>557</td>\n",
       "    </tr>\n",
       "    <tr>\n",
       "      <th>Kazajistán</th>\n",
       "      <td>155</td>\n",
       "      <td>158</td>\n",
       "      <td>224</td>\n",
       "      <td>537</td>\n",
       "    </tr>\n",
       "    <tr>\n",
       "      <th>India</th>\n",
       "      <td>154</td>\n",
       "      <td>202</td>\n",
       "      <td>315</td>\n",
       "      <td>671</td>\n",
       "    </tr>\n",
       "    <tr>\n",
       "      <th>Tailandia</th>\n",
       "      <td>132</td>\n",
       "      <td>175</td>\n",
       "      <td>278</td>\n",
       "      <td>585</td>\n",
       "    </tr>\n",
       "    <tr>\n",
       "      <th>Indonesia</th>\n",
       "      <td>112</td>\n",
       "      <td>131</td>\n",
       "      <td>240</td>\n",
       "      <td>483</td>\n",
       "    </tr>\n",
       "    <tr>\n",
       "      <th>China Taipéi</th>\n",
       "      <td>99</td>\n",
       "      <td>144</td>\n",
       "      <td>276</td>\n",
       "      <td>519</td>\n",
       "    </tr>\n",
       "    <tr>\n",
       "      <th>Corea del Norte</th>\n",
       "      <td>91</td>\n",
       "      <td>120</td>\n",
       "      <td>235</td>\n",
       "      <td>446</td>\n",
       "    </tr>\n",
       "  </tbody>\n",
       "</table>\n",
       "</div>"
      ],
      "text/plain": [
       "                  Oro  Plata  Bronce  Total\n",
       "País                                       \n",
       "China            1473    994     720   3187\n",
       "Japón            1032   1037     985   3054\n",
       "Corea del Sur     745    663     827   2235\n",
       "Irán              179    181     197    557\n",
       "Kazajistán        155    158     224    537\n",
       "India             154    202     315    671\n",
       "Tailandia         132    175     278    585\n",
       "Indonesia         112    131     240    483\n",
       "China Taipéi       99    144     276    519\n",
       "Corea del Norte    91    120     235    446"
      ]
     },
     "execution_count": 64,
     "metadata": {},
     "output_type": "execute_result"
    }
   ],
   "source": [
    "# 25- Crea una nueva columma que se llame \"total\" que sea el resultado de la suma de todas las medallas obtenidas por cada país.\n",
    "\n",
    "medallas['Total'] = medallas['Oro'] + medallas['Plata'] + medallas['Bronce']\n",
    "medallas\n"
   ]
  }
 ],
 "metadata": {
  "kernelspec": {
   "display_name": "base",
   "language": "python",
   "name": "python3"
  },
  "language_info": {
   "codemirror_mode": {
    "name": "ipython",
    "version": 3
   },
   "file_extension": ".py",
   "mimetype": "text/x-python",
   "name": "python",
   "nbconvert_exporter": "python",
   "pygments_lexer": "ipython3",
   "version": "3.9.7"
  }
 },
 "nbformat": 4,
 "nbformat_minor": 2
}
