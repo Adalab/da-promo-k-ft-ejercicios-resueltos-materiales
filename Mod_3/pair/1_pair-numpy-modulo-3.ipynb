{
 "cells": [
  {
   "cell_type": "markdown",
   "metadata": {},
   "source": [
    "## Pair Numpy\n",
    "\n",
    "### Creación y Indexación:\n",
    "\n",
    "1- Crea un array 1D con 50 valores aleatorio del 10 al 99. Accede a los elementos en las posiciones múltiplos de 5.\n",
    "\n",
    "2- Crea un array 1D con 30 valores del 1 al 20 (ambos incluidos). Utiliza indexación para obtener los elementos en las posiciones impares.\n",
    "\n",
    "3- Crea un array 2D de forma (4, 6) con números aleatorios decimales (no deben estar comprendidos solo entre 0 y 1). Accede a la última fila de la matriz. Los decimales deben estar redondeados a 2 decimales.\n",
    "\n",
    "4- **BONUS:** Crea un array 3D de forma (2, 3, 5) y 50 elementos con números enteros entre 0 y 100 (ambos incluidos). Reemplaza los elementos en posiciones múltiplos de 3 por 0.\n",
    "\n",
    "### Reshape y Transpose:\n",
    "\n",
    "*   Ejercicios con reshape:\n",
    "\n",
    "1-  Crea un array 3D de forma (2, 3, 4) con valores aleatorios entre 1 y 100 (ambos inclusive). Utiliza reshape para convertirlo en un array 2D. Deberás pensar en la forma que es correcta para hacer este cambio.\n",
    "\n",
    "2-  Crea un array 3D de forma (3, 4, 5) con valores enteros del 1 al 60 (sin incluir). Utiliza reshape para convertirlo en un array 2D.\n",
    "\n",
    "*   Ejercicios con transpose:\n",
    "\n",
    "3-  Utiliza el array 3D del ejercicio 2 de reshape. Utiliza transpose para permutar los ejes y obtener un nuevo array con forma (5, 4, 3).\n",
    "\n",
    "4-  Utiliza el array 3D del ejercicio 3 de reshape. Utiliza transpose para cambiar el orden de los ejes y obtener un nuevo array con forma (3, 5, 4).\n",
    "\n",
    "### Preguntas teóricas:\n",
    "\n",
    "*   ¿Qué diferencia existe entre el reshape y el transpose?\n",
    "\n",
    "*   ¿Y entre el transpose y el swapaxes?\n",
    "\n",
    "### Funciones Aritméticas y Estadísticas:\n",
    "\n",
    "1-  Crea un array de tres 3D con elementos entre el 0 y 1 de forma (2, 3, 5) cuyos valores solo tengan 1 decimal.\n",
    "\n",
    "2-  Crea un array vacío con la misma forma y dimensiones que el array creado anteriormente. Vamos a reemplazar los valores de la matriz vacía que nos acabamos de crear pero basándonos en los valores del primer array bajo las siguientes condiciones:\n",
    "\n",
    "*   Si el valor del array es igual que la media, se reemplaza por \"A\".\n",
    "\n",
    "*   Si el valor del array es mayor que la media, se reemplaza por \"B\".\n",
    "\n",
    "*   Si el valor del array es menor que la media, se reemplaza por \"C\".\n",
    "\n",
    "*   Si el valor es igual que el máximo, se reemplaza por \"D\".\n",
    "\n",
    "*   Si el valor es igual que el mínimo, se reemplaza por \"E\"."
   ]
  },
  {
   "cell_type": "code",
   "execution_count": 12,
   "metadata": {},
   "outputs": [],
   "source": [
    "# primero importamos las librerias\n",
    "import numpy as np"
   ]
  },
  {
   "cell_type": "code",
   "execution_count": 13,
   "metadata": {},
   "outputs": [
    {
     "name": "stdout",
     "output_type": "stream",
     "text": [
      "Array original:\n",
      "[76 36 56 75 44 11 14 53 14 18 20 73 90 52 98 97 69 97 34 87 75 61 59 33\n",
      " 28 77 68 98 66 15 16 20 83 99 58 45 37 16 35 60 41 57 73 85 77 76 44 83\n",
      " 65 26]\n",
      "\n",
      "Elementos en posiciones múltiplos de 5:\n",
      "[76 11 20 97 75 77 16 45 41 76]\n"
     ]
    }
   ],
   "source": [
    "# 1- Crea un array 1D con 50 valores aleatorio del 10 al 99. Accede a los elementos en las posiciones múltiplos de 5.\n",
    "\n",
    "# Crear un array 1D con 50 valores aleatorios del 10 al 99\n",
    "array1 = np.random.randint(10, 100, 50)\n",
    "print(\"Array original:\")\n",
    "print(array1)\n",
    "\n",
    "# Acceder a los elementos en las posiciones múltiplos de 5\n",
    "result1 = array1[::5]\n",
    "print(\"\\nElementos en posiciones múltiplos de 5:\")\n",
    "print(result1)"
   ]
  },
  {
   "cell_type": "code",
   "execution_count": 14,
   "metadata": {},
   "outputs": [
    {
     "name": "stdout",
     "output_type": "stream",
     "text": [
      "Array original:\n",
      "[ 8  5  2 11  5  8 10  1 20 17  9 15 16 14 15  9  2 10 14  5 20 19  7 13\n",
      "  6  1  2 14  7  4]\n",
      "\n",
      "Elementos en posiciones impares:\n",
      "[ 5 11  8  1 17 15 14  9 10  5 19 13  1 14  4]\n"
     ]
    }
   ],
   "source": [
    "# 2- Crea un array 1D con 30 valores del 1 al 20 (ambos incluidos). Utiliza indexación para obtener los elementos en las posiciones impares.\n",
    "\n",
    "# Crear un array 1D con 30 valores del 1 al 20 (ambos incluidos)\n",
    "array2 = np.random.randint(1, 21, 30)\n",
    "print(\"Array original:\")\n",
    "print(array2)\n",
    "\n",
    "# Obtener los elementos en las posiciones impares\n",
    "result2 = array2[1::2]\n",
    "print(\"\\nElementos en posiciones impares:\")\n",
    "print(result2)"
   ]
  },
  {
   "cell_type": "code",
   "execution_count": 15,
   "metadata": {},
   "outputs": [
    {
     "name": "stdout",
     "output_type": "stream",
     "text": [
      "Array 2D original:\n",
      "[[41.13 28.63 21.94 79.59 12.6  75.47]\n",
      " [83.63 56.19 56.   30.9  34.51 38.06]\n",
      " [87.3  98.08 43.65 69.51 80.51 28.78]\n",
      " [75.42 54.12 99.12 87.42 51.84 94.13]]\n",
      "\n",
      "Última fila de la matriz:\n",
      "[75.42 54.12 99.12 87.42 51.84 94.13]\n"
     ]
    }
   ],
   "source": [
    "#3- Crea un array 2D de forma (4, 6) con números aleatorios decimales (no deben estar comprendidos solo entre 0 y 1).\n",
    "# Accede a la última fila de la matriz. Los decimales deben estar redondeados a 2 decimales.\n",
    "\n",
    "# Crear un array 2D de forma (4, 6) con números aleatorios decimales en un rango específico\n",
    "array3 = (np.random.random((4, 6)) * 90) + 10  # Escalar y desplazar para obtener el rango entre 10 y 100\n",
    "array3 = np.round(array3, 2)  # Redondear los decimales a 2 decimales\n",
    "print(\"Array 2D original:\")\n",
    "print(array3)\n",
    "\n",
    "# Acceder a la última fila de la matriz\n",
    "last_row = array3[-1, :]\n",
    "print(\"\\nÚltima fila de la matriz:\")\n",
    "print(last_row)"
   ]
  },
  {
   "cell_type": "code",
   "execution_count": 16,
   "metadata": {},
   "outputs": [
    {
     "name": "stdout",
     "output_type": "stream",
     "text": [
      "Array 3D original:\n",
      "[[[87 10 35 10 40]\n",
      "  [ 5  1  4 65 15]\n",
      "  [14 86 49 55  2]]\n",
      "\n",
      " [[93 46 29 70 32]\n",
      "  [43 19 71  7 31]\n",
      "  [46 98 15 74 13]]]\n",
      "\n",
      "Array 3D con elementos en posiciones múltiplos de 3 reemplazados por 0:\n",
      "[[[ 0 10 35  0 40]\n",
      "  [ 5  0  4 65  0]\n",
      "  [14 86  0 55  2]]\n",
      "\n",
      " [[ 0 46 29  0 32]\n",
      "  [43  0 71  7  0]\n",
      "  [46 98  0 74 13]]]\n"
     ]
    }
   ],
   "source": [
    "#4- **BONUS:** Crea un array 3D de forma (2, 3, 5) y 50 elementos con números enteros entre 0 y 100 (ambos incluidos). Reemplaza los elementos en posiciones múltiplos de 3 por 0.\n",
    "\n",
    "# Crear un array 3D de forma (2, 3, 5) con números enteros entre 0 y 100 (ambos incluidos)\n",
    "array4 = np.random.randint(0, 101, (2, 3, 5))\n",
    "print(\"Array 3D original:\")\n",
    "print(array4)\n",
    "\n",
    "# Reemplazar los elementos en posiciones múltiplos de 3 por 0\n",
    "array4_flat = array4.flatten()  # Convertir el array a 1D para facilitar el acceso\n",
    "array4_flat[::3] = 0\n",
    "array4 = array4_flat.reshape((2, 3, 5))  # Reconstruir el array 3D\n",
    "print(\"\\nArray 3D con elementos en posiciones múltiplos de 3 reemplazados por 0:\")\n",
    "print(array4)"
   ]
  },
  {
   "cell_type": "code",
   "execution_count": 17,
   "metadata": {},
   "outputs": [
    {
     "name": "stdout",
     "output_type": "stream",
     "text": [
      "Array 3D original:\n",
      "[[[69 72 28 91]\n",
      "  [69 12 38 26]\n",
      "  [97 30 55 11]]\n",
      "\n",
      " [[15 60 27 94]\n",
      "  [54 46 50 26]\n",
      "  [99 27 53 35]]]\n",
      "\n",
      "Array 2D resultante:\n",
      "[[69 72 28 91]\n",
      " [69 12 38 26]\n",
      " [97 30 55 11]\n",
      " [15 60 27 94]\n",
      " [54 46 50 26]\n",
      " [99 27 53 35]]\n"
     ]
    }
   ],
   "source": [
    "# 1-  Crea un array 3D de forma (2, 3, 4) con valores aleatorios entre 1 y 100 (ambos inclusive). \n",
    "# Utiliza reshape para convertirlo en un array 2D. Deberás pensar en la forma que es correcta para hacer este cambio.\n",
    "\n",
    "# Crear un array 3D de forma (2, 3, 4) con valores aleatorios entre 1 y 100\n",
    "array_3d = np.random.randint(1, 101, (2, 3, 4))\n",
    "print(\"Array 3D original:\")\n",
    "print(array_3d)\n",
    "\n",
    "# Convertir el array 3D en un array 2D utilizando reshape\n",
    "array_2d = array_3d.reshape(6, 4)  # 6 filas y 4 columnas para mantener los 24 elementos\n",
    "print(\"\\nArray 2D resultante:\")\n",
    "print(array_2d)"
   ]
  },
  {
   "cell_type": "code",
   "execution_count": 18,
   "metadata": {},
   "outputs": [
    {
     "name": "stdout",
     "output_type": "stream",
     "text": [
      "Array 3D original:\n",
      "[[[ 1  2  3  4  5]\n",
      "  [ 6  7  8  9 10]\n",
      "  [11 12 13 14 15]\n",
      "  [16 17 18 19 20]]\n",
      "\n",
      " [[21 22 23 24 25]\n",
      "  [26 27 28 29 30]\n",
      "  [31 32 33 34 35]\n",
      "  [36 37 38 39 40]]\n",
      "\n",
      " [[41 42 43 44 45]\n",
      "  [46 47 48 49 50]\n",
      "  [51 52 53 54 55]\n",
      "  [56 57 58 59 60]]]\n",
      "\n",
      "Array 2D resultante:\n",
      "[[ 1  2  3  4  5]\n",
      " [ 6  7  8  9 10]\n",
      " [11 12 13 14 15]\n",
      " [16 17 18 19 20]\n",
      " [21 22 23 24 25]\n",
      " [26 27 28 29 30]\n",
      " [31 32 33 34 35]\n",
      " [36 37 38 39 40]\n",
      " [41 42 43 44 45]\n",
      " [46 47 48 49 50]\n",
      " [51 52 53 54 55]\n",
      " [56 57 58 59 60]]\n"
     ]
    }
   ],
   "source": [
    "# 2-  Crea un array 3D de forma (3, 4, 5) con valores enteros del 1 al 61 (sin incluir). Utiliza reshape para convertirlo en un array 2D.\n",
    "\n",
    "# Crear un array 3D de forma (3, 4, 5) con valores enteros del 1 al 61\n",
    "array_3d = np.arange(1, 61).reshape(3, 4, 5)\n",
    "print(\"Array 3D original:\")\n",
    "print(array_3d)\n",
    "\n",
    "# Convertir el array 3D en un array 2D utilizando reshape\n",
    "array_2d = array_3d.reshape(12, 5)  # 12 filas y 5 columnas para mantener los 60 elementos\n",
    "print(\"\\nArray 2D resultante:\")\n",
    "print(array_2d)"
   ]
  },
  {
   "cell_type": "code",
   "execution_count": 21,
   "metadata": {},
   "outputs": [
    {
     "name": "stdout",
     "output_type": "stream",
     "text": [
      "\n",
      "Array transpuesto con forma (2, 1, 0):\n",
      "[[[ 1 21 41]\n",
      "  [ 6 26 46]\n",
      "  [11 31 51]\n",
      "  [16 36 56]]\n",
      "\n",
      " [[ 2 22 42]\n",
      "  [ 7 27 47]\n",
      "  [12 32 52]\n",
      "  [17 37 57]]\n",
      "\n",
      " [[ 3 23 43]\n",
      "  [ 8 28 48]\n",
      "  [13 33 53]\n",
      "  [18 38 58]]\n",
      "\n",
      " [[ 4 24 44]\n",
      "  [ 9 29 49]\n",
      "  [14 34 54]\n",
      "  [19 39 59]]\n",
      "\n",
      " [[ 5 25 45]\n",
      "  [10 30 50]\n",
      "  [15 35 55]\n",
      "  [20 40 60]]]\n"
     ]
    }
   ],
   "source": [
    "# 3-  Utiliza el array 3D del ejercicio 2 de reshape. Utiliza transpose para permutar los ejes y obtener un nuevo array con forma (5, 4, 3).\n",
    "\n",
    "\n",
    "# Utilizar transpose para permutar los ejes y obtener un nuevo array con forma (5, 4, 3)\n",
    "array_transposed = array_3d.transpose(2, 1, 0)  # Cambiar los ejes de (3, 4, 5) a (5, 4, 3)\n",
    "print(\"\\nArray transpuesto con forma (5, 4, 3):\")\n",
    "print(array_transposed)"
   ]
  },
  {
   "cell_type": "code",
   "execution_count": 26,
   "metadata": {},
   "outputs": [
    {
     "name": "stdout",
     "output_type": "stream",
     "text": [
      "Array 3D original:\n",
      "[[[ 1  2  3  4  5]\n",
      "  [ 6  7  8  9 10]\n",
      "  [11 12 13 14 15]\n",
      "  [16 17 18 19 20]]\n",
      "\n",
      " [[21 22 23 24 25]\n",
      "  [26 27 28 29 30]\n",
      "  [31 32 33 34 35]\n",
      "  [36 37 38 39 40]]\n",
      "\n",
      " [[41 42 43 44 45]\n",
      "  [46 47 48 49 50]\n",
      "  [51 52 53 54 55]\n",
      "  [56 57 58 59 60]]]\n",
      "-*-*-*-*-*-*-*-*-*-\n",
      "Nuevo Array 3D:\n",
      "[[[ 1  6 11 16]\n",
      "  [ 2  7 12 17]\n",
      "  [ 3  8 13 18]\n",
      "  [ 4  9 14 19]\n",
      "  [ 5 10 15 20]]\n",
      "\n",
      " [[21 26 31 36]\n",
      "  [22 27 32 37]\n",
      "  [23 28 33 38]\n",
      "  [24 29 34 39]\n",
      "  [25 30 35 40]]\n",
      "\n",
      " [[41 46 51 56]\n",
      "  [42 47 52 57]\n",
      "  [43 48 53 58]\n",
      "  [44 49 54 59]\n",
      "  [45 50 55 60]]]\n",
      "Nueva forma: (3, 5, 4)\n"
     ]
    }
   ],
   "source": [
    "# 4-  Utiliza el array 3D del ejercicio 3 de reshape. Utiliza transpose para cambiar el orden de los ejes y obtener un nuevo array con forma (3, 2, 4).\n",
    "\n",
    "# Crear un array 3D de forma (3, 4, 5) con valores enteros del 1 al 60 (sin incluir)\n",
    "array_3d = np.arange(1, 61).reshape(3, 4, 5)\n",
    "print(\"Array 3D original:\")\n",
    "print(array_3d)\n",
    "\n",
    "print(\"-*-*-*-*-*-*-*-*-*-\")\n",
    "\n",
    "# Utilizar transpose para cambiar el orden de los ejes y obtener un nuevo array con forma (3, 5, 4)\n",
    "array_transposed = array_3d.transpose(0, 2, 1)  # Cambiar los ejes de (3, 4, 5) a (3, 5, 4)\n",
    "print(\"Nuevo Array 3D:\")\n",
    "print(array_transposed)\n",
    "print(\"Nueva forma:\", array_transposed.shape)"
   ]
  },
  {
   "cell_type": "markdown",
   "metadata": {},
   "source": [
    "### Preguntas teóricas:\n",
    "\n",
    "*   ¿Qué diferencia existe entre el reshape y el transpose?\n",
    "\n",
    "reshape:\n",
    "\n",
    "Propósito: Cambia la forma del array sin alterar los datos subyacentes.\n",
    "Uso: Especificas la nueva forma que quieres para el array, siempre que el número total de elementos se mantenga constante.\n",
    "Ejemplo simple: Cambiar un array de 12 elementos de 1D (una dimensión) a 2D (dos dimensiones) con 3 filas y 4 columnas.\n",
    "\n",
    "transpose:\n",
    "\n",
    "Propósito: Permuta los ejes del array.\n",
    "Uso: Cambia el orden de las dimensiones del array, reorganizando cómo se disponen los elementos.\n",
    "Ejemplo simple: Convertir un array 2D de 3x4 (3 filas y 4 columnas) a 4x3 (4 filas y 3 columnas) intercambiando filas por columnas.\n",
    "\n",
    "*   ¿Y entre el transpose y el swapaxes?\n",
    "\n",
    "transpose:\n",
    "\n",
    "Propósito: Permuta todos los ejes del array según el orden que especifiques.\n",
    "Uso: Se utiliza para reordenar completamente las dimensiones del array.\n",
    "Ejemplo simple: Cambiar un array 3D de forma (2, 3, 4) a (4, 3, 2) especificando el nuevo orden de los ejes.\n",
    "\n",
    "swapaxes:\n",
    "\n",
    "Propósito: Intercambia solo dos ejes específicos del array.\n",
    "Uso: Especificas dos ejes para intercambiar su posición.\n",
    "Ejemplo simple: Cambiar un array 3D de forma (2, 3, 4) a (4, 3, 2) intercambiando solo el primer y el tercer eje.\n"
   ]
  },
  {
   "cell_type": "code",
   "execution_count": 27,
   "metadata": {},
   "outputs": [
    {
     "name": "stdout",
     "output_type": "stream",
     "text": [
      "Array 3D original:\n",
      "[[[0.6 0.8 0.5 0.  0.2]\n",
      "  [0.3 0.6 0.7 0.2 0.4]\n",
      "  [0.7 0.1 0.6 1.  0.5]]\n",
      "\n",
      " [[0.3 0.9 0.7 0.4 0.8]\n",
      "  [0.5 0.1 0.6 0.3 0.6]\n",
      "  [0.6 0.5 1.  0.3 0.9]]]\n"
     ]
    }
   ],
   "source": [
    "\"\"\" Funciones Aritméticas y Estadísticas:\n",
    "\n",
    "1-  Crea un array de tres 3D con elementos entre el 0 y 1 de forma (2, 3, 5) cuyos valores solo tengan 1 decimal.\n",
    "\"\"\"\n",
    "# Crear el array 3D con valores entre 0 y 1, y redondearlos a 1 decimal\n",
    "array_3d = np.round(np.random.random((2, 3, 5)), 1)\n",
    "print(\"Array 3D original:\")\n",
    "print(array_3d)"
   ]
  },
  {
   "cell_type": "code",
   "execution_count": 32,
   "metadata": {},
   "outputs": [
    {
     "name": "stdout",
     "output_type": "stream",
     "text": [
      "la media es: 0.5233333333333333\n",
      "el maximo es: 1.0\n",
      "el minimo es: 0.0\n",
      "*-*-*-*-*-*-*-*-*-*-*-*\n",
      "el nuevo array es: [[['B' 'B' 'C' 'E' 'C']\n",
      "  ['C' 'B' 'B' 'C' 'C']\n",
      "  ['B' 'C' 'B' 'D' 'C']]\n",
      "\n",
      " [['C' 'B' 'B' 'C' 'B']\n",
      "  ['C' 'C' 'B' 'C' 'B']\n",
      "  ['B' 'C' 'D' 'C' 'B']]]\n"
     ]
    }
   ],
   "source": [
    "\"\"\"\n",
    "2-  Crea un array vacío con la misma forma y dimensiones que el array creado anteriormente. Vamos a reemplazar los valores de la matriz vacía que nos acabamos de \n",
    "crear pero basándonos en los valores del primer array bajo las siguientes condiciones:\n",
    "\n",
    "*   Si el valor del array es igual que la media, se reemplaza por \"A\".\n",
    "\n",
    "*   Si el valor del array es mayor que la media, se reemplaza por \"B\".\n",
    "\n",
    "*   Si el valor del array es menor que la media, se reemplaza por \"C\".\n",
    "\n",
    "*   Si el valor es igual que el máximo, se reemplaza por \"D\".\n",
    "\n",
    "*   Si el valor es igual que el mínimo, se reemplaza por \"E\".\n",
    "\"\"\"\n",
    "\n",
    "# Crear un array vacío con la misma forma que array_3d\n",
    "array_replacement = np.empty(array_3d.shape, dtype=str)\n",
    "\n",
    "\n",
    "# Calcular la media, el máximo y el mínimo del array original\n",
    "media = np.mean(array_3d)\n",
    "maximo = np.max(array_3d)\n",
    "minimo = np.min(array_3d)\n",
    "\n",
    "print(\"la media es:\",media) \n",
    "print(\"el maximo es:\",maximo)\n",
    "print(\"el minimo es:\",minimo)\n",
    "\n",
    "\n",
    "# Usar np.where para reemplazar valores según las condiciones\n",
    "array_replacement = np.where(array_3d == maximo, 'D',\n",
    "                    np.where(array_3d == minimo, 'E',\n",
    "                    np.where(array_3d == media, 'A',\n",
    "                    np.where(array_3d > media, 'B',\n",
    "                    np.where(array_3d < media, 'C', '')))))\n",
    "\n",
    "\n",
    "\n",
    "print(\"*-*-*-*-*-*-*-*-*-*-*-*\")\n",
    "print(\"el nuevo array es:\",array_replacement)"
   ]
  }
 ],
 "metadata": {
  "kernelspec": {
   "display_name": "base",
   "language": "python",
   "name": "python3"
  },
  "language_info": {
   "codemirror_mode": {
    "name": "ipython",
    "version": 3
   },
   "file_extension": ".py",
   "mimetype": "text/x-python",
   "name": "python",
   "nbconvert_exporter": "python",
   "pygments_lexer": "ipython3",
   "version": "3.9.7"
  }
 },
 "nbformat": 4,
 "nbformat_minor": 2
}
