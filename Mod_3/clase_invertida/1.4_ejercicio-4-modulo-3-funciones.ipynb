{
 "cells": [
  {
   "cell_type": "markdown",
   "metadata": {},
   "source": [
    "1.4 EJERCICIO MODULO 3 FUNCIONES"
   ]
  },
  {
   "cell_type": "markdown",
   "metadata": {},
   "source": [
    "# Ejercicios\n",
    "\n",
    "\n",
    "1. En este ejercicio vamos a tratar de usar algunos de los métodos aprendidos. \n",
    "\n",
    "    - Crea un *array*, puede ser bidimensional! Eso si, los valores tienen que estar entre 0-100\n",
    "\n",
    "    - Calcula: \n",
    "\n",
    "        - La media de los elementos\n",
    "        - La media de las columnas y redondéalo a dos decimales\n",
    "        - El valor máximo de cada fila\n",
    "        - El valor mínimo de cada fila\n",
    "        - Hay algun valor que sea mayor que 90 en tu *array* \n",
    "        - Donde los podemos encontrar, cuáles son sus índices\n",
    "        - Ordena el *array* de mayor a menor\n",
    "\n",
    "    📝 **NOTA** En este ejercicio os hemos pedido algunos de los métodos, pero sentiros libres de practicar otros para ir asentando los conocimientos. "
   ]
  },
  {
   "cell_type": "code",
   "execution_count": 3,
   "metadata": {},
   "outputs": [],
   "source": [
    "#IMPORTANDO LIBRERIAS NECESARIAS\n",
    "import numpy as np"
   ]
  },
  {
   "cell_type": "code",
   "execution_count": 6,
   "metadata": {},
   "outputs": [
    {
     "name": "stdout",
     "output_type": "stream",
     "text": [
      "Array original:\n",
      "[[ 14  37 100  35  28]\n",
      " [  8  83  80  18  11]\n",
      " [ 65  94  59  73  49]\n",
      " [ 75  15   1  11  84]\n",
      " [ 83  52  11   9  18]]\n",
      "\n",
      "-----------------------------------------------\n",
      "Media de todos los elementos: 44.52\n",
      "-----------------------------------------------\n",
      "Media de cada columna:\n",
      "[49.  56.2 50.2 29.2 38. ]\n",
      "-----------------------------------------------\n",
      "Valor máximo de cada fila:\n",
      "[100  83  94  84  83]\n",
      "-----------------------------------------------\n",
      "Valor mínimo de cada fila:\n",
      "[14  8 49  1  9]\n",
      "-----------------------------------------------\n",
      "¿Hay algún valor mayor que 90 en el array? True\n",
      "Índices de los valores mayores que 90:\n",
      "(array([0, 2], dtype=int64), array([2, 1], dtype=int64))\n",
      "-----------------------------------------------\n",
      "Array ordenado de mayor a menor:\n",
      "[100  94  84  83  83  80  75  73  65  59  52  49  37  35  28  18  18  15\n",
      "  14  11  11  11   9   8   1]\n",
      "-----------------------------------------------\n"
     ]
    }
   ],
   "source": [
    "\"\"\"\n",
    "    1. En este ejercicio vamos a tratar de usar algunos de los métodos aprendidos. \n",
    "\n",
    "    - Crea un *array*, puede ser bidimensional! Eso si, los valores tienen que estar entre 0-100\n",
    "\n",
    "    - Calcula: \n",
    "\n",
    "        - La media de los elementos\n",
    "        - La media de las columnas y redondéalo a dos decimales\n",
    "        - El valor máximo de cada fila\n",
    "        - El valor mínimo de cada fila\n",
    "        - Hay algun valor que sea mayor que 90 en tu *array* \n",
    "        - Donde los podemos encontrar, cuáles son sus índices\n",
    "        - Ordena el *array* de mayor a menor\n",
    "\"\"\"\n",
    "\n",
    "# Crear un array bidimensional de 5x5 con valores aleatorios entre 0 y 100\n",
    "array = np.random.randint(0, 101, size=(5, 5))\n",
    "\n",
    "print(\"Array original:\")\n",
    "print(array)\n",
    "print()\n",
    "print(\"-----------------------------------------------\")\n",
    "# Calcular la media de todos los elementos del array\n",
    "media_total = np.mean(array)\n",
    "print(\"Media de todos los elementos:\", media_total)\n",
    "\n",
    "print(\"-----------------------------------------------\")\n",
    "# Calcular la media de cada columna y redondear a dos decimales\n",
    "media_columnas = np.round(np.mean(array, axis=0), 2)\n",
    "print(\"Media de cada columna:\")\n",
    "print(media_columnas)\n",
    "\n",
    "print(\"-----------------------------------------------\")\n",
    "# Calcular el valor máximo de cada fila\n",
    "maximos_filas = np.max(array, axis=1)\n",
    "print(\"Valor máximo de cada fila:\")\n",
    "print(maximos_filas)\n",
    "\n",
    "print(\"-----------------------------------------------\")\n",
    "# Calcular el valor mínimo de cada fila\n",
    "minimos_filas = np.min(array, axis=1)\n",
    "print(\"Valor mínimo de cada fila:\")\n",
    "print(minimos_filas)\n",
    "\n",
    "print(\"-----------------------------------------------\")\n",
    "# Verificar si hay algún valor mayor que 90 en el array\n",
    "hay_mayor_90 = np.any(array > 90)\n",
    "print(\"¿Hay algún valor mayor que 90 en el array?\", hay_mayor_90)\n",
    "\n",
    "# Encontrar los índices de los valores mayores que 90\n",
    "if hay_mayor_90:\n",
    "    indices_mayor_90 = np.where(array > 90)\n",
    "    print(\"Índices de los valores mayores que 90:\")\n",
    "    print(indices_mayor_90)\n",
    "\n",
    "print(\"-----------------------------------------------\")\n",
    "# Ordenar el array de mayor a menor\n",
    "array_ordenado = np.sort(array.flatten())[::-1]\n",
    "print(\"Array ordenado de mayor a menor:\")\n",
    "print(array_ordenado)\n",
    "\n",
    "print(\"-----------------------------------------------\")\n"
   ]
  }
 ],
 "metadata": {
  "kernelspec": {
   "display_name": "base",
   "language": "python",
   "name": "python3"
  },
  "language_info": {
   "codemirror_mode": {
    "name": "ipython",
    "version": 3
   },
   "file_extension": ".py",
   "mimetype": "text/x-python",
   "name": "python",
   "nbconvert_exporter": "python",
   "pygments_lexer": "ipython3",
   "version": "3.9.7"
  }
 },
 "nbformat": 4,
 "nbformat_minor": 2
}
