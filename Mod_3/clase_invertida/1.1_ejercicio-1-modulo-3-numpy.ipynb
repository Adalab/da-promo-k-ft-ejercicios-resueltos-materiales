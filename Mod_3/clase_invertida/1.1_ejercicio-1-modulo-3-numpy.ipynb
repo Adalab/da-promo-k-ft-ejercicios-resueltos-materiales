{
 "cells": [
  {
   "cell_type": "markdown",
   "metadata": {},
   "source": [
    "1.1 EJERCICIO MODULO 3 NUMPY"
   ]
  },
  {
   "cell_type": "markdown",
   "metadata": {},
   "source": [
    "# Ejercicios\n",
    "\n",
    "1.  Genera un *array* bidimensional de 4 x 3 con valores aleatorios enteros entre el 34 y el 98. Una vez creado cada array comprueba las dimensiones y los tipos de datos que tenemos en el array. \n",
    "\n",
    "2. Crea dos *arrays* (unidimensional, bidimensional) usando el método `np.array()`. \n",
    "\n",
    "    Las listas para crear los *arrays* son las siguientes\n",
    "\n",
    "    ```python\n",
    "    lista1 = [34,56,71,98, 10]\n",
    "    lista2 = [[23,45,89, 56], [12,43,82,44]]\n",
    "    ```\n",
    "\n",
    "    **Bonus** Haz una pequeña descripción de cada *array* usando los métodos de exploración de *arrays* que hemos aprendido.\n"
   ]
  },
  {
   "cell_type": "code",
   "execution_count": 5,
   "metadata": {},
   "outputs": [],
   "source": [
    "# importando librerias\n",
    "import numpy as np"
   ]
  },
  {
   "cell_type": "code",
   "execution_count": 6,
   "metadata": {},
   "outputs": [
    {
     "name": "stdout",
     "output_type": "stream",
     "text": [
      "Array generado:\n",
      "[[94 83 39]\n",
      " [77 80 49]\n",
      " [96 92 50]\n",
      " [66 58 93]]\n",
      "Dimensiones del array: (4, 3)\n",
      "Tipo de dato del array: int32\n"
     ]
    }
   ],
   "source": [
    "\"\"\" 1.  Genera un array bidimensional de 4 x 3 con valores aleatorios enteros entre el 34 y el 98. Una vez creado cada array comprueba\n",
    "las dimensiones y los tipos de datos que tenemos en el array.\"\"\"\n",
    "\n",
    "# Generar un array bidimensional de 4x3 con valores aleatorios entre 34 y 98\n",
    "array_aleatorio = np.random.randint(34, 99, size=(4, 3))\n",
    "\n",
    "# Comprobar las dimensiones del array\n",
    "dimensiones = array_aleatorio.shape\n",
    "\n",
    "# Comprobar el tipo de dato del array\n",
    "tipo_dato = array_aleatorio.dtype\n",
    "\n",
    "# Imprimir el array generado, dimensiones y tipo de dato\n",
    "print(\"Array generado:\")\n",
    "print(array_aleatorio)\n",
    "print(\"Dimensiones del array:\", dimensiones)\n",
    "print(\"Tipo de dato del array:\", tipo_dato)"
   ]
  },
  {
   "cell_type": "code",
   "execution_count": 10,
   "metadata": {},
   "outputs": [
    {
     "name": "stdout",
     "output_type": "stream",
     "text": [
      "descripcion del array unidimensional\n",
      "-----------------------------------------\n",
      "El array unidimensional es: \n",
      "  [34 56 71 98 10]\n",
      "La forma del array unidimensional es: (5,)\n",
      "El número de dimensiones del array unidimensional es: 1\n",
      "El número de elementos del array unidimensional es: 5\n",
      "El tipo de dato que tenemos en el array unidimensional es: int32\n",
      "\n",
      "\n",
      "-*-*-*-*-*-*-*-*-*-*-*-*-*-*-*-*-*-*-*-\n",
      "\n",
      "descripcion del array bidimensional\n",
      "-----------------------------------------\n",
      "El array bidimensional es: \n",
      "  [[23 45 89 56]\n",
      " [12 43 82 44]]\n",
      "La forma del array bidimensional es: (2, 4)\n",
      "El número de dimensiones del array bidimensional es: 2\n",
      "El número de elementos del array bidimensional es: 8\n",
      "El tipo de dato que tenemos en el array bidimensional es: int32\n",
      "\n"
     ]
    }
   ],
   "source": [
    "\"\"\"\n",
    "2.Crea dos arrays (unidimensional, bidimensional) usando el método `np.array()`. \n",
    "\n",
    "    Las listas para crear los *arrays* son las siguientes\n",
    "\n",
    "    ```python\n",
    "    lista1 = [34,56,71,98, 10]\n",
    "    lista2 = [[23,45,89, 56], [12,43,82,44]]\n",
    "    ```\n",
    "\n",
    "    **Bonus** Haz una pequeña descripción de cada array usando los métodos de exploración de arrays que hemos aprendido.\n",
    "\n",
    "\"\"\"\n",
    "\n",
    "# Listas para crear los arrays\n",
    "lista1 = [34, 56, 71, 98, 10]\n",
    "lista2 = [[23, 45, 89, 56], [12, 43, 82, 44]]\n",
    "\n",
    "# Crear el array unidimensional\n",
    "array_unidimensional = np.array(lista1)\n",
    "\n",
    "# Crear el array bidimensional\n",
    "array_bidimensional = np.array(lista2)\n",
    "\n",
    "print(\"descripcion del array unidimensional\")\n",
    "print(\"-----------------------------------------\")\n",
    "print(f\"El array unidimensional es: \\n  {array_unidimensional}\")\n",
    "print(f\"La forma del array unidimensional es: {array_unidimensional.shape}\")\n",
    "print(f\"El número de dimensiones del array unidimensional es: {array_unidimensional.ndim}\")\n",
    "print(f\"El número de elementos del array unidimensional es: {array_unidimensional.size}\")\n",
    "print(f\"El tipo de dato que tenemos en el array unidimensional es: {array_unidimensional.dtype}\\n\")\n",
    "print()\n",
    "print(\"-*-*-*-*-*-*-*-*-*-*-*-*-*-*-*-*-*-*-*-\")\n",
    "print()\n",
    "print(\"descripcion del array bidimensional\")\n",
    "print(\"-----------------------------------------\")\n",
    "print(f\"El array bidimensional es: \\n  {array_bidimensional}\")\n",
    "print(f\"La forma del array bidimensional es: {array_bidimensional.shape}\")\n",
    "print(f\"El número de dimensiones del array bidimensional es: {array_bidimensional.ndim}\")\n",
    "print(f\"El número de elementos del array bidimensional es: {array_bidimensional.size}\")\n",
    "print(f\"El tipo de dato que tenemos en el array bidimensional es: {array_bidimensional.dtype}\\n\")"
   ]
  }
 ],
 "metadata": {
  "kernelspec": {
   "display_name": "base",
   "language": "python",
   "name": "python3"
  },
  "language_info": {
   "codemirror_mode": {
    "name": "ipython",
    "version": 3
   },
   "file_extension": ".py",
   "mimetype": "text/x-python",
   "name": "python",
   "nbconvert_exporter": "python",
   "pygments_lexer": "ipython3",
   "version": "3.9.7"
  }
 },
 "nbformat": 4,
 "nbformat_minor": 2
}
