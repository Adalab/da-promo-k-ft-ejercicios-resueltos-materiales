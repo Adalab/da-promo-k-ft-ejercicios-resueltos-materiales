{
 "cells": [
  {
   "cell_type": "markdown",
   "metadata": {},
   "source": [
    "1.2 EJERCICIO MODULO 3 INDEXACION"
   ]
  },
  {
   "cell_type": "markdown",
   "metadata": {},
   "source": [
    "# Ejercicios\n",
    "\n",
    "\n",
    "1. Crea un *array* unidimensional con 50 elementos con el método que prefieras y extrae: \n",
    "\n",
    "    - El primer elemento.\n",
    "\n",
    "\n",
    "    - Lo elementos que están en posición impar.\n",
    "\n",
    "\n",
    "    - Los cuatro primeros elementos.\n",
    "\n",
    "\n",
    "    - Los últimos tres elementos.\n",
    "\n",
    "\n",
    "    - Los elementos entre el 4 y el 8 (incluido). \n",
    "\n",
    "2. Crea un *array* de dos dimensiones de 4 x 5 con el método que prefieras y extrae:\n",
    "\n",
    "    - La primera fila y todas las columnas.\n",
    "\n",
    "\n",
    "    - Todas las filas pares.\n",
    "\n",
    "\n",
    "    - La primera columna y todas las filas.\n"
   ]
  },
  {
   "cell_type": "code",
   "execution_count": 1,
   "metadata": {},
   "outputs": [],
   "source": [
    "# IMPORTANDO LIBRERIAS\n",
    "import numpy as np"
   ]
  },
  {
   "cell_type": "code",
   "execution_count": 2,
   "metadata": {},
   "outputs": [
    {
     "name": "stdout",
     "output_type": "stream",
     "text": [
      "Primer elemento: 1\n",
      "Elementos en posiciones impares: [ 2  4  6  8 10 12 14 16 18 20 22 24 26 28 30 32 34 36 38 40 42 44 46 48\n",
      " 50]\n",
      "Cuatro primeros elementos: [1 2 3 4]\n",
      "Últimos tres elementos: [48 49 50]\n",
      "Elementos entre el 4 y el 8 (incluidos): [5 6 7 8 9]\n"
     ]
    }
   ],
   "source": [
    "\"\"\"\n",
    "1. Crea un array unidimensional con 50 elementos con el método que prefieras y extrae: \n",
    "\n",
    "    - El primer elemento.\n",
    "\n",
    "\n",
    "    - Lo elementos que están en posición impar.\n",
    "\n",
    "\n",
    "    - Los cuatro primeros elementos.\n",
    "\n",
    "\n",
    "    - Los últimos tres elementos.\n",
    "\n",
    "\n",
    "    - Los elementos entre el 4 y el 8 (incluido). \n",
    "\n",
    "\"\"\"\n",
    "\n",
    "# Crear un array unidimensional con 50 elementos\n",
    "array_50 = np.arange(1, 51)\n",
    "\n",
    "# Extraer el primer elemento\n",
    "primer_elemento = array_50[0]\n",
    "\n",
    "# Extraer los elementos en posiciones impares\n",
    "elementos_impares = array_50[1::2]\n",
    "\n",
    "# Extraer los cuatro primeros elementos\n",
    "primeros_cuatro = array_50[:4]\n",
    "\n",
    "# Extraer los últimos tres elementos\n",
    "ultimos_tres = array_50[-3:]\n",
    "\n",
    "# Extraer los elementos entre el 4 y el 8 (incluidos)\n",
    "entre_4_y_8 = array_50[4:9]\n",
    "\n",
    "# Imprimir los resultados\n",
    "print(\"Primer elemento:\", primer_elemento)\n",
    "print(\"Elementos en posiciones impares:\", elementos_impares)\n",
    "print(\"Cuatro primeros elementos:\", primeros_cuatro)\n",
    "print(\"Últimos tres elementos:\", ultimos_tres)\n",
    "print(\"Elementos entre el 4 y el 8 (incluidos):\", entre_4_y_8)"
   ]
  },
  {
   "cell_type": "code",
   "execution_count": 3,
   "metadata": {},
   "outputs": [
    {
     "name": "stdout",
     "output_type": "stream",
     "text": [
      "mi array 2D es: [[ 5 47 31 48 39]\n",
      " [ 3 27 33 34 11]\n",
      " [24 18 46 19 29]\n",
      " [26 33 45 29  4]]\n",
      "\n",
      "Primera fila y todas las columnas: [ 5 47 31 48 39]\n",
      "\n",
      "Todas las filas pares: [[ 5 47 31 48 39]\n",
      " [24 18 46 19 29]]\n",
      "\n",
      "Primera columna y todas las filas: [ 5  3 24 26]\n"
     ]
    }
   ],
   "source": [
    "\"\"\"\n",
    "    2. Crea un array de dos dimensiones de 4 x 5 con el método que prefieras y extrae:\n",
    "\n",
    "    - La primera fila y todas las columnas.\n",
    "\n",
    "\n",
    "    - Todas las filas pares.\n",
    "\n",
    "\n",
    "    - La primera columna y todas las filas.\n",
    "\"\"\"\n",
    "\n",
    "# Crear un array bidimensional de 4x5 usando el metodo random.randint()\n",
    "array_2d = np.random.randint(0, 50, (4,5))\n",
    "\n",
    "# Extraer la primera fila y todas las columnas\n",
    "primera_fila_todas_columnas = array_2d[0, :]\n",
    "\n",
    "# Extraer todas las filas pares\n",
    "todas_filas_pares = array_2d[::2, :]\n",
    "\n",
    "# Extraer la primera columna y todas las filas\n",
    "primera_columna_todas_filas = array_2d[:, 0]\n",
    "\n",
    "# Imprimir los resultados\n",
    "print(\"mi array 2D es:\",array_2d)\n",
    "\n",
    "print(\"\\nPrimera fila y todas las columnas:\",primera_fila_todas_columnas)\n",
    "\n",
    "print(\"\\nTodas las filas pares:\", todas_filas_pares)\n",
    "\n",
    "print(\"\\nPrimera columna y todas las filas:\",primera_columna_todas_filas)\n"
   ]
  }
 ],
 "metadata": {
  "kernelspec": {
   "display_name": "base",
   "language": "python",
   "name": "python3"
  },
  "language_info": {
   "codemirror_mode": {
    "name": "ipython",
    "version": 3
   },
   "file_extension": ".py",
   "mimetype": "text/x-python",
   "name": "python",
   "nbconvert_exporter": "python",
   "pygments_lexer": "ipython3",
   "version": "3.9.7"
  }
 },
 "nbformat": 4,
 "nbformat_minor": 2
}
