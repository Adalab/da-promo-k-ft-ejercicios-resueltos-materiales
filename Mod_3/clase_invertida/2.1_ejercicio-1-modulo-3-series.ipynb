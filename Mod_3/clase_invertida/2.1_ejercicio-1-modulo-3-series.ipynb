{
 "cells": [
  {
   "cell_type": "markdown",
   "metadata": {},
   "source": [
    "# Ejercicios\n",
    "\n",
    "\n",
    "1. Crea una serie con nuemeros correlativos entre 1 y 12 inclusive (puedes hacerlo como lista o diccionario): \n",
    "\n",
    "    - Cambia el indice de la serie anteriormente creada para que comience con el numero 20.\n",
    "\n",
    "\n",
    "    - Nuevamente cambia el indice de la serie, esta vez con una lista que haga referencia a los meses del año (tenemos 12 elementos como la cantidad de meses del año).\n",
    "\n",
    "    - Muestra los valores que estan en la posicion 3 y 8 de mi serie.\n",
    "\n",
    "    - Muestra los valores que estan etiquetados en enero y agosto.\n",
    "  \n",
    "    - Muestra sus valores, indices, forma, tamaño y el tipo de elementos de la serie."
   ]
  },
  {
   "cell_type": "code",
   "execution_count": 1,
   "metadata": {},
   "outputs": [],
   "source": [
    "# importando librerias\n",
    "import pandas as pd"
   ]
  },
  {
   "cell_type": "code",
   "execution_count": 2,
   "metadata": {},
   "outputs": [
    {
     "name": "stdout",
     "output_type": "stream",
     "text": [
      "Serie inicial:\n",
      " 0      1\n",
      "1      2\n",
      "2      3\n",
      "3      4\n",
      "4      5\n",
      "5      6\n",
      "6      7\n",
      "7      8\n",
      "8      9\n",
      "9     10\n",
      "10    11\n",
      "11    12\n",
      "dtype: int64\n"
     ]
    }
   ],
   "source": [
    "# Paso 1: Crear una serie con números correlativos entre 1 y 12 inclusive\n",
    "serie = pd.Series(range(1, 13))\n",
    "print(\"Serie inicial:\\n\", serie)"
   ]
  },
  {
   "cell_type": "code",
   "execution_count": 3,
   "metadata": {},
   "outputs": [
    {
     "name": "stdout",
     "output_type": "stream",
     "text": [
      "\n",
      "Serie con índice comenzando en 20:\n",
      " 20     1\n",
      "21     2\n",
      "22     3\n",
      "23     4\n",
      "24     5\n",
      "25     6\n",
      "26     7\n",
      "27     8\n",
      "28     9\n",
      "29    10\n",
      "30    11\n",
      "31    12\n",
      "dtype: int64\n"
     ]
    }
   ],
   "source": [
    "# Paso 2: Cambiar el índice de la serie para que comience con el número 20\n",
    "serie.index = range(20, 32)\n",
    "print(\"\\nSerie con índice comenzando en 20:\\n\", serie)"
   ]
  },
  {
   "cell_type": "code",
   "execution_count": 4,
   "metadata": {},
   "outputs": [
    {
     "name": "stdout",
     "output_type": "stream",
     "text": [
      "\n",
      "Serie con índice de meses del año:\n",
      " Enero          1\n",
      "Febrero        2\n",
      "Marzo          3\n",
      "Abril          4\n",
      "Mayo           5\n",
      "Junio          6\n",
      "Julio          7\n",
      "Agosto         8\n",
      "Septiembre     9\n",
      "Octubre       10\n",
      "Noviembre     11\n",
      "Diciembre     12\n",
      "dtype: int64\n"
     ]
    }
   ],
   "source": [
    "# Paso 3: Cambiar el índice de la serie con una lista que haga referencia a los meses del año\n",
    "meses = ['Enero', 'Febrero', 'Marzo', 'Abril', 'Mayo', 'Junio', \n",
    "         'Julio', 'Agosto', 'Septiembre', 'Octubre', 'Noviembre', 'Diciembre']\n",
    "serie.index = meses\n",
    "print(\"\\nSerie con índice de meses del año:\\n\", serie)"
   ]
  },
  {
   "cell_type": "code",
   "execution_count": 6,
   "metadata": {},
   "outputs": [
    {
     "name": "stdout",
     "output_type": "stream",
     "text": [
      "\n",
      "Valor en la posición 3: 4\n",
      "Valor en la posición 8: 9\n"
     ]
    }
   ],
   "source": [
    "# Paso 4: Mostrar los valores que están en la posición 3 y 8 de la serie\n",
    "valor_posicion_3 = serie.iloc[3]  # Recordar que iloc usa índice basado en 0\n",
    "valor_posicion_8 = serie.iloc[8]\n",
    "print(\"\\nValor en la posición 3:\", valor_posicion_3)\n",
    "print(\"Valor en la posición 8:\", valor_posicion_8)"
   ]
  },
  {
   "cell_type": "code",
   "execution_count": 7,
   "metadata": {},
   "outputs": [
    {
     "name": "stdout",
     "output_type": "stream",
     "text": [
      "\n",
      "Valor en Enero: 1\n",
      "Valor en Agosto: 8\n"
     ]
    }
   ],
   "source": [
    "# Paso 5: Mostrar los valores que están etiquetados en enero y agosto\n",
    "valor_enero = serie['Enero']\n",
    "valor_agosto = serie['Agosto']\n",
    "print(\"\\nValor en Enero:\", valor_enero)\n",
    "print(\"Valor en Agosto:\", valor_agosto)"
   ]
  },
  {
   "cell_type": "code",
   "execution_count": 8,
   "metadata": {},
   "outputs": [
    {
     "name": "stdout",
     "output_type": "stream",
     "text": [
      "\n",
      "Valores de la serie:\n",
      " [ 1  2  3  4  5  6  7  8  9 10 11 12]\n",
      "Índices de la serie:\n",
      " Index(['Enero', 'Febrero', 'Marzo', 'Abril', 'Mayo', 'Junio', 'Julio',\n",
      "       'Agosto', 'Septiembre', 'Octubre', 'Noviembre', 'Diciembre'],\n",
      "      dtype='object')\n",
      "Forma de la serie: (12,)\n",
      "Tamaño de la serie: 12\n",
      "Tipo de elementos de la serie: int64\n"
     ]
    }
   ],
   "source": [
    "# Paso 6: Mostrar valores, índices, forma, tamaño y el tipo de elementos de la serie\n",
    "print(\"\\nValores de la serie:\\n\", serie.values)\n",
    "print(\"Índices de la serie:\\n\", serie.index)\n",
    "print(\"Forma de la serie:\", serie.shape)\n",
    "print(\"Tamaño de la serie:\", serie.size)\n",
    "print(\"Tipo de elementos de la serie:\", serie.dtype)"
   ]
  }
 ],
 "metadata": {
  "kernelspec": {
   "display_name": "base",
   "language": "python",
   "name": "python3"
  },
  "language_info": {
   "codemirror_mode": {
    "name": "ipython",
    "version": 3
   },
   "file_extension": ".py",
   "mimetype": "text/x-python",
   "name": "python",
   "nbconvert_exporter": "python",
   "pygments_lexer": "ipython3",
   "version": "3.9.7"
  }
 },
 "nbformat": 4,
 "nbformat_minor": 2
}
