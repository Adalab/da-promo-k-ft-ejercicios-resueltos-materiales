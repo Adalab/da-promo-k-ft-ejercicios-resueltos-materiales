{
 "cells": [
  {
   "cell_type": "markdown",
   "metadata": {},
   "source": [
    "# Ejercicios\n",
    "\n",
    "\n",
    "1. Crea un *array* bidimensional con 20 elementos aleatrorios entre 0 y 50 con el método que prefieras y: \n",
    "\n",
    "    - Crea una mascara o filtro donde los valores mayores a 30 y menores a 10 se reemplace por \"objetivo\" y el resto por \"no es mi objetivo\".\n",
    "\n",
    "\n",
    "    - Los valores de mi array bidimensional multiplicalos por el escalar 10.\n",
    "\n",
    "\n",
    "2. Crea un nuevo *array* de dos dimensiones con la misma forma que el anterior y con el método que prefieras y realiz lo siguiente:\n",
    "\n",
    "    - Suma el primer array con el segundo.\n",
    "\n",
    "\n",
    "    - Aplicar la potencia para el primer array elevado al segundo."
   ]
  },
  {
   "cell_type": "code",
   "execution_count": 1,
   "metadata": {},
   "outputs": [],
   "source": [
    "# treamos las librerias!\n",
    "import numpy as np"
   ]
  },
  {
   "cell_type": "code",
   "execution_count": 7,
   "metadata": {},
   "outputs": [
    {
     "name": "stdout",
     "output_type": "stream",
     "text": [
      "mi array\n",
      "[[ 4 46  9  2 20]\n",
      " [12 25 10  4 43]\n",
      " [14 38 21 44 44]\n",
      " [ 3 46 33  6 25]]\n",
      "\n",
      "Máscara:\n",
      "[['objetivo' 'objetivo' 'objetivo' 'objetivo' 'no es mi objetivo']\n",
      " ['no es mi objetivo' 'no es mi objetivo' 'no es mi objetivo' 'objetivo'\n",
      "  'objetivo']\n",
      " ['no es mi objetivo' 'objetivo' 'no es mi objetivo' 'objetivo'\n",
      "  'objetivo']\n",
      " ['objetivo' 'objetivo' 'objetivo' 'objetivo' 'no es mi objetivo']]\n",
      "\n",
      "Array multiplicado por 10:\n",
      "[[ 40 460  90  20 200]\n",
      " [120 250 100  40 430]\n",
      " [140 380 210 440 440]\n",
      " [ 30 460 330  60 250]]\n"
     ]
    }
   ],
   "source": [
    "\"\"\"\n",
    "1. Crea un *array* bidimensional con 20 elementos aleatrorios entre 0 y 50 con el método que prefieras y: \n",
    "\n",
    "    - Crea una mascara o filtro donde los valores mayores a 30 y menores a 10 se reemplace por \"objetivo\" y el resto por \"no es mi objetivo\".\n",
    "\n",
    "\n",
    "    - Los valores de mi array bidimensional multiplicalos por el escalar 10.\n",
    "\"\"\"\n",
    "\n",
    "# creando mi array de 20 elementos aleatorios entre 0 y 50\n",
    "array = np.random.randint(0, 51, size=(4, 5))\n",
    "print(\"mi array\")\n",
    "print(array)\n",
    "\n",
    "# creando la mascara\n",
    "mascara = np.where((array > 30) | (array < 10), \"objetivo\", \"no es mi objetivo\")\n",
    "print(\"\\nMáscara:\")\n",
    "print(mascara)\n",
    "\n",
    "# Multiplicar el array original por el escalar 10\n",
    "array_mult = array * 10\n",
    "print(\"\\nArray multiplicado por 10:\")\n",
    "print(array_mult)"
   ]
  },
  {
   "cell_type": "code",
   "execution_count": 10,
   "metadata": {},
   "outputs": [
    {
     "name": "stdout",
     "output_type": "stream",
     "text": [
      "Nuevo array:\n",
      " [[ 9 30 34 38 17]\n",
      " [17  2 19 20  5]\n",
      " [27 26 24 31 18]\n",
      " [10  8 30 44 41]]\n",
      "-*-*-*-*-*-*-*-*-*-*-*-*-*-*-*-\n",
      "Primer array:\n",
      " [[ 4 46  9  2 20]\n",
      " [12 25 10  4 43]\n",
      " [14 38 21 44 44]\n",
      " [ 3 46 33  6 25]]\n",
      "-*-*-*-*-*-*-*-*-*-*-*-*-*-*-*-\n",
      "Suma de los arrays:\n",
      " [[13 76 43 40 37]\n",
      " [29 27 29 24 48]\n",
      " [41 64 45 75 62]\n",
      " [13 54 63 50 66]]\n",
      "-*-*-*-*-*-*-*-*-*-*-*-*-*-*-*-\n",
      "Potencia del primer array elevado al segundo:\n",
      " [[     262144  1073741824  1897516369           0           0]\n",
      " [          0         625 -1981284352           0   147008443]\n",
      " [-1207959552   603979776  1547765025           0           0]\n",
      " [      59049 -1295105792  -859516991           0  -656920359]]\n"
     ]
    }
   ],
   "source": [
    "\"\"\"\n",
    "2. Crea un nuevo *array* de dos dimensiones con la misma forma que el anterior y con el método que prefieras y realiza lo siguiente:\n",
    "\n",
    "    - Suma el primer array con el segundo.\n",
    "\n",
    "\n",
    "    - Aplicar la potencia para el primer array elevado al segundo.\n",
    "\"\"\"\n",
    "\n",
    "# Crear un nuevo array bidimensional con la misma forma\n",
    "nuevo_array = np.random.randint(0, 51, size=(4, 5))\n",
    "print(\"Nuevo array:\\n\", nuevo_array)\n",
    "\n",
    "print(\"-*-*-*-*-*-*-*-*-*-*-*-*-*-*-*-\")\n",
    "\n",
    "# mostrar el primer array\n",
    "print(\"Primer array:\\n\", array)\n",
    "\n",
    "print(\"-*-*-*-*-*-*-*-*-*-*-*-*-*-*-*-\")\n",
    "\n",
    "# Sumar el primer array con el segundo\n",
    "suma_arrays = array + nuevo_array\n",
    "print(\"Suma de los arrays:\\n\", suma_arrays)\n",
    "\n",
    "print(\"-*-*-*-*-*-*-*-*-*-*-*-*-*-*-*-\")\n",
    "\n",
    "# Aplicar la potencia del primer array elevado al segundo\n",
    "potencia_arrays = np.power(array, nuevo_array)\n",
    "print(\"Potencia del primer array elevado al segundo:\\n\", potencia_arrays)"
   ]
  },
  {
   "cell_type": "markdown",
   "metadata": {},
   "source": [
    "Hay valores en cero por desbordamiento del tipo de elemento, en este caso son valores del tipo int32."
   ]
  }
 ],
 "metadata": {
  "kernelspec": {
   "display_name": "base",
   "language": "python",
   "name": "python3"
  },
  "language_info": {
   "codemirror_mode": {
    "name": "ipython",
    "version": 3
   },
   "file_extension": ".py",
   "mimetype": "text/x-python",
   "name": "python",
   "nbconvert_exporter": "python",
   "pygments_lexer": "ipython3",
   "version": "3.9.7"
  }
 },
 "nbformat": 4,
 "nbformat_minor": 2
}
